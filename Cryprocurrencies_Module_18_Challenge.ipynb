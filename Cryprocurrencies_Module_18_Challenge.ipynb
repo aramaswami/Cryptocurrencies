{
 "cells": [
  {
   "cell_type": "code",
   "execution_count": 46,
   "metadata": {},
   "outputs": [],
   "source": [
    "import pandas as pd\n",
    "import plotly.express as px\n",
    "import hvplot.pandas\n",
    "from sklearn.cluster import KMeans\n",
    "\n",
    "from sklearn.preprocessing import StandardScaler\n",
    "from sklearn.decomposition import PCA\n",
    "from sklearn.cluster import AgglomerativeClustering\n",
    "\n",
    "import holoviews as hv\n",
    "from holoviews import opts\n",
    "\n",
    "import plotly.figure_factory as ff"
   ]
  },
  {
   "cell_type": "code",
   "execution_count": 47,
   "metadata": {},
   "outputs": [
    {
     "data": {
      "text/html": [
       "<div>\n",
       "<style scoped>\n",
       "    .dataframe tbody tr th:only-of-type {\n",
       "        vertical-align: middle;\n",
       "    }\n",
       "\n",
       "    .dataframe tbody tr th {\n",
       "        vertical-align: top;\n",
       "    }\n",
       "\n",
       "    .dataframe thead th {\n",
       "        text-align: right;\n",
       "    }\n",
       "</style>\n",
       "<table border=\"1\" class=\"dataframe\">\n",
       "  <thead>\n",
       "    <tr style=\"text-align: right;\">\n",
       "      <th></th>\n",
       "      <th>CoinName</th>\n",
       "      <th>Algorithm</th>\n",
       "      <th>IsTrading</th>\n",
       "      <th>ProofType</th>\n",
       "      <th>TotalCoinsMined</th>\n",
       "      <th>TotalCoinSupply</th>\n",
       "    </tr>\n",
       "  </thead>\n",
       "  <tbody>\n",
       "    <tr>\n",
       "      <th>42</th>\n",
       "      <td>42 Coin</td>\n",
       "      <td>Scrypt</td>\n",
       "      <td>True</td>\n",
       "      <td>PoW/PoS</td>\n",
       "      <td>4.199995e+01</td>\n",
       "      <td>42</td>\n",
       "    </tr>\n",
       "    <tr>\n",
       "      <th>365</th>\n",
       "      <td>365Coin</td>\n",
       "      <td>X11</td>\n",
       "      <td>True</td>\n",
       "      <td>PoW/PoS</td>\n",
       "      <td>NaN</td>\n",
       "      <td>2300000000</td>\n",
       "    </tr>\n",
       "    <tr>\n",
       "      <th>404</th>\n",
       "      <td>404Coin</td>\n",
       "      <td>Scrypt</td>\n",
       "      <td>True</td>\n",
       "      <td>PoW/PoS</td>\n",
       "      <td>1.055185e+09</td>\n",
       "      <td>532000000</td>\n",
       "    </tr>\n",
       "    <tr>\n",
       "      <th>611</th>\n",
       "      <td>SixEleven</td>\n",
       "      <td>SHA-256</td>\n",
       "      <td>True</td>\n",
       "      <td>PoW</td>\n",
       "      <td>NaN</td>\n",
       "      <td>611000</td>\n",
       "    </tr>\n",
       "    <tr>\n",
       "      <th>808</th>\n",
       "      <td>808</td>\n",
       "      <td>SHA-256</td>\n",
       "      <td>True</td>\n",
       "      <td>PoW/PoS</td>\n",
       "      <td>0.000000e+00</td>\n",
       "      <td>0</td>\n",
       "    </tr>\n",
       "  </tbody>\n",
       "</table>\n",
       "</div>"
      ],
      "text/plain": [
       "      CoinName Algorithm  IsTrading ProofType  TotalCoinsMined TotalCoinSupply\n",
       "42     42 Coin    Scrypt       True   PoW/PoS     4.199995e+01              42\n",
       "365    365Coin       X11       True   PoW/PoS              NaN      2300000000\n",
       "404    404Coin    Scrypt       True   PoW/PoS     1.055185e+09       532000000\n",
       "611  SixEleven   SHA-256       True       PoW              NaN          611000\n",
       "808        808   SHA-256       True   PoW/PoS     0.000000e+00               0"
      ]
     },
     "execution_count": 47,
     "metadata": {},
     "output_type": "execute_result"
    }
   ],
   "source": [
    "#read crypto csv\n",
    "#iris_df =  pd.read_csv('./Resources/iris.csv')\n",
    "#iris_df.head()\n",
    "\n",
    "#read csv specify index col parameter index_col_#\n",
    "crypto_df =  pd.read_csv('./Resources/crypto_data.csv',index_col=0)\n",
    "crypto_df.head()\n",
    "\n"
   ]
  },
  {
   "cell_type": "code",
   "execution_count": 48,
   "metadata": {},
   "outputs": [
    {
     "data": {
      "text/plain": [
       "(1252, 6)"
      ]
     },
     "execution_count": 48,
     "metadata": {},
     "output_type": "execute_result"
    }
   ],
   "source": [
    "crypto_df.shape"
   ]
  },
  {
   "cell_type": "code",
   "execution_count": 49,
   "metadata": {},
   "outputs": [],
   "source": [
    "#Remove all cryptocurrencies that aren’t trading\n",
    "crypto_df_istrade=crypto_df[crypto_df['IsTrading'] == True]"
   ]
  },
  {
   "cell_type": "code",
   "execution_count": 50,
   "metadata": {},
   "outputs": [
    {
     "data": {
      "text/plain": [
       "(1144, 6)"
      ]
     },
     "execution_count": 50,
     "metadata": {},
     "output_type": "execute_result"
    }
   ],
   "source": [
    "crypto_df_istrade.shape"
   ]
  },
  {
   "cell_type": "code",
   "execution_count": 51,
   "metadata": {},
   "outputs": [],
   "source": [
    "#Remove all cryptocurrencies that don’t have an algorithm defined\n",
    "crypto_df_algo=crypto_df_istrade[crypto_df_istrade['Algorithm'] != 'Multiple']"
   ]
  },
  {
   "cell_type": "code",
   "execution_count": 52,
   "metadata": {},
   "outputs": [
    {
     "data": {
      "text/plain": [
       "(1126, 6)"
      ]
     },
     "execution_count": 52,
     "metadata": {},
     "output_type": "execute_result"
    }
   ],
   "source": [
    "crypto_df_algo.shape"
   ]
  },
  {
   "cell_type": "code",
   "execution_count": 53,
   "metadata": {},
   "outputs": [
    {
     "data": {
      "text/html": [
       "<div>\n",
       "<style scoped>\n",
       "    .dataframe tbody tr th:only-of-type {\n",
       "        vertical-align: middle;\n",
       "    }\n",
       "\n",
       "    .dataframe tbody tr th {\n",
       "        vertical-align: top;\n",
       "    }\n",
       "\n",
       "    .dataframe thead th {\n",
       "        text-align: right;\n",
       "    }\n",
       "</style>\n",
       "<table border=\"1\" class=\"dataframe\">\n",
       "  <thead>\n",
       "    <tr style=\"text-align: right;\">\n",
       "      <th></th>\n",
       "      <th>CoinName</th>\n",
       "      <th>Algorithm</th>\n",
       "      <th>ProofType</th>\n",
       "      <th>TotalCoinsMined</th>\n",
       "      <th>TotalCoinSupply</th>\n",
       "    </tr>\n",
       "  </thead>\n",
       "  <tbody>\n",
       "    <tr>\n",
       "      <th>42</th>\n",
       "      <td>42 Coin</td>\n",
       "      <td>Scrypt</td>\n",
       "      <td>PoW/PoS</td>\n",
       "      <td>4.199995e+01</td>\n",
       "      <td>42</td>\n",
       "    </tr>\n",
       "    <tr>\n",
       "      <th>365</th>\n",
       "      <td>365Coin</td>\n",
       "      <td>X11</td>\n",
       "      <td>PoW/PoS</td>\n",
       "      <td>NaN</td>\n",
       "      <td>2300000000</td>\n",
       "    </tr>\n",
       "    <tr>\n",
       "      <th>404</th>\n",
       "      <td>404Coin</td>\n",
       "      <td>Scrypt</td>\n",
       "      <td>PoW/PoS</td>\n",
       "      <td>1.055185e+09</td>\n",
       "      <td>532000000</td>\n",
       "    </tr>\n",
       "    <tr>\n",
       "      <th>611</th>\n",
       "      <td>SixEleven</td>\n",
       "      <td>SHA-256</td>\n",
       "      <td>PoW</td>\n",
       "      <td>NaN</td>\n",
       "      <td>611000</td>\n",
       "    </tr>\n",
       "    <tr>\n",
       "      <th>808</th>\n",
       "      <td>808</td>\n",
       "      <td>SHA-256</td>\n",
       "      <td>PoW/PoS</td>\n",
       "      <td>0.000000e+00</td>\n",
       "      <td>0</td>\n",
       "    </tr>\n",
       "  </tbody>\n",
       "</table>\n",
       "</div>"
      ],
      "text/plain": [
       "      CoinName Algorithm ProofType  TotalCoinsMined TotalCoinSupply\n",
       "42     42 Coin    Scrypt   PoW/PoS     4.199995e+01              42\n",
       "365    365Coin       X11   PoW/PoS              NaN      2300000000\n",
       "404    404Coin    Scrypt   PoW/PoS     1.055185e+09       532000000\n",
       "611  SixEleven   SHA-256       PoW              NaN          611000\n",
       "808        808   SHA-256   PoW/PoS     0.000000e+00               0"
      ]
     },
     "execution_count": 53,
     "metadata": {},
     "output_type": "execute_result"
    }
   ],
   "source": [
    "#Remove the IsTrading column\n",
    "crypto_df_extrade=crypto_df_algo.drop(['IsTrading'],axis=1)\n",
    "crypto_df_extrade.head()"
   ]
  },
  {
   "cell_type": "code",
   "execution_count": 54,
   "metadata": {},
   "outputs": [
    {
     "data": {
      "text/plain": [
       "CoinName            object\n",
       "Algorithm           object\n",
       "ProofType           object\n",
       "TotalCoinsMined    float64\n",
       "TotalCoinSupply     object\n",
       "dtype: object"
      ]
     },
     "execution_count": 54,
     "metadata": {},
     "output_type": "execute_result"
    }
   ],
   "source": [
    "crypto_df_extrade.dtypes"
   ]
  },
  {
   "cell_type": "code",
   "execution_count": 55,
   "metadata": {},
   "outputs": [
    {
     "data": {
      "text/plain": [
       "(1126, 5)"
      ]
     },
     "execution_count": 55,
     "metadata": {},
     "output_type": "execute_result"
    }
   ],
   "source": [
    "crypto_df_extrade.shape"
   ]
  },
  {
   "cell_type": "code",
   "execution_count": 56,
   "metadata": {},
   "outputs": [
    {
     "name": "stdout",
     "output_type": "stream",
     "text": [
      "ColumnCoinName has 0 null values\n",
      "ColumnAlgorithm has 0 null values\n",
      "ColumnProofType has 0 null values\n",
      "ColumnTotalCoinsMined has 452 null values\n",
      "ColumnTotalCoinSupply has 0 null values\n"
     ]
    }
   ],
   "source": [
    "#Remove all cryptocurrencies with at least one null value\n",
    "for column in crypto_df_extrade.columns:\n",
    "    print(f\"Column{column} has {crypto_df_extrade[column].isnull().sum()} null values\" )"
   ]
  },
  {
   "cell_type": "code",
   "execution_count": 57,
   "metadata": {},
   "outputs": [
    {
     "data": {
      "text/html": [
       "<div>\n",
       "<style scoped>\n",
       "    .dataframe tbody tr th:only-of-type {\n",
       "        vertical-align: middle;\n",
       "    }\n",
       "\n",
       "    .dataframe tbody tr th {\n",
       "        vertical-align: top;\n",
       "    }\n",
       "\n",
       "    .dataframe thead th {\n",
       "        text-align: right;\n",
       "    }\n",
       "</style>\n",
       "<table border=\"1\" class=\"dataframe\">\n",
       "  <thead>\n",
       "    <tr style=\"text-align: right;\">\n",
       "      <th></th>\n",
       "      <th>CoinName</th>\n",
       "      <th>Algorithm</th>\n",
       "      <th>ProofType</th>\n",
       "      <th>TotalCoinsMined</th>\n",
       "      <th>TotalCoinSupply</th>\n",
       "    </tr>\n",
       "  </thead>\n",
       "  <tbody>\n",
       "    <tr>\n",
       "      <th>42</th>\n",
       "      <td>42 Coin</td>\n",
       "      <td>Scrypt</td>\n",
       "      <td>PoW/PoS</td>\n",
       "      <td>4.199995e+01</td>\n",
       "      <td>42</td>\n",
       "    </tr>\n",
       "    <tr>\n",
       "      <th>404</th>\n",
       "      <td>404Coin</td>\n",
       "      <td>Scrypt</td>\n",
       "      <td>PoW/PoS</td>\n",
       "      <td>1.055185e+09</td>\n",
       "      <td>532000000</td>\n",
       "    </tr>\n",
       "    <tr>\n",
       "      <th>808</th>\n",
       "      <td>808</td>\n",
       "      <td>SHA-256</td>\n",
       "      <td>PoW/PoS</td>\n",
       "      <td>0.000000e+00</td>\n",
       "      <td>0</td>\n",
       "    </tr>\n",
       "    <tr>\n",
       "      <th>1337</th>\n",
       "      <td>EliteCoin</td>\n",
       "      <td>X13</td>\n",
       "      <td>PoW/PoS</td>\n",
       "      <td>2.927942e+10</td>\n",
       "      <td>314159265359</td>\n",
       "    </tr>\n",
       "    <tr>\n",
       "      <th>BTC</th>\n",
       "      <td>Bitcoin</td>\n",
       "      <td>SHA-256</td>\n",
       "      <td>PoW</td>\n",
       "      <td>1.792718e+07</td>\n",
       "      <td>21000000</td>\n",
       "    </tr>\n",
       "  </tbody>\n",
       "</table>\n",
       "</div>"
      ],
      "text/plain": [
       "       CoinName Algorithm ProofType  TotalCoinsMined TotalCoinSupply\n",
       "42      42 Coin    Scrypt   PoW/PoS     4.199995e+01              42\n",
       "404     404Coin    Scrypt   PoW/PoS     1.055185e+09       532000000\n",
       "808         808   SHA-256   PoW/PoS     0.000000e+00               0\n",
       "1337  EliteCoin       X13   PoW/PoS     2.927942e+10    314159265359\n",
       "BTC     Bitcoin   SHA-256       PoW     1.792718e+07        21000000"
      ]
     },
     "execution_count": 57,
     "metadata": {},
     "output_type": "execute_result"
    }
   ],
   "source": [
    "#crypto_df_extrade.dropna(how='any',inplace=True)\n",
    "\n",
    "crypto_df_extrade_null = crypto_df_extrade.dropna()\n",
    "\n",
    "crypto_df_extrade_null.head()"
   ]
  },
  {
   "cell_type": "code",
   "execution_count": 58,
   "metadata": {},
   "outputs": [
    {
     "data": {
      "text/plain": [
       "(674, 5)"
      ]
     },
     "execution_count": 58,
     "metadata": {},
     "output_type": "execute_result"
    }
   ],
   "source": [
    "crypto_df_extrade_null.shape"
   ]
  },
  {
   "cell_type": "code",
   "execution_count": 59,
   "metadata": {},
   "outputs": [
    {
     "data": {
      "text/html": [
       "<div>\n",
       "<style scoped>\n",
       "    .dataframe tbody tr th:only-of-type {\n",
       "        vertical-align: middle;\n",
       "    }\n",
       "\n",
       "    .dataframe tbody tr th {\n",
       "        vertical-align: top;\n",
       "    }\n",
       "\n",
       "    .dataframe thead th {\n",
       "        text-align: right;\n",
       "    }\n",
       "</style>\n",
       "<table border=\"1\" class=\"dataframe\">\n",
       "  <thead>\n",
       "    <tr style=\"text-align: right;\">\n",
       "      <th></th>\n",
       "      <th>CoinName</th>\n",
       "      <th>Algorithm</th>\n",
       "      <th>ProofType</th>\n",
       "      <th>TotalCoinsMined</th>\n",
       "      <th>TotalCoinSupply</th>\n",
       "    </tr>\n",
       "  </thead>\n",
       "  <tbody>\n",
       "    <tr>\n",
       "      <th>42</th>\n",
       "      <td>42 Coin</td>\n",
       "      <td>Scrypt</td>\n",
       "      <td>PoW/PoS</td>\n",
       "      <td>4.199995e+01</td>\n",
       "      <td>42</td>\n",
       "    </tr>\n",
       "    <tr>\n",
       "      <th>404</th>\n",
       "      <td>404Coin</td>\n",
       "      <td>Scrypt</td>\n",
       "      <td>PoW/PoS</td>\n",
       "      <td>1.055185e+09</td>\n",
       "      <td>532000000</td>\n",
       "    </tr>\n",
       "    <tr>\n",
       "      <th>1337</th>\n",
       "      <td>EliteCoin</td>\n",
       "      <td>X13</td>\n",
       "      <td>PoW/PoS</td>\n",
       "      <td>2.927942e+10</td>\n",
       "      <td>314159265359</td>\n",
       "    </tr>\n",
       "    <tr>\n",
       "      <th>BTC</th>\n",
       "      <td>Bitcoin</td>\n",
       "      <td>SHA-256</td>\n",
       "      <td>PoW</td>\n",
       "      <td>1.792718e+07</td>\n",
       "      <td>21000000</td>\n",
       "    </tr>\n",
       "    <tr>\n",
       "      <th>ETH</th>\n",
       "      <td>Ethereum</td>\n",
       "      <td>Ethash</td>\n",
       "      <td>PoW</td>\n",
       "      <td>1.076842e+08</td>\n",
       "      <td>0</td>\n",
       "    </tr>\n",
       "  </tbody>\n",
       "</table>\n",
       "</div>"
      ],
      "text/plain": [
       "       CoinName Algorithm ProofType  TotalCoinsMined TotalCoinSupply\n",
       "42      42 Coin    Scrypt   PoW/PoS     4.199995e+01              42\n",
       "404     404Coin    Scrypt   PoW/PoS     1.055185e+09       532000000\n",
       "1337  EliteCoin       X13   PoW/PoS     2.927942e+10    314159265359\n",
       "BTC     Bitcoin   SHA-256       PoW     1.792718e+07        21000000\n",
       "ETH    Ethereum    Ethash       PoW     1.076842e+08               0"
      ]
     },
     "execution_count": 59,
     "metadata": {},
     "output_type": "execute_result"
    }
   ],
   "source": [
    "#Remove all cryptocurrencies without coins mined\n",
    "crypto_df_mined=crypto_df_extrade_null[crypto_df_extrade_null['TotalCoinsMined'] != 0]\n",
    "crypto_df_mined.head()"
   ]
  },
  {
   "cell_type": "code",
   "execution_count": 60,
   "metadata": {},
   "outputs": [
    {
     "data": {
      "text/plain": [
       "(524, 5)"
      ]
     },
     "execution_count": 60,
     "metadata": {},
     "output_type": "execute_result"
    }
   ],
   "source": [
    "crypto_df_mined.shape"
   ]
  },
  {
   "cell_type": "code",
   "execution_count": 61,
   "metadata": {},
   "outputs": [
    {
     "data": {
      "text/plain": [
       "(524, 1)"
      ]
     },
     "execution_count": 61,
     "metadata": {},
     "output_type": "execute_result"
    }
   ],
   "source": [
    "#Store the names of all cryptocurrencies on a DataFramed named coins_name\n",
    "#use the crypto_df.index as the index for this new DataFrame.\n",
    "\n",
    "coins_name_df = crypto_df_mined.filter(['CoinName'], axis=1)\n",
    "coins_name_df.shape"
   ]
  },
  {
   "cell_type": "code",
   "execution_count": 62,
   "metadata": {},
   "outputs": [
    {
     "data": {
      "text/html": [
       "<div>\n",
       "<style scoped>\n",
       "    .dataframe tbody tr th:only-of-type {\n",
       "        vertical-align: middle;\n",
       "    }\n",
       "\n",
       "    .dataframe tbody tr th {\n",
       "        vertical-align: top;\n",
       "    }\n",
       "\n",
       "    .dataframe thead th {\n",
       "        text-align: right;\n",
       "    }\n",
       "</style>\n",
       "<table border=\"1\" class=\"dataframe\">\n",
       "  <thead>\n",
       "    <tr style=\"text-align: right;\">\n",
       "      <th></th>\n",
       "      <th>CoinName</th>\n",
       "    </tr>\n",
       "  </thead>\n",
       "  <tbody>\n",
       "    <tr>\n",
       "      <th>42</th>\n",
       "      <td>42 Coin</td>\n",
       "    </tr>\n",
       "    <tr>\n",
       "      <th>404</th>\n",
       "      <td>404Coin</td>\n",
       "    </tr>\n",
       "    <tr>\n",
       "      <th>1337</th>\n",
       "      <td>EliteCoin</td>\n",
       "    </tr>\n",
       "    <tr>\n",
       "      <th>BTC</th>\n",
       "      <td>Bitcoin</td>\n",
       "    </tr>\n",
       "    <tr>\n",
       "      <th>ETH</th>\n",
       "      <td>Ethereum</td>\n",
       "    </tr>\n",
       "  </tbody>\n",
       "</table>\n",
       "</div>"
      ],
      "text/plain": [
       "       CoinName\n",
       "42      42 Coin\n",
       "404     404Coin\n",
       "1337  EliteCoin\n",
       "BTC     Bitcoin\n",
       "ETH    Ethereum"
      ]
     },
     "execution_count": 62,
     "metadata": {},
     "output_type": "execute_result"
    }
   ],
   "source": [
    "coins_name_df.head()"
   ]
  },
  {
   "cell_type": "code",
   "execution_count": 63,
   "metadata": {},
   "outputs": [
    {
     "data": {
      "text/html": [
       "<div>\n",
       "<style scoped>\n",
       "    .dataframe tbody tr th:only-of-type {\n",
       "        vertical-align: middle;\n",
       "    }\n",
       "\n",
       "    .dataframe tbody tr th {\n",
       "        vertical-align: top;\n",
       "    }\n",
       "\n",
       "    .dataframe thead th {\n",
       "        text-align: right;\n",
       "    }\n",
       "</style>\n",
       "<table border=\"1\" class=\"dataframe\">\n",
       "  <thead>\n",
       "    <tr style=\"text-align: right;\">\n",
       "      <th></th>\n",
       "      <th>Algorithm</th>\n",
       "      <th>ProofType</th>\n",
       "      <th>TotalCoinsMined</th>\n",
       "      <th>TotalCoinSupply</th>\n",
       "    </tr>\n",
       "  </thead>\n",
       "  <tbody>\n",
       "    <tr>\n",
       "      <th>42</th>\n",
       "      <td>Scrypt</td>\n",
       "      <td>PoW/PoS</td>\n",
       "      <td>4.199995e+01</td>\n",
       "      <td>42</td>\n",
       "    </tr>\n",
       "    <tr>\n",
       "      <th>404</th>\n",
       "      <td>Scrypt</td>\n",
       "      <td>PoW/PoS</td>\n",
       "      <td>1.055185e+09</td>\n",
       "      <td>532000000</td>\n",
       "    </tr>\n",
       "    <tr>\n",
       "      <th>1337</th>\n",
       "      <td>X13</td>\n",
       "      <td>PoW/PoS</td>\n",
       "      <td>2.927942e+10</td>\n",
       "      <td>314159265359</td>\n",
       "    </tr>\n",
       "    <tr>\n",
       "      <th>BTC</th>\n",
       "      <td>SHA-256</td>\n",
       "      <td>PoW</td>\n",
       "      <td>1.792718e+07</td>\n",
       "      <td>21000000</td>\n",
       "    </tr>\n",
       "    <tr>\n",
       "      <th>ETH</th>\n",
       "      <td>Ethash</td>\n",
       "      <td>PoW</td>\n",
       "      <td>1.076842e+08</td>\n",
       "      <td>0</td>\n",
       "    </tr>\n",
       "  </tbody>\n",
       "</table>\n",
       "</div>"
      ],
      "text/plain": [
       "     Algorithm ProofType  TotalCoinsMined TotalCoinSupply\n",
       "42      Scrypt   PoW/PoS     4.199995e+01              42\n",
       "404     Scrypt   PoW/PoS     1.055185e+09       532000000\n",
       "1337       X13   PoW/PoS     2.927942e+10    314159265359\n",
       "BTC    SHA-256       PoW     1.792718e+07        21000000\n",
       "ETH     Ethash       PoW     1.076842e+08               0"
      ]
     },
     "execution_count": 63,
     "metadata": {},
     "output_type": "execute_result"
    }
   ],
   "source": [
    "#Remove the CoinName column\n",
    "crypto_df_mined_col=crypto_df_mined.drop(['CoinName'],axis=1)\n",
    "crypto_df_mined_col.head()"
   ]
  },
  {
   "cell_type": "code",
   "execution_count": 64,
   "metadata": {},
   "outputs": [
    {
     "data": {
      "text/html": [
       "<div>\n",
       "<style scoped>\n",
       "    .dataframe tbody tr th:only-of-type {\n",
       "        vertical-align: middle;\n",
       "    }\n",
       "\n",
       "    .dataframe tbody tr th {\n",
       "        vertical-align: top;\n",
       "    }\n",
       "\n",
       "    .dataframe thead th {\n",
       "        text-align: right;\n",
       "    }\n",
       "</style>\n",
       "<table border=\"1\" class=\"dataframe\">\n",
       "  <thead>\n",
       "    <tr style=\"text-align: right;\">\n",
       "      <th></th>\n",
       "      <th>TotalCoinsMined</th>\n",
       "      <th>TotalCoinSupply</th>\n",
       "      <th>Algorithm_1GB AES Pattern Search</th>\n",
       "      <th>Algorithm_536</th>\n",
       "      <th>Algorithm_Argon2d</th>\n",
       "      <th>Algorithm_BLAKE256</th>\n",
       "      <th>Algorithm_Blake</th>\n",
       "      <th>Algorithm_Blake2S</th>\n",
       "      <th>Algorithm_Blake2b</th>\n",
       "      <th>Algorithm_C11</th>\n",
       "      <th>...</th>\n",
       "      <th>ProofType_PoW/PoS</th>\n",
       "      <th>ProofType_PoW/PoS</th>\n",
       "      <th>ProofType_PoW/PoW</th>\n",
       "      <th>ProofType_PoW/nPoS</th>\n",
       "      <th>ProofType_Pos</th>\n",
       "      <th>ProofType_Proof of Authority</th>\n",
       "      <th>ProofType_Proof of Trust</th>\n",
       "      <th>ProofType_TPoS</th>\n",
       "      <th>ProofType_Zero-Knowledge Proof</th>\n",
       "      <th>ProofType_dPoW/PoW</th>\n",
       "    </tr>\n",
       "  </thead>\n",
       "  <tbody>\n",
       "    <tr>\n",
       "      <th>42</th>\n",
       "      <td>4.199995e+01</td>\n",
       "      <td>42</td>\n",
       "      <td>0</td>\n",
       "      <td>0</td>\n",
       "      <td>0</td>\n",
       "      <td>0</td>\n",
       "      <td>0</td>\n",
       "      <td>0</td>\n",
       "      <td>0</td>\n",
       "      <td>0</td>\n",
       "      <td>...</td>\n",
       "      <td>1</td>\n",
       "      <td>0</td>\n",
       "      <td>0</td>\n",
       "      <td>0</td>\n",
       "      <td>0</td>\n",
       "      <td>0</td>\n",
       "      <td>0</td>\n",
       "      <td>0</td>\n",
       "      <td>0</td>\n",
       "      <td>0</td>\n",
       "    </tr>\n",
       "    <tr>\n",
       "      <th>404</th>\n",
       "      <td>1.055185e+09</td>\n",
       "      <td>532000000</td>\n",
       "      <td>0</td>\n",
       "      <td>0</td>\n",
       "      <td>0</td>\n",
       "      <td>0</td>\n",
       "      <td>0</td>\n",
       "      <td>0</td>\n",
       "      <td>0</td>\n",
       "      <td>0</td>\n",
       "      <td>...</td>\n",
       "      <td>1</td>\n",
       "      <td>0</td>\n",
       "      <td>0</td>\n",
       "      <td>0</td>\n",
       "      <td>0</td>\n",
       "      <td>0</td>\n",
       "      <td>0</td>\n",
       "      <td>0</td>\n",
       "      <td>0</td>\n",
       "      <td>0</td>\n",
       "    </tr>\n",
       "    <tr>\n",
       "      <th>1337</th>\n",
       "      <td>2.927942e+10</td>\n",
       "      <td>314159265359</td>\n",
       "      <td>0</td>\n",
       "      <td>0</td>\n",
       "      <td>0</td>\n",
       "      <td>0</td>\n",
       "      <td>0</td>\n",
       "      <td>0</td>\n",
       "      <td>0</td>\n",
       "      <td>0</td>\n",
       "      <td>...</td>\n",
       "      <td>1</td>\n",
       "      <td>0</td>\n",
       "      <td>0</td>\n",
       "      <td>0</td>\n",
       "      <td>0</td>\n",
       "      <td>0</td>\n",
       "      <td>0</td>\n",
       "      <td>0</td>\n",
       "      <td>0</td>\n",
       "      <td>0</td>\n",
       "    </tr>\n",
       "    <tr>\n",
       "      <th>BTC</th>\n",
       "      <td>1.792718e+07</td>\n",
       "      <td>21000000</td>\n",
       "      <td>0</td>\n",
       "      <td>0</td>\n",
       "      <td>0</td>\n",
       "      <td>0</td>\n",
       "      <td>0</td>\n",
       "      <td>0</td>\n",
       "      <td>0</td>\n",
       "      <td>0</td>\n",
       "      <td>...</td>\n",
       "      <td>0</td>\n",
       "      <td>0</td>\n",
       "      <td>0</td>\n",
       "      <td>0</td>\n",
       "      <td>0</td>\n",
       "      <td>0</td>\n",
       "      <td>0</td>\n",
       "      <td>0</td>\n",
       "      <td>0</td>\n",
       "      <td>0</td>\n",
       "    </tr>\n",
       "    <tr>\n",
       "      <th>ETH</th>\n",
       "      <td>1.076842e+08</td>\n",
       "      <td>0</td>\n",
       "      <td>0</td>\n",
       "      <td>0</td>\n",
       "      <td>0</td>\n",
       "      <td>0</td>\n",
       "      <td>0</td>\n",
       "      <td>0</td>\n",
       "      <td>0</td>\n",
       "      <td>0</td>\n",
       "      <td>...</td>\n",
       "      <td>0</td>\n",
       "      <td>0</td>\n",
       "      <td>0</td>\n",
       "      <td>0</td>\n",
       "      <td>0</td>\n",
       "      <td>0</td>\n",
       "      <td>0</td>\n",
       "      <td>0</td>\n",
       "      <td>0</td>\n",
       "      <td>0</td>\n",
       "    </tr>\n",
       "  </tbody>\n",
       "</table>\n",
       "<p>5 rows × 99 columns</p>\n",
       "</div>"
      ],
      "text/plain": [
       "      TotalCoinsMined TotalCoinSupply  Algorithm_1GB AES Pattern Search  \\\n",
       "42       4.199995e+01              42                                 0   \n",
       "404      1.055185e+09       532000000                                 0   \n",
       "1337     2.927942e+10    314159265359                                 0   \n",
       "BTC      1.792718e+07        21000000                                 0   \n",
       "ETH      1.076842e+08               0                                 0   \n",
       "\n",
       "      Algorithm_536  Algorithm_Argon2d  Algorithm_BLAKE256  Algorithm_Blake  \\\n",
       "42                0                  0                   0                0   \n",
       "404               0                  0                   0                0   \n",
       "1337              0                  0                   0                0   \n",
       "BTC               0                  0                   0                0   \n",
       "ETH               0                  0                   0                0   \n",
       "\n",
       "      Algorithm_Blake2S  Algorithm_Blake2b  Algorithm_C11  ...  \\\n",
       "42                    0                  0              0  ...   \n",
       "404                   0                  0              0  ...   \n",
       "1337                  0                  0              0  ...   \n",
       "BTC                   0                  0              0  ...   \n",
       "ETH                   0                  0              0  ...   \n",
       "\n",
       "      ProofType_PoW/PoS  ProofType_PoW/PoS   ProofType_PoW/PoW  \\\n",
       "42                    1                   0                  0   \n",
       "404                   1                   0                  0   \n",
       "1337                  1                   0                  0   \n",
       "BTC                   0                   0                  0   \n",
       "ETH                   0                   0                  0   \n",
       "\n",
       "      ProofType_PoW/nPoS  ProofType_Pos  ProofType_Proof of Authority  \\\n",
       "42                     0              0                             0   \n",
       "404                    0              0                             0   \n",
       "1337                   0              0                             0   \n",
       "BTC                    0              0                             0   \n",
       "ETH                    0              0                             0   \n",
       "\n",
       "      ProofType_Proof of Trust  ProofType_TPoS  \\\n",
       "42                           0               0   \n",
       "404                          0               0   \n",
       "1337                         0               0   \n",
       "BTC                          0               0   \n",
       "ETH                          0               0   \n",
       "\n",
       "      ProofType_Zero-Knowledge Proof  ProofType_dPoW/PoW  \n",
       "42                                 0                   0  \n",
       "404                                0                   0  \n",
       "1337                               0                   0  \n",
       "BTC                                0                   0  \n",
       "ETH                                0                   0  \n",
       "\n",
       "[5 rows x 99 columns]"
      ]
     },
     "execution_count": 64,
     "metadata": {},
     "output_type": "execute_result"
    }
   ],
   "source": [
    "#Create dummies variables\n",
    "X_df = pd.get_dummies(crypto_df_mined_col,columns=['Algorithm','ProofType'])\n",
    "X_df.head()"
   ]
  },
  {
   "cell_type": "code",
   "execution_count": 65,
   "metadata": {},
   "outputs": [],
   "source": [
    "#Remove the Unnamed column\n",
    "X_df_new = X_df.drop(X_df.columns[0], axis=1)"
   ]
  },
  {
   "cell_type": "code",
   "execution_count": 66,
   "metadata": {},
   "outputs": [
    {
     "name": "stdout",
     "output_type": "stream",
     "text": [
      "[[-0.15303594 -0.04372695 -0.04372695 -0.04372695 -0.06189845 -0.07588252\n",
      "  -0.04372695 -0.06189845 -0.06189845 -0.04372695 -0.04372695 -0.19396846\n",
      "  -0.06189845 -0.09815249 -0.04372695 -0.11636001 -0.07588252 -0.04372695\n",
      "  -0.04372695 -0.15309311 -0.04372695 -0.13219579 -0.04372695 -0.04372695\n",
      "  -0.0877058  -0.04372695 -0.04372695 -0.04372695 -0.04372695 -0.06189845\n",
      "  -0.04372695 -0.0877058  -0.0877058  -0.0877058  -0.04372695 -0.13948209\n",
      "  -0.13948209 -0.04372695 -0.06189845 -0.04372695 -0.07588252 -0.18311355\n",
      "  -0.04372695 -0.04372695 -0.04372695 -0.07588252 -0.1595002  -0.31755367\n",
      "  -0.04372695 -0.0877058  -0.07588252 -0.06189845 -0.04372695  1.3708103\n",
      "  -0.04372695 -0.04372695 -0.06189845 -0.04372695 -0.04372695 -0.04372695\n",
      "  -0.04372695 -0.04372695 -0.04372695 -0.04372695 -0.04372695 -0.40232142\n",
      "  -0.04372695 -0.18311355 -0.04372695 -0.0877058  -0.0877058  -0.1076244\n",
      "  -0.04372695 -0.04372695 -0.13219579 -0.04372695 -0.04372695 -0.04372695\n",
      "  -0.04372695 -0.07588252 -0.43693145 -0.04372695 -0.06189845 -0.04372695\n",
      "  -0.04372695 -0.88448455 -0.04372695 -0.04372695  1.4061553  -0.04372695\n",
      "  -0.04372695 -0.04372695 -0.04372695 -0.04372695 -0.04372695 -0.04372695\n",
      "  -0.04372695 -0.04372695]\n",
      " [-0.14523269 -0.04372695 -0.04372695 -0.04372695 -0.06189845 -0.07588252\n",
      "  -0.04372695 -0.06189845 -0.06189845 -0.04372695 -0.04372695 -0.19396846\n",
      "  -0.06189845 -0.09815249 -0.04372695 -0.11636001 -0.07588252 -0.04372695\n",
      "  -0.04372695 -0.15309311 -0.04372695 -0.13219579 -0.04372695 -0.04372695\n",
      "  -0.0877058  -0.04372695 -0.04372695 -0.04372695 -0.04372695 -0.06189845\n",
      "  -0.04372695 -0.0877058  -0.0877058  -0.0877058  -0.04372695 -0.13948209\n",
      "  -0.13948209 -0.04372695 -0.06189845 -0.04372695 -0.07588252 -0.18311355\n",
      "  -0.04372695 -0.04372695 -0.04372695 -0.07588252 -0.1595002  -0.31755367\n",
      "  -0.04372695 -0.0877058  -0.07588252 -0.06189845 -0.04372695  1.3708103\n",
      "  -0.04372695 -0.04372695 -0.06189845 -0.04372695 -0.04372695 -0.04372695\n",
      "  -0.04372695 -0.04372695 -0.04372695 -0.04372695 -0.04372695 -0.40232142\n",
      "  -0.04372695 -0.18311355 -0.04372695 -0.0877058  -0.0877058  -0.1076244\n",
      "  -0.04372695 -0.04372695 -0.13219579 -0.04372695 -0.04372695 -0.04372695\n",
      "  -0.04372695 -0.07588252 -0.43693145 -0.04372695 -0.06189845 -0.04372695\n",
      "  -0.04372695 -0.88448455 -0.04372695 -0.04372695  1.4061553  -0.04372695\n",
      "  -0.04372695 -0.04372695 -0.04372695 -0.04372695 -0.04372695 -0.04372695\n",
      "  -0.04372695 -0.04372695]\n",
      " [ 4.45497905 -0.04372695 -0.04372695 -0.04372695 -0.06189845 -0.07588252\n",
      "  -0.04372695 -0.06189845 -0.06189845 -0.04372695 -0.04372695 -0.19396846\n",
      "  -0.06189845 -0.09815249 -0.04372695 -0.11636001 -0.07588252 -0.04372695\n",
      "  -0.04372695 -0.15309311 -0.04372695 -0.13219579 -0.04372695 -0.04372695\n",
      "  -0.0877058  -0.04372695 -0.04372695 -0.04372695 -0.04372695 -0.06189845\n",
      "  -0.04372695 -0.0877058  -0.0877058  -0.0877058  -0.04372695 -0.13948209\n",
      "  -0.13948209 -0.04372695 -0.06189845 -0.04372695 -0.07588252 -0.18311355\n",
      "  -0.04372695 -0.04372695 -0.04372695 -0.07588252 -0.1595002  -0.31755367\n",
      "  -0.04372695 -0.0877058  -0.07588252 -0.06189845 -0.04372695 -0.72949554\n",
      "  -0.04372695 -0.04372695 -0.06189845 -0.04372695 -0.04372695 -0.04372695\n",
      "  -0.04372695 -0.04372695 -0.04372695 -0.04372695 -0.04372695 -0.40232142\n",
      "  -0.04372695  5.46109233 -0.04372695 -0.0877058  -0.0877058  -0.1076244\n",
      "  -0.04372695 -0.04372695 -0.13219579 -0.04372695 -0.04372695 -0.04372695\n",
      "  -0.04372695 -0.07588252 -0.43693145 -0.04372695 -0.06189845 -0.04372695\n",
      "  -0.04372695 -0.88448455 -0.04372695 -0.04372695  1.4061553  -0.04372695\n",
      "  -0.04372695 -0.04372695 -0.04372695 -0.04372695 -0.04372695 -0.04372695\n",
      "  -0.04372695 -0.04372695]\n",
      " [-0.15272792 -0.04372695 -0.04372695 -0.04372695 -0.06189845 -0.07588252\n",
      "  -0.04372695 -0.06189845 -0.06189845 -0.04372695 -0.04372695 -0.19396846\n",
      "  -0.06189845 -0.09815249 -0.04372695 -0.11636001 -0.07588252 -0.04372695\n",
      "  -0.04372695 -0.15309311 -0.04372695 -0.13219579 -0.04372695 -0.04372695\n",
      "  -0.0877058  -0.04372695 -0.04372695 -0.04372695 -0.04372695 -0.06189845\n",
      "  -0.04372695 -0.0877058  -0.0877058  -0.0877058  -0.04372695 -0.13948209\n",
      "  -0.13948209 -0.04372695 -0.06189845 -0.04372695 -0.07588252 -0.18311355\n",
      "  -0.04372695 -0.04372695 -0.04372695 -0.07588252 -0.1595002   3.14907394\n",
      "  -0.04372695 -0.0877058  -0.07588252 -0.06189845 -0.04372695 -0.72949554\n",
      "  -0.04372695 -0.04372695 -0.06189845 -0.04372695 -0.04372695 -0.04372695\n",
      "  -0.04372695 -0.04372695 -0.04372695 -0.04372695 -0.04372695 -0.40232142\n",
      "  -0.04372695 -0.18311355 -0.04372695 -0.0877058  -0.0877058  -0.1076244\n",
      "  -0.04372695 -0.04372695 -0.13219579 -0.04372695 -0.04372695 -0.04372695\n",
      "  -0.04372695 -0.07588252 -0.43693145 -0.04372695 -0.06189845 -0.04372695\n",
      "  -0.04372695  1.13060199 -0.04372695 -0.04372695 -0.711159   -0.04372695\n",
      "  -0.04372695 -0.04372695 -0.04372695 -0.04372695 -0.04372695 -0.04372695\n",
      "  -0.04372695 -0.04372695]\n",
      " [-0.15303594 -0.04372695 -0.04372695 -0.04372695 -0.06189845 -0.07588252\n",
      "  -0.04372695 -0.06189845 -0.06189845 -0.04372695 -0.04372695 -0.19396846\n",
      "  -0.06189845 -0.09815249 -0.04372695 -0.11636001 -0.07588252 -0.04372695\n",
      "  -0.04372695 -0.15309311 -0.04372695  7.56453715 -0.04372695 -0.04372695\n",
      "  -0.0877058  -0.04372695 -0.04372695 -0.04372695 -0.04372695 -0.06189845\n",
      "  -0.04372695 -0.0877058  -0.0877058  -0.0877058  -0.04372695 -0.13948209\n",
      "  -0.13948209 -0.04372695 -0.06189845 -0.04372695 -0.07588252 -0.18311355\n",
      "  -0.04372695 -0.04372695 -0.04372695 -0.07588252 -0.1595002  -0.31755367\n",
      "  -0.04372695 -0.0877058  -0.07588252 -0.06189845 -0.04372695 -0.72949554\n",
      "  -0.04372695 -0.04372695 -0.06189845 -0.04372695 -0.04372695 -0.04372695\n",
      "  -0.04372695 -0.04372695 -0.04372695 -0.04372695 -0.04372695 -0.40232142\n",
      "  -0.04372695 -0.18311355 -0.04372695 -0.0877058  -0.0877058  -0.1076244\n",
      "  -0.04372695 -0.04372695 -0.13219579 -0.04372695 -0.04372695 -0.04372695\n",
      "  -0.04372695 -0.07588252 -0.43693145 -0.04372695 -0.06189845 -0.04372695\n",
      "  -0.04372695  1.13060199 -0.04372695 -0.04372695 -0.711159   -0.04372695\n",
      "  -0.04372695 -0.04372695 -0.04372695 -0.04372695 -0.04372695 -0.04372695\n",
      "  -0.04372695 -0.04372695]]\n"
     ]
    }
   ],
   "source": [
    "#standardize all of the data from the X DataFrame\n",
    "X_df_scaled = StandardScaler().fit_transform(X_df_new)\n",
    "print(X_df_scaled[0:5])\n"
   ]
  },
  {
   "cell_type": "code",
   "execution_count": 67,
   "metadata": {},
   "outputs": [],
   "source": [
    "# Initialize PCA model\n",
    "pca = PCA(n_components=3)\n",
    "\n",
    "# Get two principal components for the iris data.\n",
    "X_pca = pca.fit_transform(X_df_scaled)"
   ]
  },
  {
   "cell_type": "code",
   "execution_count": 68,
   "metadata": {},
   "outputs": [
    {
     "data": {
      "text/html": [
       "<div>\n",
       "<style scoped>\n",
       "    .dataframe tbody tr th:only-of-type {\n",
       "        vertical-align: middle;\n",
       "    }\n",
       "\n",
       "    .dataframe tbody tr th {\n",
       "        vertical-align: top;\n",
       "    }\n",
       "\n",
       "    .dataframe thead th {\n",
       "        text-align: right;\n",
       "    }\n",
       "</style>\n",
       "<table border=\"1\" class=\"dataframe\">\n",
       "  <thead>\n",
       "    <tr style=\"text-align: right;\">\n",
       "      <th></th>\n",
       "      <th>pc_1</th>\n",
       "      <th>pc_2</th>\n",
       "      <th>pc_3</th>\n",
       "    </tr>\n",
       "  </thead>\n",
       "  <tbody>\n",
       "    <tr>\n",
       "      <th>0</th>\n",
       "      <td>-1.121871</td>\n",
       "      <td>-0.095584</td>\n",
       "      <td>-0.512290</td>\n",
       "    </tr>\n",
       "    <tr>\n",
       "      <th>1</th>\n",
       "      <td>-1.119998</td>\n",
       "      <td>-0.093523</td>\n",
       "      <td>-0.512601</td>\n",
       "    </tr>\n",
       "    <tr>\n",
       "      <th>2</th>\n",
       "      <td>-0.653185</td>\n",
       "      <td>1.578325</td>\n",
       "      <td>-0.838070</td>\n",
       "    </tr>\n",
       "    <tr>\n",
       "      <th>3</th>\n",
       "      <td>1.197694</td>\n",
       "      <td>-0.542335</td>\n",
       "      <td>0.202978</td>\n",
       "    </tr>\n",
       "    <tr>\n",
       "      <th>4</th>\n",
       "      <td>1.752958</td>\n",
       "      <td>-0.935188</td>\n",
       "      <td>0.457409</td>\n",
       "    </tr>\n",
       "  </tbody>\n",
       "</table>\n",
       "</div>"
      ],
      "text/plain": [
       "       pc_1      pc_2      pc_3\n",
       "0 -1.121871 -0.095584 -0.512290\n",
       "1 -1.119998 -0.093523 -0.512601\n",
       "2 -0.653185  1.578325 -0.838070\n",
       "3  1.197694 -0.542335  0.202978\n",
       "4  1.752958 -0.935188  0.457409"
      ]
     },
     "execution_count": 68,
     "metadata": {},
     "output_type": "execute_result"
    }
   ],
   "source": [
    "df_X_pca = pd.DataFrame(data=X_pca,columns=[\"pc_1\",\"pc_2\",\"pc_3\"])\n",
    "df_X_pca.head()"
   ]
  },
  {
   "cell_type": "code",
   "execution_count": 69,
   "metadata": {},
   "outputs": [],
   "source": [
    "#Create an elbow curve to find the best value for K\n",
    "inertia = []\n",
    "k = list(range(1, 11))\n",
    "# Calculate the inertia for the range of K values\n",
    "for i in k:\n",
    "   km = KMeans(n_clusters=i, random_state=0)\n",
    "   km.fit(df_X_pca)\n",
    "   inertia.append(km.inertia_)\n"
   ]
  },
  {
   "cell_type": "code",
   "execution_count": 70,
   "metadata": {},
   "outputs": [
    {
     "data": {},
     "metadata": {},
     "output_type": "display_data"
    },
    {
     "data": {
      "application/vnd.holoviews_exec.v0+json": "",
      "text/html": [
       "<div id='1937'>\n",
       "\n",
       "\n",
       "\n",
       "\n",
       "\n",
       "  <div class=\"bk-root\" id=\"a00b20b3-0ae3-426b-8e53-a5a93f020c97\" data-root-id=\"1937\"></div>\n",
       "</div>\n",
       "<script type=\"application/javascript\">(function(root) {\n",
       "  function embed_document(root) {\n",
       "  var docs_json = {\"95b343ab-6354-4075-b867-1b4f18892c5b\":{\"roots\":{\"references\":[{\"attributes\":{\"overlay\":{\"id\":\"1964\"}},\"id\":\"1962\",\"type\":\"BoxZoomTool\"},{\"attributes\":{},\"id\":\"1973\",\"type\":\"Selection\"},{\"attributes\":{\"active_drag\":\"auto\",\"active_inspect\":\"auto\",\"active_multi\":null,\"active_scroll\":\"auto\",\"active_tap\":\"auto\",\"tools\":[{\"id\":\"1941\"},{\"id\":\"1959\"},{\"id\":\"1960\"},{\"id\":\"1961\"},{\"id\":\"1962\"},{\"id\":\"1963\"}]},\"id\":\"1965\",\"type\":\"Toolbar\"},{\"attributes\":{},\"id\":\"1960\",\"type\":\"PanTool\"},{\"attributes\":{\"callback\":null,\"renderers\":[{\"id\":\"1978\"}],\"tags\":[\"hv_created\"],\"tooltips\":[[\"k\",\"@{k}\"],[\"inertia\",\"@{inertia}\"]]},\"id\":\"1941\",\"type\":\"HoverTool\"},{\"attributes\":{\"source\":{\"id\":\"1972\"}},\"id\":\"1979\",\"type\":\"CDSView\"},{\"attributes\":{},\"id\":\"1961\",\"type\":\"WheelZoomTool\"},{\"attributes\":{\"margin\":[5,5,5,5],\"name\":\"HSpacer03835\",\"sizing_mode\":\"stretch_width\"},\"id\":\"1938\",\"type\":\"Spacer\"},{\"attributes\":{\"data_source\":{\"id\":\"1972\"},\"glyph\":{\"id\":\"1975\"},\"hover_glyph\":null,\"muted_glyph\":{\"id\":\"1977\"},\"nonselection_glyph\":{\"id\":\"1976\"},\"selection_glyph\":null,\"view\":{\"id\":\"1979\"}},\"id\":\"1978\",\"type\":\"GlyphRenderer\"},{\"attributes\":{},\"id\":\"1959\",\"type\":\"SaveTool\"},{\"attributes\":{\"line_color\":\"#1f77b3\",\"line_width\":2,\"x\":{\"field\":\"k\"},\"y\":{\"field\":\"inertia\"}},\"id\":\"1975\",\"type\":\"Line\"},{\"attributes\":{},\"id\":\"1992\",\"type\":\"UnionRenderers\"},{\"attributes\":{},\"id\":\"1947\",\"type\":\"LinearScale\"},{\"attributes\":{\"data\":{\"inertia\":{\"__ndarray__\":\"WaViPwRMqUCXDxmMxJahQGZH6Ze1KZRAa01ZfoQMe0BImYhZ63ZyQLNSEvDC7GxAcvgssZY9aEDrqROf7/lkQGuM0e2D2GFAJrW+YyfhXEA=\",\"dtype\":\"float64\",\"shape\":[10]},\"k\":[1,2,3,4,5,6,7,8,9,10]},\"selected\":{\"id\":\"1973\"},\"selection_policy\":{\"id\":\"1992\"}},\"id\":\"1972\",\"type\":\"ColumnDataSource\"},{\"attributes\":{\"align\":null,\"below\":[{\"id\":\"1951\"}],\"center\":[{\"id\":\"1954\"},{\"id\":\"1958\"}],\"left\":[{\"id\":\"1955\"}],\"margin\":null,\"min_border_bottom\":10,\"min_border_left\":10,\"min_border_right\":10,\"min_border_top\":10,\"plot_height\":300,\"plot_width\":700,\"renderers\":[{\"id\":\"1978\"}],\"sizing_mode\":\"fixed\",\"title\":{\"id\":\"1943\"},\"toolbar\":{\"id\":\"1965\"},\"x_range\":{\"id\":\"1939\"},\"x_scale\":{\"id\":\"1947\"},\"y_range\":{\"id\":\"1940\"},\"y_scale\":{\"id\":\"1949\"}},\"id\":\"1942\",\"subtype\":\"Figure\",\"type\":\"Plot\"},{\"attributes\":{\"children\":[{\"id\":\"1938\"},{\"id\":\"1942\"},{\"id\":\"1994\"}],\"margin\":[0,0,0,0],\"name\":\"Row03831\",\"tags\":[\"embedded\"]},\"id\":\"1937\",\"type\":\"Row\"},{\"attributes\":{\"axis_label\":\"inertia\",\"bounds\":\"auto\",\"formatter\":{\"id\":\"1985\"},\"major_label_orientation\":\"horizontal\",\"ticker\":{\"id\":\"1956\"}},\"id\":\"1955\",\"type\":\"LinearAxis\"},{\"attributes\":{\"text\":\"Elbow Curve\",\"text_color\":{\"value\":\"black\"},\"text_font_size\":{\"value\":\"12pt\"}},\"id\":\"1943\",\"type\":\"Title\"},{\"attributes\":{},\"id\":\"1949\",\"type\":\"LinearScale\"},{\"attributes\":{\"axis\":{\"id\":\"1955\"},\"dimension\":1,\"grid_line_color\":null,\"ticker\":null},\"id\":\"1958\",\"type\":\"Grid\"},{\"attributes\":{\"end\":10.0,\"reset_end\":10.0,\"reset_start\":1.0,\"start\":1.0,\"tags\":[[[\"k\",\"k\",null]]]},\"id\":\"1939\",\"type\":\"Range1d\"},{\"attributes\":{\"bottom_units\":\"screen\",\"fill_alpha\":0.5,\"fill_color\":\"lightgrey\",\"left_units\":\"screen\",\"level\":\"overlay\",\"line_alpha\":1.0,\"line_color\":\"black\",\"line_dash\":[4,4],\"line_width\":2,\"render_mode\":\"css\",\"right_units\":\"screen\",\"top_units\":\"screen\"},\"id\":\"1964\",\"type\":\"BoxAnnotation\"},{\"attributes\":{\"axis_label\":\"k\",\"bounds\":\"auto\",\"formatter\":{\"id\":\"1981\"},\"major_label_orientation\":\"horizontal\",\"ticker\":{\"id\":\"1980\"}},\"id\":\"1951\",\"type\":\"LinearAxis\"},{\"attributes\":{\"margin\":[5,5,5,5],\"name\":\"HSpacer03836\",\"sizing_mode\":\"stretch_width\"},\"id\":\"1994\",\"type\":\"Spacer\"},{\"attributes\":{\"line_alpha\":0.2,\"line_color\":\"#1f77b3\",\"line_width\":2,\"x\":{\"field\":\"k\"},\"y\":{\"field\":\"inertia\"}},\"id\":\"1977\",\"type\":\"Line\"},{\"attributes\":{\"axis\":{\"id\":\"1951\"},\"grid_line_color\":null,\"ticker\":null},\"id\":\"1954\",\"type\":\"Grid\"},{\"attributes\":{},\"id\":\"1981\",\"type\":\"BasicTickFormatter\"},{\"attributes\":{},\"id\":\"1956\",\"type\":\"BasicTicker\"},{\"attributes\":{\"ticks\":[1,2,3,4,5,6,7,8,9,10]},\"id\":\"1980\",\"type\":\"FixedTicker\"},{\"attributes\":{\"line_alpha\":0.1,\"line_color\":\"#1f77b3\",\"line_width\":2,\"x\":{\"field\":\"k\"},\"y\":{\"field\":\"inertia\"}},\"id\":\"1976\",\"type\":\"Line\"},{\"attributes\":{},\"id\":\"1963\",\"type\":\"ResetTool\"},{\"attributes\":{},\"id\":\"1985\",\"type\":\"BasicTickFormatter\"},{\"attributes\":{\"end\":3550.257322785691,\"reset_end\":3550.257322785691,\"reset_start\":-196.73099754181553,\"start\":-196.73099754181553,\"tags\":[[[\"inertia\",\"inertia\",null]]]},\"id\":\"1940\",\"type\":\"Range1d\"}],\"root_ids\":[\"1937\"]},\"title\":\"Bokeh Application\",\"version\":\"2.0.1\"}};\n",
       "  var render_items = [{\"docid\":\"95b343ab-6354-4075-b867-1b4f18892c5b\",\"root_ids\":[\"1937\"],\"roots\":{\"1937\":\"a00b20b3-0ae3-426b-8e53-a5a93f020c97\"}}];\n",
       "  root.Bokeh.embed.embed_items_notebook(docs_json, render_items);\n",
       "  }\n",
       "if (root.Bokeh !== undefined) {\n",
       "    embed_document(root);\n",
       "  } else {\n",
       "    var attempts = 0;\n",
       "    var timer = setInterval(function(root) {\n",
       "      if (root.Bokeh !== undefined) {\n",
       "        clearInterval(timer);\n",
       "        embed_document(root);\n",
       "      } else if (document.readyState == \"complete\") {\n",
       "        attempts++;\n",
       "        if (attempts > 100) {\n",
       "          clearInterval(timer);\n",
       "          console.log(\"Bokeh: ERROR: Unable to run BokehJS code because BokehJS library is missing\");\n",
       "        }\n",
       "      }\n",
       "    }, 10, root)\n",
       "  }\n",
       "})(window);</script>"
      ],
      "text/plain": [
       ":Curve   [k]   (inertia)"
      ]
     },
     "execution_count": 70,
     "metadata": {
      "application/vnd.holoviews_exec.v0+json": {
       "id": "1937"
      }
     },
     "output_type": "execute_result"
    }
   ],
   "source": [
    "# Define a DataFrame to plot the Elbow Curve using hvPlot\n",
    "elbow_data = {\"k\": k, \"inertia\": inertia}\n",
    "df_elbow = pd.DataFrame(elbow_data)\n",
    "df_elbow.hvplot.line(x=\"k\", y=\"inertia\", title=\"Elbow Curve\", xticks=k)"
   ]
  },
  {
   "cell_type": "code",
   "execution_count": 71,
   "metadata": {},
   "outputs": [],
   "source": [
    "#K-means function\n",
    "def get_clusters(k, data):\n",
    "    #Create a copy of the DataFrame\n",
    "    data = data.copy()       \n",
    "    #Initialize the K-Means model   \n",
    "    model = KMeans(n_clusters=k, random_state=0)   \n",
    "    # Fit the model\n",
    "    model.fit(data)   \n",
    "    # Predict clusters\n",
    "    predictions = model.predict(data)\n",
    "    # Create return DataFrame with predicted clusters\n",
    "    data[\"class\"] = model.labels_\n",
    "    return data"
   ]
  },
  {
   "cell_type": "code",
   "execution_count": 72,
   "metadata": {},
   "outputs": [
    {
     "data": {
      "text/html": [
       "<div>\n",
       "<style scoped>\n",
       "    .dataframe tbody tr th:only-of-type {\n",
       "        vertical-align: middle;\n",
       "    }\n",
       "\n",
       "    .dataframe tbody tr th {\n",
       "        vertical-align: top;\n",
       "    }\n",
       "\n",
       "    .dataframe thead th {\n",
       "        text-align: right;\n",
       "    }\n",
       "</style>\n",
       "<table border=\"1\" class=\"dataframe\">\n",
       "  <thead>\n",
       "    <tr style=\"text-align: right;\">\n",
       "      <th></th>\n",
       "      <th>pc_1</th>\n",
       "      <th>pc_2</th>\n",
       "      <th>pc_3</th>\n",
       "      <th>class</th>\n",
       "    </tr>\n",
       "  </thead>\n",
       "  <tbody>\n",
       "    <tr>\n",
       "      <th>0</th>\n",
       "      <td>-1.121871</td>\n",
       "      <td>-0.095584</td>\n",
       "      <td>-0.512290</td>\n",
       "      <td>0</td>\n",
       "    </tr>\n",
       "    <tr>\n",
       "      <th>1</th>\n",
       "      <td>-1.119998</td>\n",
       "      <td>-0.093523</td>\n",
       "      <td>-0.512601</td>\n",
       "      <td>0</td>\n",
       "    </tr>\n",
       "    <tr>\n",
       "      <th>2</th>\n",
       "      <td>-0.653185</td>\n",
       "      <td>1.578325</td>\n",
       "      <td>-0.838070</td>\n",
       "      <td>0</td>\n",
       "    </tr>\n",
       "    <tr>\n",
       "      <th>3</th>\n",
       "      <td>1.197694</td>\n",
       "      <td>-0.542335</td>\n",
       "      <td>0.202978</td>\n",
       "      <td>1</td>\n",
       "    </tr>\n",
       "    <tr>\n",
       "      <th>4</th>\n",
       "      <td>1.752958</td>\n",
       "      <td>-0.935188</td>\n",
       "      <td>0.457409</td>\n",
       "      <td>1</td>\n",
       "    </tr>\n",
       "  </tbody>\n",
       "</table>\n",
       "</div>"
      ],
      "text/plain": [
       "       pc_1      pc_2      pc_3  class\n",
       "0 -1.121871 -0.095584 -0.512290      0\n",
       "1 -1.119998 -0.093523 -0.512601      0\n",
       "2 -0.653185  1.578325 -0.838070      0\n",
       "3  1.197694 -0.542335  0.202978      1\n",
       "4  1.752958 -0.935188  0.457409      1"
      ]
     },
     "execution_count": 72,
     "metadata": {},
     "output_type": "execute_result"
    }
   ],
   "source": [
    "#run the K-means algorithm\n",
    "X_clusters = get_clusters(4,df_X_pca)\n",
    "X_clusters.head()"
   ]
  },
  {
   "cell_type": "code",
   "execution_count": 73,
   "metadata": {},
   "outputs": [
    {
     "data": {
      "text/plain": [
       "(524, 4)"
      ]
     },
     "execution_count": 73,
     "metadata": {},
     "output_type": "execute_result"
    }
   ],
   "source": [
    "X_clusters.shape"
   ]
  },
  {
   "cell_type": "code",
   "execution_count": 74,
   "metadata": {},
   "outputs": [
    {
     "data": {
      "text/html": [
       "<div>\n",
       "<style scoped>\n",
       "    .dataframe tbody tr th:only-of-type {\n",
       "        vertical-align: middle;\n",
       "    }\n",
       "\n",
       "    .dataframe tbody tr th {\n",
       "        vertical-align: top;\n",
       "    }\n",
       "\n",
       "    .dataframe thead th {\n",
       "        text-align: right;\n",
       "    }\n",
       "</style>\n",
       "<table border=\"1\" class=\"dataframe\">\n",
       "  <thead>\n",
       "    <tr style=\"text-align: right;\">\n",
       "      <th></th>\n",
       "      <th>Algorithm</th>\n",
       "      <th>ProofType</th>\n",
       "      <th>TotalCoinsMined</th>\n",
       "      <th>TotalCoinSupply</th>\n",
       "      <th>pc_1</th>\n",
       "      <th>pc_2</th>\n",
       "      <th>pc_3</th>\n",
       "      <th>CoinName</th>\n",
       "      <th>class</th>\n",
       "    </tr>\n",
       "  </thead>\n",
       "  <tbody>\n",
       "    <tr>\n",
       "      <th>0</th>\n",
       "      <td>Scrypt</td>\n",
       "      <td>PoW/PoS</td>\n",
       "      <td>4.199995e+01</td>\n",
       "      <td>42</td>\n",
       "      <td>-1.121871</td>\n",
       "      <td>-0.095584</td>\n",
       "      <td>-0.512290</td>\n",
       "      <td>42 Coin</td>\n",
       "      <td>0</td>\n",
       "    </tr>\n",
       "    <tr>\n",
       "      <th>1</th>\n",
       "      <td>Scrypt</td>\n",
       "      <td>PoW/PoS</td>\n",
       "      <td>1.055185e+09</td>\n",
       "      <td>532000000</td>\n",
       "      <td>-1.119998</td>\n",
       "      <td>-0.093523</td>\n",
       "      <td>-0.512601</td>\n",
       "      <td>404Coin</td>\n",
       "      <td>0</td>\n",
       "    </tr>\n",
       "    <tr>\n",
       "      <th>2</th>\n",
       "      <td>X13</td>\n",
       "      <td>PoW/PoS</td>\n",
       "      <td>2.927942e+10</td>\n",
       "      <td>314159265359</td>\n",
       "      <td>-0.653185</td>\n",
       "      <td>1.578325</td>\n",
       "      <td>-0.838070</td>\n",
       "      <td>EliteCoin</td>\n",
       "      <td>0</td>\n",
       "    </tr>\n",
       "    <tr>\n",
       "      <th>3</th>\n",
       "      <td>SHA-256</td>\n",
       "      <td>PoW</td>\n",
       "      <td>1.792718e+07</td>\n",
       "      <td>21000000</td>\n",
       "      <td>1.197694</td>\n",
       "      <td>-0.542335</td>\n",
       "      <td>0.202978</td>\n",
       "      <td>Bitcoin</td>\n",
       "      <td>1</td>\n",
       "    </tr>\n",
       "    <tr>\n",
       "      <th>4</th>\n",
       "      <td>Ethash</td>\n",
       "      <td>PoW</td>\n",
       "      <td>1.076842e+08</td>\n",
       "      <td>0</td>\n",
       "      <td>1.752958</td>\n",
       "      <td>-0.935188</td>\n",
       "      <td>0.457409</td>\n",
       "      <td>Ethereum</td>\n",
       "      <td>1</td>\n",
       "    </tr>\n",
       "  </tbody>\n",
       "</table>\n",
       "</div>"
      ],
      "text/plain": [
       "  Algorithm ProofType  TotalCoinsMined TotalCoinSupply      pc_1      pc_2  \\\n",
       "0    Scrypt   PoW/PoS     4.199995e+01              42 -1.121871 -0.095584   \n",
       "1    Scrypt   PoW/PoS     1.055185e+09       532000000 -1.119998 -0.093523   \n",
       "2       X13   PoW/PoS     2.927942e+10    314159265359 -0.653185  1.578325   \n",
       "3   SHA-256       PoW     1.792718e+07        21000000  1.197694 -0.542335   \n",
       "4    Ethash       PoW     1.076842e+08               0  1.752958 -0.935188   \n",
       "\n",
       "       pc_3   CoinName  class  \n",
       "0 -0.512290    42 Coin      0  \n",
       "1 -0.512601    404Coin      0  \n",
       "2 -0.838070  EliteCoin      0  \n",
       "3  0.202978    Bitcoin      1  \n",
       "4  0.457409   Ethereum      1  "
      ]
     },
     "execution_count": 74,
     "metadata": {},
     "output_type": "execute_result"
    }
   ],
   "source": [
    "#Rest col index for modified dataframes\n",
    "#Create a new DataFrame named “clustered_df\n",
    "crypto_df_mined_col.reset_index(drop=True, inplace=True)\n",
    "coins_name_df.reset_index(drop=True, inplace=True)\n",
    "clustered_df = pd.concat([crypto_df_mined_col, X_clusters,coins_name_df], axis=1,ignore_index=True, sort=False)\n",
    "\n",
    "#Rename columns\n",
    "clustered_df.columns = ['Algorithm','ProofType','TotalCoinsMined','TotalCoinSupply','pc_1','pc_2','pc_3','class','CoinName']\n",
    "#Reorder columns\n",
    "clustered_df = clustered_df[['Algorithm','ProofType','TotalCoinsMined','TotalCoinSupply','pc_1','pc_2','pc_3','CoinName','class']]\n",
    "#Drop null rows\n",
    "clustered_df.dropna(how='any',inplace=True)\n",
    "\n",
    "clustered_df.head()"
   ]
  },
  {
   "cell_type": "code",
   "execution_count": 75,
   "metadata": {},
   "outputs": [
    {
     "data": {
      "application/vnd.plotly.v1+json": {
       "config": {
        "plotlyServerURL": "https://plot.ly"
       },
       "data": [
        {
         "customdata": [
          [
           "Scrypt"
          ],
          [
           "Scrypt"
          ],
          [
           "X13"
          ],
          [
           "X11"
          ],
          [
           "SHA-512"
          ],
          [
           "SHA-256"
          ],
          [
           "SHA-256"
          ],
          [
           "X15"
          ],
          [
           "Scrypt"
          ],
          [
           "Scrypt"
          ],
          [
           "Scrypt"
          ],
          [
           "Scrypt"
          ],
          [
           "Scrypt"
          ],
          [
           "Scrypt"
          ],
          [
           "Groestl"
          ],
          [
           "PoS"
          ],
          [
           "Scrypt"
          ],
          [
           "Scrypt"
          ],
          [
           "X11"
          ],
          [
           "X11"
          ],
          [
           "SHA3"
          ],
          [
           "Scrypt"
          ],
          [
           "SHA-256"
          ],
          [
           "Scrypt"
          ],
          [
           "X13"
          ],
          [
           "X13"
          ],
          [
           "NeoScrypt"
          ],
          [
           "Scrypt"
          ],
          [
           "Scrypt"
          ],
          [
           "Scrypt"
          ],
          [
           "X11"
          ],
          [
           "X11"
          ],
          [
           "PHI1612"
          ],
          [
           "X11"
          ],
          [
           "Scrypt"
          ],
          [
           "Scrypt"
          ],
          [
           "Scrypt"
          ],
          [
           "X11"
          ],
          [
           "X13"
          ],
          [
           "Scrypt"
          ],
          [
           "Shabal256"
          ],
          [
           "Counterparty"
          ],
          [
           "SHA-256"
          ],
          [
           "Groestl"
          ],
          [
           "Scrypt"
          ],
          [
           "X13"
          ],
          [
           "Scrypt"
          ],
          [
           "Scrypt"
          ],
          [
           "X13"
          ],
          [
           "X11"
          ],
          [
           "Scrypt"
          ],
          [
           "X11"
          ],
          [
           "SHA3"
          ],
          [
           "QUAIT"
          ],
          [
           "X11"
          ],
          [
           "Scrypt"
          ],
          [
           "X13"
          ],
          [
           "SHA-256"
          ],
          [
           "X15"
          ],
          [
           "BLAKE256"
          ],
          [
           "SHA-256"
          ],
          [
           "X11"
          ],
          [
           "SHA-256"
          ],
          [
           "NIST5"
          ],
          [
           "Scrypt"
          ],
          [
           "Scrypt"
          ],
          [
           "X11"
          ],
          [
           "Scrypt"
          ],
          [
           "SHA-256"
          ],
          [
           "Scrypt"
          ],
          [
           "PoS"
          ],
          [
           "X11"
          ],
          [
           "SHA-256"
          ],
          [
           "SHA-256"
          ],
          [
           "NIST5"
          ],
          [
           "X11"
          ],
          [
           "POS 3.0"
          ],
          [
           "Scrypt"
          ],
          [
           "Scrypt"
          ],
          [
           "Scrypt"
          ],
          [
           "X13"
          ],
          [
           "X11"
          ],
          [
           "X11"
          ],
          [
           "Scrypt"
          ],
          [
           "SHA-256"
          ],
          [
           "X11"
          ],
          [
           "Scrypt"
          ],
          [
           "Scrypt"
          ],
          [
           "Scrypt"
          ],
          [
           "Scrypt"
          ],
          [
           "SHA-256D"
          ],
          [
           "PoS"
          ],
          [
           "Scrypt"
          ],
          [
           "X11"
          ],
          [
           "PoS"
          ],
          [
           "X13"
          ],
          [
           "X14"
          ],
          [
           "PoS"
          ],
          [
           "SHA-256D"
          ],
          [
           "X11"
          ],
          [
           "X13"
          ],
          [
           "X11"
          ],
          [
           "PoS"
          ],
          [
           "Scrypt"
          ],
          [
           "Scrypt"
          ],
          [
           "PoS"
          ],
          [
           "X11"
          ],
          [
           "SHA-256"
          ],
          [
           "Scrypt"
          ],
          [
           "X11"
          ],
          [
           "Scrypt"
          ],
          [
           "Scrypt"
          ],
          [
           "X11"
          ],
          [
           "Scrypt"
          ],
          [
           "Scrypt"
          ],
          [
           "Scrypt"
          ],
          [
           "Scrypt"
          ],
          [
           "Quark"
          ],
          [
           "QuBit"
          ],
          [
           "Scrypt"
          ],
          [
           "SHA-256"
          ],
          [
           "X11"
          ],
          [
           "Scrypt"
          ],
          [
           "Scrypt"
          ],
          [
           "Scrypt"
          ],
          [
           "Scrypt"
          ],
          [
           "X13"
          ],
          [
           "Scrypt"
          ],
          [
           "Scrypt"
          ],
          [
           "X11"
          ],
          [
           "Blake2S"
          ],
          [
           "X11"
          ],
          [
           "PoS"
          ],
          [
           "X11"
          ],
          [
           "PoS"
          ],
          [
           "X11"
          ],
          [
           "Scrypt"
          ],
          [
           "Scrypt"
          ],
          [
           "Scrypt"
          ],
          [
           "SHA-256"
          ],
          [
           "X11"
          ],
          [
           "Scrypt"
          ],
          [
           "PoS"
          ],
          [
           "Scrypt"
          ],
          [
           "X15"
          ],
          [
           "SHA-256"
          ],
          [
           "POS 3.0"
          ],
          [
           "536"
          ],
          [
           "NIST5"
          ],
          [
           "NIST5"
          ],
          [
           "Skein"
          ],
          [
           "X13"
          ],
          [
           "Scrypt"
          ],
          [
           "X13"
          ],
          [
           "SkunkHash v2 Raptor"
          ],
          [
           "Skein"
          ],
          [
           "X11"
          ],
          [
           "Scrypt"
          ],
          [
           "PoS"
          ],
          [
           "Scrypt"
          ],
          [
           "Scrypt"
          ],
          [
           "SHA-512"
          ],
          [
           "Ouroboros"
          ],
          [
           "X11"
          ],
          [
           "NeoScrypt"
          ],
          [
           "Scrypt"
          ],
          [
           "Lyra2REv2"
          ],
          [
           "Scrypt"
          ],
          [
           "SHA-256"
          ],
          [
           "NIST5"
          ],
          [
           "PHI1612"
          ],
          [
           "Scrypt"
          ],
          [
           "Quark"
          ],
          [
           "POS 2.0"
          ],
          [
           "Scrypt"
          ],
          [
           "SHA-256"
          ],
          [
           "X11"
          ],
          [
           "NIST5"
          ],
          [
           "X13"
          ],
          [
           "Scrypt"
          ],
          [
           "NIST5"
          ],
          [
           "Quark"
          ],
          [
           "Scrypt"
          ],
          [
           "Scrypt"
          ],
          [
           "X11"
          ],
          [
           "Quark"
          ],
          [
           "Scrypt"
          ],
          [
           "Scrypt"
          ],
          [
           "X11"
          ],
          [
           "POS 3.0"
          ],
          [
           "Ethash"
          ],
          [
           "Scrypt"
          ],
          [
           "Scrypt"
          ],
          [
           "X13"
          ],
          [
           "C11"
          ],
          [
           "X11"
          ],
          [
           "XEVAN"
          ],
          [
           "Scrypt"
          ],
          [
           "VBFT"
          ],
          [
           "NIST5"
          ],
          [
           "Scrypt"
          ],
          [
           "Scrypt"
          ],
          [
           "Scrypt"
          ],
          [
           "Green Protocol"
          ],
          [
           "PoS"
          ],
          [
           "Scrypt"
          ],
          [
           "Quark"
          ],
          [
           "PoS"
          ],
          [
           "X16R"
          ],
          [
           "Scrypt"
          ],
          [
           "XEVAN"
          ],
          [
           "Scrypt"
          ],
          [
           "Scrypt"
          ],
          [
           "Scrypt"
          ],
          [
           "SHA-256D"
          ],
          [
           "Scrypt"
          ],
          [
           "X15"
          ],
          [
           "Scrypt"
          ],
          [
           "Quark"
          ],
          [
           "SHA-256"
          ],
          [
           "DPoS"
          ],
          [
           "X16R"
          ],
          [
           "Quark"
          ],
          [
           "Quark"
          ],
          [
           "Scrypt"
          ],
          [
           "Lyra2REv2"
          ],
          [
           "Quark"
          ],
          [
           "Scrypt"
          ],
          [
           "X11"
          ],
          [
           "X11"
          ],
          [
           "Scrypt"
          ],
          [
           "PoS"
          ],
          [
           "Keccak"
          ],
          [
           "X11"
          ],
          [
           "Scrypt"
          ],
          [
           "SHA-512"
          ],
          [
           "XEVAN"
          ],
          [
           "XEVAN"
          ],
          [
           "X11"
          ],
          [
           "Quark"
          ],
          [
           "Equihash"
          ],
          [
           "Scrypt"
          ],
          [
           "Quark"
          ],
          [
           "Quark"
          ],
          [
           "Scrypt"
          ],
          [
           "X11"
          ],
          [
           "Scrypt"
          ],
          [
           "XEVAN"
          ],
          [
           "SHA-256D"
          ],
          [
           "X11"
          ],
          [
           "X11"
          ],
          [
           "Scrypt"
          ],
          [
           "X11"
          ],
          [
           "Scrypt"
          ],
          [
           "Scrypt"
          ],
          [
           "SHA-256"
          ],
          [
           "Scrypt"
          ],
          [
           "X11"
          ],
          [
           "Scrypt"
          ],
          [
           "SHA-256"
          ],
          [
           "X11"
          ],
          [
           "Scrypt"
          ],
          [
           "Scrypt"
          ],
          [
           "X11"
          ],
          [
           "Scrypt"
          ],
          [
           "PoS"
          ],
          [
           "X11"
          ],
          [
           "SHA-256"
          ],
          [
           "Scrypt"
          ],
          [
           "Scrypt"
          ],
          [
           "NeoScrypt"
          ],
          [
           "SHA3-256"
          ],
          [
           "X13"
          ],
          [
           "SHA-256"
          ],
          [
           "PoS"
          ],
          [
           "PoS"
          ],
          [
           "SHA-256"
          ],
          [
           "Scrypt"
          ],
          [
           "Scrypt"
          ]
         ],
         "hovertemplate": "<b>%{hovertext}</b><br><br>class=%{marker.color}<br>pc_1=%{x}<br>pc_2=%{y}<br>pc_3=%{z}<br>Algorithm=%{customdata[0]}<extra></extra>",
         "hovertext": [
          "42 Coin",
          "404Coin",
          "EliteCoin",
          "Dash",
          "Bitshares",
          "BitcoinDark",
          "PayCoin",
          "KoboCoin",
          "Aurora Coin",
          "BlueCoin",
          "EnergyCoin",
          "BitBar",
          "CryptoBullion",
          "CasinoCoin",
          "Diamond",
          "Exclusive Coin",
          "FlutterCoin",
          "HoboNickels",
          "HyperStake",
          "IOCoin",
          "MaxCoin",
          "MintCoin",
          "MazaCoin",
          "Nautilus Coin",
          "NavCoin",
          "OpalCoin",
          "Orbitcoin",
          "PotCoin",
          "PhoenixCoin",
          "Reddcoin",
          "SuperCoin",
          "SyncCoin",
          "TittieCoin",
          "TorCoin",
          "UnitaryStatus Dollar",
          "UltraCoin",
          "VeriCoin",
          "X11 Coin",
          "StealthCoin",
          "ZCC Coin",
          "BurstCoin",
          "StorjCoin",
          "Neutron",
          "FairCoin",
          "RubyCoin",
          "Kore",
          "Dnotes",
          "8BIT Coin",
          "Sativa Coin",
          "Ucoin",
          "Vtorrent",
          "IslaCoin",
          "Nexus",
          "Droidz",
          "Squall Coin",
          "Diggits",
          "Paycon",
          "Emercoin",
          "EverGreenCoin",
          "Decred",
          "EDRCoin",
          "Hitcoin",
          "DubaiCoin",
          "PWR Coin",
          "BillaryCoin",
          "GPU Coin",
          "EuropeCoin",
          "ZeitCoin",
          "SwingCoin",
          "SafeExchangeCoin",
          "Nebuchadnezzar",
          "Ratecoin",
          "Revenu",
          "Clockcoin",
          "VIP Tokens",
          "BitSend",
          "Let it Ride",
          "PutinCoin",
          "iBankCoin",
          "Frankywillcoin",
          "MudraCoin",
          "Lutetium Coin",
          "GoldBlocks",
          "CarterCoin",
          "BitTokens",
          "MustangCoin",
          "ZoneCoin",
          "RootCoin",
          "BitCurrency",
          "Swiscoin",
          "BuzzCoin",
          "Opair",
          "PesoBit",
          "Halloween Coin",
          "CoffeeCoin",
          "RoyalCoin",
          "GanjaCoin V2",
          "TeamUP",
          "LanaCoin",
          "InsaneCoin",
          "EmberCoin",
          "XenixCoin",
          "FreeCoin",
          "PLNCoin",
          "AquariusCoin",
          "Creatio",
          "Eternity",
          "Eurocoin",
          "BitcoinFast",
          "Stakenet",
          "BitConnect Coin",
          "MoneyCoin",
          "Enigma",
          "Russiacoin",
          "PandaCoin",
          "GameUnits",
          "GAKHcoin",
          "Allsafe",
          "LiteCreed",
          "Klingon Empire Darsek",
          "Internet of People",
          "KushCoin",
          "Printerium",
          "Impeach",
          "Zilbercoin",
          "FirstCoin",
          "FindCoin",
          "OpenChat",
          "RenosCoin",
          "VirtacoinPlus",
          "TajCoin",
          "Impact",
          "Atmos",
          "HappyCoin",
          "MacronCoin",
          "Condensate",
          "Independent Money System",
          "ArgusCoin",
          "LomoCoin",
          "ProCurrency",
          "GoldReserve",
          "GrowthCoin",
          "Phreak",
          "Degas Coin",
          "HTML5 Coin",
          "Ultimate Secure Cash",
          "QTUM",
          "Espers",
          "Denarius",
          "Virta Unique Coin",
          "Bitcoin Planet",
          "BritCoin",
          "Linda",
          "DeepOnion",
          "Signatum",
          "Cream",
          "Monoeci",
          "Draftcoin",
          "Stakecoin",
          "CoinonatX",
          "Ethereum Dark",
          "Obsidian",
          "Cardano",
          "Regalcoin",
          "TrezarCoin",
          "TerraNovaCoin",
          "Rupee",
          "WomenCoin",
          "Theresa May Coin",
          "NamoCoin",
          "LUXCoin",
          "Xios",
          "Bitcloud 2.0",
          "KekCoin",
          "BlackholeCoin",
          "Infinity Economics",
          "Magnet",
          "Electra",
          "Bitcoin Diamond",
          "Cash & Back Coin",
          "Bulwark",
          "Kalkulus",
          "GermanCoin",
          "LiteCoin Ultra",
          "PhantomX",
          "Digiwage",
          "Trollcoin",
          "Litecoin Plus",
          "Monkey Project",
          "TokenPay",
          "1717 Masonic Commemorative Token",
          "My Big Coin",
          "Unified Society USDEX",
          "Tokyo Coin",
          "Stipend",
          "Pushi",
          "Ellerium",
          "Velox",
          "Ontology",
          "Bitspace",
          "Briacoin",
          "Ignition",
          "MedicCoin",
          "Bitcoin Green",
          "Deviant Coin",
          "Abjcoin",
          "Carebit",
          "Zealium",
          "Proton",
          "iDealCash",
          "Bitcoin Incognito",
          "HollyWoodCoin",
          "Swisscoin",
          "Xt3ch",
          "TheVig",
          "EmaratCoin",
          "Dekado",
          "Lynx",
          "Poseidon Quark",
          "BitcoinWSpectrum",
          "Muse",
          "Trivechain",
          "Dystem",
          "Giant",
          "Peony Coin",
          "Absolute Coin",
          "Vitae",
          "TPCash",
          "ARENON",
          "EUNO",
          "MMOCoin",
          "Ketan",
          "XDNA",
          "PAXEX",
          "ThunderStake",
          "Kcash",
          "Bettex coin",
          "BitMoney",
          "Junson Ming Chan Coin",
          "HerbCoin",
          "PirateCash",
          "Oduwa",
          "Galilel",
          "Crypto Sports",
          "Credit",
          "Dash Platinum",
          "Nasdacoin",
          "Beetle Coin",
          "Titan Coin",
          "Award",
          "Insane Coin",
          "LiteDoge",
          "TruckCoin",
          "OrangeCoin",
          "BitstarCoin",
          "NeosCoin",
          "HyperCoin",
          "PinkCoin",
          "AudioCoin",
          "IncaKoin",
          "Piggy Coin",
          "Genstake",
          "XiaoMiCoin",
          "CapriCoin",
          " ClubCoin",
          "Radium",
          "Creditbit ",
          "OKCash",
          "HiCoin",
          "WhiteCoin",
          "FriendshipCoin",
          "Fiii",
          "Triangles Coin",
          "TigerCash",
          "Particl",
          "Nxt",
          "ZEPHYR",
          "Gapcoin",
          "BitcoinPlus"
         ],
         "legendgroup": "0",
         "marker": {
          "color": [
           0,
           0,
           0,
           0,
           0,
           0,
           0,
           0,
           0,
           0,
           0,
           0,
           0,
           0,
           0,
           0,
           0,
           0,
           0,
           0,
           0,
           0,
           0,
           0,
           0,
           0,
           0,
           0,
           0,
           0,
           0,
           0,
           0,
           0,
           0,
           0,
           0,
           0,
           0,
           0,
           0,
           0,
           0,
           0,
           0,
           0,
           0,
           0,
           0,
           0,
           0,
           0,
           0,
           0,
           0,
           0,
           0,
           0,
           0,
           0,
           0,
           0,
           0,
           0,
           0,
           0,
           0,
           0,
           0,
           0,
           0,
           0,
           0,
           0,
           0,
           0,
           0,
           0,
           0,
           0,
           0,
           0,
           0,
           0,
           0,
           0,
           0,
           0,
           0,
           0,
           0,
           0,
           0,
           0,
           0,
           0,
           0,
           0,
           0,
           0,
           0,
           0,
           0,
           0,
           0,
           0,
           0,
           0,
           0,
           0,
           0,
           0,
           0,
           0,
           0,
           0,
           0,
           0,
           0,
           0,
           0,
           0,
           0,
           0,
           0,
           0,
           0,
           0,
           0,
           0,
           0,
           0,
           0,
           0,
           0,
           0,
           0,
           0,
           0,
           0,
           0,
           0,
           0,
           0,
           0,
           0,
           0,
           0,
           0,
           0,
           0,
           0,
           0,
           0,
           0,
           0,
           0,
           0,
           0,
           0,
           0,
           0,
           0,
           0,
           0,
           0,
           0,
           0,
           0,
           0,
           0,
           0,
           0,
           0,
           0,
           0,
           0,
           0,
           0,
           0,
           0,
           0,
           0,
           0,
           0,
           0,
           0,
           0,
           0,
           0,
           0,
           0,
           0,
           0,
           0,
           0,
           0,
           0,
           0,
           0,
           0,
           0,
           0,
           0,
           0,
           0,
           0,
           0,
           0,
           0,
           0,
           0,
           0,
           0,
           0,
           0,
           0,
           0,
           0,
           0,
           0,
           0,
           0,
           0,
           0,
           0,
           0,
           0,
           0,
           0,
           0,
           0,
           0,
           0,
           0,
           0,
           0,
           0,
           0,
           0,
           0,
           0,
           0,
           0,
           0,
           0,
           0,
           0,
           0,
           0,
           0,
           0,
           0,
           0,
           0,
           0,
           0,
           0,
           0,
           0,
           0,
           0,
           0,
           0,
           0,
           0,
           0,
           0,
           0,
           0,
           0,
           0,
           0,
           0,
           0,
           0,
           0,
           0,
           0
          ],
          "coloraxis": "coloraxis",
          "symbol": "circle"
         },
         "mode": "markers",
         "name": "0",
         "scene": "scene",
         "showlegend": true,
         "type": "scatter3d",
         "x": [
          -1.121871041929637,
          -1.1199975609293213,
          -0.6531851079884584,
          -1.298795382474961,
          -1.5787478998937232,
          -0.8178195992380564,
          -0.5651221474528909,
          -1.8908329115289972,
          -1.121811990148957,
          -1.1218710420775408,
          -1.1218710420775408,
          -1.1218692812869877,
          -1.1218675204964346,
          -0.4053392698621887,
          -1.0411581618849854,
          -1.501860390494944,
          -0.4753919790258842,
          -1.1214484523448593,
          -1.046141950453616,
          -1.29879538247496,
          -1.8049163923011742,
          -0.8691401352718708,
          -0.8093776650115246,
          -0.8690831560895813,
          -1.759522441050459,
          -1.759522441050459,
          -0.606766488260594,
          -1.1203919780131557,
          -1.1215259271291838,
          -1.1218710420775408,
          -1.046141950453616,
          -1.2988728537377041,
          -1.6072631468900913,
          -1.2988376414482288,
          -1.1162365123084552,
          -1.121518883966973,
          -0.4701724129400103,
          -1.2988534885632042,
          -1.759522441050459,
          -1.1183494609718623,
          -0.8921269899492957,
          -1.4383898384158265,
          -0.8176576065071953,
          -1.0411735864102285,
          -0.8691401352718708,
          -1.75948018207719,
          -0.867379344719032,
          -1.1218710420775408,
          -1.7594872252394012,
          -1.0460715188315022,
          -1.1218006104554268,
          -1.2988728572592856,
          -1.660344119223338,
          -1.8641589419985616,
          -0.635101735169338,
          -0.8687879771613031,
          -1.7593463619951744,
          -0.8143754929167035,
          -1.891972854376068,
          -0.9036371577771967,
          -0.8178195992380562,
          -1.2053748789035288,
          -0.8178600974207718,
          -1.5654729480804381,
          -1.121723135671102,
          -0.8683616804996592,
          -1.2975205701147048,
          -0.5205036058097281,
          -0.8177562107781542,
          -0.5386399762532891,
          -1.5017899588728294,
          -1.2986087386763592,
          -0.8171127298706194,
          -0.8160482439419003,
          -1.5651560057809275,
          -1.298383357485596,
          -1.4576007411664693,
          -1.1148278798661844,
          -1.1217149186496962,
          -1.121518883966973,
          -1.5060872180236533,
          -1.043828271667185,
          -1.2986967782040015,
          -1.1215540997780293,
          -0.8178231208191623,
          -1.2988622925159679,
          -1.121797088874321,
          -1.1218710420775408,
          -0.8691401352718708,
          -0.366122574669479,
          -1.7855507185938753,
          -1.5015997934931236,
          -1.1218710420775408,
          -1.2935904856007678,
          -1.5017195276099176,
          -1.5067827298553484,
          -2.0822282576969164,
          -1.5008003945821338,
          -1.8295493529282187,
          -1.2987672098261145,
          -1.756529097110632,
          -1.2988592874565128,
          -1.5016843114396592,
          -1.1217353203417277,
          -1.121723135671102,
          -1.5017899588728294,
          -1.2986615623929445,
          -0.817826642400268,
          -1.121754829901053,
          -0.7450275596777971,
          -1.1217724378065814,
          -1.1195796907034241,
          -1.2988552493537568,
          -1.1213639343983228,
          -0.7546362182711767,
          -1.1218252615231665,
          -1.1218593652576478,
          -1.4526044640306564,
          -0.7252611311783186,
          -1.1201102515247012,
          -0.8178231208191623,
          -1.2988399163896225,
          -1.1218006104554268,
          -1.1217938020664635,
          -0.8689464483110586,
          -0.4292899537107751,
          -1.5067403838022446,
          -1.1183494609718623,
          -0.869018899831098,
          -1.2985206991487175,
          -2.0500966141794246,
          -1.2984854833376605,
          -1.5014719952091509,
          -1.2985206991487175,
          -1.5004517580526715,
          -1.2971120667064462,
          -1.1217963418730155,
          -1.1217703248579178,
          -1.1183494609718623,
          -0.30104758429084577,
          -1.298731994015058,
          -0.8620969730605145,
          -1.5017547430617726,
          -1.1215012760614445,
          -1.575123165404946,
          -0.5644615544784469,
          -1.457366556022942,
          -1.606543581843536,
          -1.565437732269381,
          -1.5650503583477569,
          -1.994054279428728,
          -1.7594167936172878,
          -0.9457919867936302,
          -1.7594558895499979,
          -1.538301137111473,
          -1.994054279428728,
          -1.2988393766333652,
          -0.8690788390143043,
          -1.5016434612220888,
          -1.1217011187460293,
          -1.1218562514368966,
          -1.5911057673577262,
          -1.1618299318980956,
          -1.2987777745694318,
          -0.605371132179091,
          -1.1218156358693188,
          -0.7332924941954287,
          -1.0338315144355852,
          -0.8175449159118138,
          -1.5612470507536245,
          -1.8678823953724806,
          -1.121797088874321,
          -1.7046838783317755,
          -1.4044658965208396,
          -1.1218189639642246,
          -0.5334719372656076,
          -1.2983657495800673,
          -1.4598255149100918,
          -1.7587829090182658,
          -1.1211315100453485,
          -1.3126444367067325,
          -1.4525868561251278,
          -0.9457919867936302,
          -1.1213428049116887,
          -1.2986967782040015,
          -1.4522346980145602,
          -1.1187016190824302,
          -1.1218569557531175,
          -1.0460679972503966,
          -1.4576306746058678,
          -0.009822129986555971,
          -0.3288322343226515,
          -1.121054035261023,
          -1.5039742693602465,
          -1.0025901841223823,
          -1.298784817731643,
          -1.2399458320053987,
          -0.8687034592147668,
          -1.431260694509375,
          -1.5652968690251543,
          -1.1218604773342233,
          -1.121853434172012,
          -0.867379344719032,
          -1.5303863821047554,
          -1.5015504913576436,
          -1.12176539464437,
          -1.7046838783317755,
          -1.5015786640064888,
          -0.7265295275980861,
          -1.1038336754369829,
          -0.5763120515785728,
          -0.8690485741631233,
          -1.0859509147996227,
          -0.8689851857032211,
          -1.855630182596872,
          -1.1215752292646637,
          -1.6390176158108047,
          0.12719223276326938,
          -1.4503682600285503,
          -0.56481308572997,
          0.32501065933394857,
          -0.9791282111333904,
          -1.4525833345440224,
          -1.7053700548886361,
          -0.8096958462080227,
          -0.9859230359395866,
          -1.4523051296366738,
          -1.1183494609718623,
          -1.0459482634928032,
          -1.2986967782040015,
          -0.8682245241843947,
          -1.5011208584627511,
          -0.9737377301948871,
          -1.045789792343048,
          -1.058482582175333,
          -1.891811364479561,
          -0.9872501410107857,
          -0.09582158693978755,
          -1.046141950453616,
          -1.705198029173204,
          -0.00636407736754954,
          -1.121797088874321,
          -1.7053211577385048,
          -1.4526102042078575,
          -0.8584567753728107,
          -1.046072575305834,
          -1.1215752292646637,
          -1.2383963363188997,
          -1.838374435179048,
          -1.2973937931949007,
          -1.2987672098261145,
          -0.9986157033788033,
          -1.2988728572592856,
          -1.121166725856405,
          -1.1216799747540027,
          -0.5650922140134924,
          -1.1218710420775408,
          -1.2971120667064462,
          -1.0848944404679188,
          -0.8172279736123025,
          -1.2953512761536072,
          -1.1218182183609555,
          -1.120462409635269,
          -1.2981403683893042,
          -1.121307589100632,
          -1.5018286962649918,
          -0.8181945573384731,
          -0.8175273080062851,
          -0.8338932088098161,
          -1.120814567745837,
          -0.6065678776187665,
          -2.4538635446982933,
          -1.7595220184607252,
          -0.5616445861110334,
          -1.501829984670655,
          -1.5877619467866269,
          1.6396839696329402,
          -1.120990646801121,
          -0.8691366136907651
         ],
         "y": [
          -0.09558445049851319,
          -0.09352272898750427,
          1.5783246327900793,
          0.13169817343704884,
          0.5098239824259394,
          0.14290391732451446,
          0.32386790982654945,
          0.37889645283312623,
          -0.09551946541114496,
          -0.09558445066127928,
          -0.09558445066127928,
          -0.09558251295293914,
          -0.09558057524459916,
          0.06879291379971218,
          0.04669811659331377,
          0.7358343986124444,
          -0.25184003262714094,
          -0.0951194006596756,
          0.312613723230584,
          0.1316981734370494,
          0.7624563958058178,
          0.08541635829921562,
          0.15219406618988277,
          0.08547906254109836,
          0.36082657563179177,
          0.36082657563179177,
          -0.14434043660807008,
          -0.09395677565566675,
          -0.09520465982663634,
          -0.09558445066127928,
          0.312613723230584,
          0.13161291814550546,
          0.6295007478766885,
          0.1316516684368891,
          -0.08938378397323102,
          -0.09519690899327635,
          -0.3001148318860495,
          0.13163422906182923,
          0.36082657563179177,
          -0.0917090339812492,
          0.4294934433485029,
          0.7607798033656233,
          0.14308218649179585,
          0.04668114226825529,
          0.08541635829921562,
          0.36087308063195234,
          0.08735406663923062,
          -0.09558445066127928,
          0.36086532979859204,
          0.3126912315641846,
          -0.09550694232767863,
          0.13161291427008887,
          1.4760247123987673,
          0.37931134291389496,
          0.26531364590821943,
          0.08580389996721849,
          0.3610203464657937,
          0.146694074837584,
          0.37764197270296707,
          -0.009244156527055182,
          0.1429039173245146,
          0.23450522712488925,
          0.14285935003269415,
          0.24013353847154803,
          -0.09542168316071788,
          0.08627302935643293,
          0.13310107427522047,
          0.4690826096222002,
          0.14297367482475506,
          -0.07790135945581794,
          0.7359119069460448,
          0.13190357052109086,
          0.14368181033761368,
          0.1448532519145698,
          0.240482325972751,
          0.132151597188613,
          0.5809639673726532,
          -0.08783361730121912,
          -0.0954126405230896,
          -0.09519690899327635,
          0.5426024679282929,
          0.3151598719893636,
          0.13180668510409038,
          -0.09523566316007652,
          0.14290004190783442,
          0.13162454052012887,
          -0.09550306691099866,
          -0.09558445066127928,
          0.08541635829921562,
          -0.3422307042654849,
          0.49476278975892857,
          0.7361211794467664,
          -0.09558445066127928,
          0.13742603929013394,
          0.7359894148843533,
          0.5418370736145389,
          0.26328009658891555,
          0.7370008990331333,
          0.4463433337586319,
          0.1317291767704897,
          0.36412067980981766,
          0.13162784751695433,
          0.7360281694464459,
          -0.0954350921024308,
          -0.09542168316071788,
          0.7359119069460448,
          0.1318454392708908,
          0.14289616649115455,
          -0.09545656191083829,
          0.1346637033612487,
          -0.09547593899423826,
          -0.0930628726914455,
          0.1316322913534892,
          -0.09502639065935496,
          0.2114252095955188,
          -0.09553407024443876,
          -0.09557160059728127,
          0.5424508847479198,
          -0.030408358577533268,
          -0.09364674232126427,
          0.14290004190783442,
          0.13164916491771386,
          -0.09550694232767863,
          -0.09549944985672265,
          0.08562950621661718,
          -0.28645695289806833,
          0.5418836744439979,
          -0.0917090339812492,
          0.08554977503314362,
          0.1320004559380919,
          0.3252803069566756,
          0.13203921010489206,
          0.736261818434347,
          0.1320004559380919,
          0.7373845652844562,
          0.13355062261010392,
          -0.09550224485373703,
          -0.09547361374423045,
          -0.0917090339812492,
          0.6144757181203102,
          0.13176793093729014,
          0.09316719165927578,
          0.7359506611128448,
          -0.09517753190987614,
          0.726327558197829,
          0.32459487676413934,
          0.5812216825818756,
          0.7062254132740707,
          0.2401722926383484,
          0.24059858847315177,
          0.2737636273329652,
          0.36094283813219297,
          0.0981863833402279,
          0.360899813983323,
          0.5902483826709165,
          0.2737636273329652,
          0.13164975890670377,
          0.08548381338029147,
          0.7360731241442944,
          -0.09539745405563446,
          -0.09556817391122308,
          0.4962244416905633,
          1.0096258940320553,
          0.13171755052044948,
          -0.14280488025694166,
          -0.09552347744013857,
          0.20308518809869427,
          0.0013009663394743284,
          0.14320619982555688,
          0.24478403848758418,
          0.43981900555292597,
          -0.09550306691099866,
          0.36216702787323024,
          0.5705166977873766,
          -0.09552713992983486,
          0.3586982172383203,
          0.13217097427201321,
          0.3563960388724524,
          0.36164041313459805,
          -0.09477061315847295,
          0.42124175894967214,
          0.5424702618313195,
          0.0981863833402279,
          -0.09500313815927473,
          0.13180668510409038,
          0.5428578034993228,
          -0.09209657564925204,
          -0.0955689489945592,
          0.3126951069808647,
          0.5809310263308728,
          -0.0689463827951404,
          -0.3255639911461856,
          -0.09468535399151222,
          0.544927717936311,
          0.07420852444419915,
          0.1317097996870896,
          0.3633825706249639,
          0.08589690996753946,
          0.7992227527977929,
          0.24032730930554966,
          -0.09557282441123914,
          -0.09556507357787904,
          0.08735406663923062,
          0.39781657638308654,
          0.736175435280287,
          -0.09546818816087826,
          0.36216702787323024,
          0.7361444319468466,
          0.26296613917814127,
          -0.07573475546899044,
          0.4969321610125734,
          0.08551711913289632,
          -0.05605520052497171,
          0.08558687663313709,
          0.41764199782632877,
          -0.09525891566015665,
          0.5588896534568137,
          0.21852888051761124,
          0.5449117743397389,
          0.3242080249396827,
          3.756691820973633,
          0.08211083879804967,
          0.5424741372479996,
          0.3614119068085431,
          0.15083339185812436,
          0.022194828513580105,
          0.5427802951657221,
          -0.0917090339812492,
          0.31282687114798546,
          0.13180668510409038,
          0.08642396663602334,
          0.7366482361152502,
          0.12156626661364107,
          0.31300126489858704,
          -0.025826950420736714,
          0.28816966826685186,
          0.5443446254186584,
          1.021496432889836,
          0.312613723230584,
          0.3616012170379458,
          -0.14697095523436318,
          -0.09550306691099866,
          0.36146571696526963,
          0.5424445678187308,
          0.1942967170049756,
          0.3126900689391804,
          -0.09525891566015665,
          0.36508775396417703,
          0.4366315395584768,
          0.1332405892757015,
          0.1317291767704897,
          0.040055133139775614,
          0.13161291427008887,
          -0.0948093673252733,
          -0.09537418559271307,
          0.3239008508683296,
          -0.09558445066127928,
          0.13355062261010392,
          -0.054892575520962675,
          0.14355498732675967,
          0.13548833095011895,
          -0.09552631941107882,
          -0.09403428398926726,
          0.13241900093953504,
          -0.09496438399247452,
          0.7358692773625644,
          0.21174833487294525,
          0.14322557690895696,
          0.12420476686677473,
          -0.09442182565727024,
          -0.1441218702962143,
          4.66279210567855,
          0.36082704068179344,
          0.3276948837980791,
          0.7358678595026182,
          1.1047578708470607,
          4.002228617801905,
          -0.09461559649127173,
          0.08542023371589563
         ],
         "z": [
          -0.5122896325471282,
          -0.5126009786188298,
          -0.8380697300644468,
          -0.4597043017326835,
          -0.08636992455601394,
          -0.3926377535825203,
          -0.11766278260707233,
          -0.6514070130337231,
          -0.5122994461187308,
          -0.5122896325225493,
          -0.5122896325225493,
          -0.512289925141061,
          -0.5122902177595725,
          -0.2639734741420709,
          -0.45139604490895285,
          -0.16239132049651564,
          -0.22995076605948553,
          -0.5123598609653188,
          -0.18472201529444615,
          -0.459704301732683,
          -0.6351829474620581,
          -0.2373202212988203,
          -0.3940406837742468,
          -0.23732969043385357,
          -0.6542120968328711,
          -0.6542120968328711,
          -0.29827880279426405,
          -0.5125354320722428,
          -0.5123469857508113,
          -0.5122896325225493,
          -0.18472201529444615,
          -0.45969142710341204,
          -0.31976354823498243,
          -0.4596972788884059,
          -0.5132260117594769,
          -0.5123481562248574,
          -0.2028317726128143,
          -0.45969464532180215,
          -0.6542120968328711,
          -0.5128748695456289,
          -0.1918680818522188,
          -0.22431781790315014,
          -0.39266467448558207,
          -0.4513934815707918,
          -0.2373202212988203,
          -0.654219119677148,
          -0.23761283981036,
          -0.5122896325225493,
          -0.6542179492031018,
          -0.18473372003490776,
          -0.5123013372630112,
          -0.45969142651817513,
          -0.4830965625623707,
          -0.8812899285528333,
          -0.13454827190904128,
          -0.23737874500112816,
          -0.654241358684025,
          -0.3932101153910922,
          -0.6512175706388784,
          -0.3324688490292762,
          -0.39263775358252034,
          -0.47522946948093914,
          -0.3926310233567548,
          -0.5999685169221373,
          -0.5123142124775187,
          -0.2374495894831158,
          -0.4599161575350378,
          -0.2952586865837023,
          -0.39264828784893574,
          -0.24182078015556888,
          -0.1624030252369771,
          -0.459735319294906,
          -0.3927552252839779,
          -0.3929321278051295,
          -0.6000211882542142,
          -0.4597727744643833,
          -0.17682157628813402,
          -0.5134601065687084,
          -0.5123155780303774,
          -0.5123481562248574,
          -0.3793597330137583,
          -0.1851065160186097,
          -0.459720688369329,
          -0.5123423038546266,
          -0.3926371683454972,
          -0.4596931822292443,
          -0.5123019225000341,
          -0.5122896325225493,
          -0.2373202212988203,
          -0.26471466314714126,
          -0.7857371166451038,
          -0.1624346280362234,
          -0.5122896325225493,
          -0.4605692820527947,
          -0.1624147299177448,
          -0.3792441487742693,
          -0.7147214356879662,
          -0.16256747684046224,
          -0.7784251652787473,
          -0.45970898362886764,
          -0.6547095483024887,
          -0.45969368162766727,
          -0.16242058234766987,
          -0.5123121875574189,
          -0.5123142124775187,
          -0.1624030252369771,
          -0.4597265407395598,
          -0.39263658310847416,
          -0.512308945344311,
          -0.010708289391883029,
          -0.5123060191591956,
          -0.5126704227462516,
          -0.45969435270329045,
          -0.5123739066538731,
          -0.2563491544698867,
          -0.5122972406038494,
          -0.5122915730450328,
          -0.23979514566475918,
          -0.32724950771111205,
          -0.5125822510340894,
          -0.3926371683454972,
          -0.4596969008252893,
          -0.5123013372630112,
          -0.5123024687210606,
          -0.23735240933508955,
          -0.17324479758512026,
          -0.37925118608998465,
          -0.5128748695456289,
          -0.23734036891613192,
          -0.45974995022048315,
          -0.7312131417735288,
          -0.45975580259071375,
          -0.1624558663053481,
          -0.45974995022048315,
          -0.1626254153057473,
          -0.459984045029715,
          -0.5123020466410967,
          -0.5123063703014095,
          -0.5128748695456289,
          -0.16154824387525527,
          -0.4597148359990982,
          -0.23849069534497944,
          -0.16240887760720774,
          -0.5123510824099727,
          -0.7038735121528108,
          -0.11777256382585702,
          -0.17686049455016883,
          -0.8308774444687204,
          -0.5999743692923682,
          -0.6000387453649069,
          -0.7192298097144283,
          -0.6542296539435636,
          -0.5415514836765303,
          -0.6542231567519363,
          -0.14385187427384521,
          -0.7192298097144283,
          -0.4596969905251528,
          -0.23733040787076842,
          -0.16242737107665395,
          -0.5123178713793872,
          -0.5122920905180463,
          -0.08431622158873538,
          -0.15780411263303573,
          -0.4597072279177983,
          -0.298510691259919,
          -0.5122988402515176,
          -0.03453326411289767,
          -0.5269205580995397,
          -0.39268340207032043,
          -0.6006708013498328,
          -0.5934220285270129,
          -0.5123019225000341,
          -0.5148728257377578,
          -0.26873621321681407,
          -0.5122982871691668,
          -0.12292260035200045,
          -0.45977570064949874,
          -0.6175256276145259,
          -0.654334996607718,
          -0.5124125322973959,
          -0.32501532619855356,
          -0.23979807184987456,
          -0.5415514836765303,
          -0.5123774180760113,
          -0.459720688369329,
          -0.23985659555218258,
          -0.5128163458433211,
          -0.5122919734706418,
          -0.18473430527193094,
          -0.17681660177343775,
          0.13676246768272798,
          -0.12991185378891235,
          -0.512425407511904,
          -0.379710875227606,
          -0.4355995588077059,
          -0.4597060574437522,
          -0.4260465045222165,
          -0.23739279068968216,
          -0.1975049743937534,
          -0.5999977787732913,
          -0.5122913882336186,
          -0.5122925587076649,
          -0.23761283981036,
          -0.10710903757198746,
          -0.16244282135454668,
          -0.5123071896332417,
          -0.5148728257377578,
          -0.16243813945836202,
          -0.0725374161206174,
          -0.5152871880069013,
          -0.10088052566918217,
          -0.23733543746142025,
          -0.5182590501579616,
          -0.23734597172783578,
          -0.7740908998858197,
          -0.512338792432488,
          -0.37628544018399385,
          -0.2808725207133859,
          -0.2401667711744149,
          -0.11771414429866564,
          -0.38542327699133705,
          -0.34752880098368827,
          -0.23979865708689752,
          -0.5147587928890478,
          -0.2471990222484041,
          -0.309519354591784,
          -0.239844890811721,
          -0.5128748695456289,
          -0.18475420333071566,
          -0.459720688369329,
          -0.23747238292482095,
          -0.16251422027136211,
          -0.5210564628348734,
          -0.18478053899675434,
          -0.5228238989379824,
          0.08917998018088155,
          -0.15107124092825627,
          -0.04841549596532453,
          -0.18472201529444615,
          -0.5147873811323882,
          0.024833647376656377,
          -0.5123019225000341,
          -0.514766918904528,
          -0.23979419172841174,
          -0.5560653618489046,
          -0.18473354446380102,
          -0.512338792432488,
          -0.42630400881237124,
          -0.7769585612989095,
          -0.4599372260678686,
          -0.45970898362886764,
          -0.5327729283303361,
          -0.45969142651817513,
          -0.5124066799271654,
          -0.5123213852121167,
          -0.11766775712176859,
          -0.5122896325225493,
          -0.459984045029715,
          -0.5184346212648854,
          -0.39273607340239763,
          -0.46027666354125474,
          -0.5122984110778955,
          -0.5125237273317812,
          -0.45981315581897564,
          -0.5123832704462421,
          -0.16239658762972334,
          -0.006381255519372985,
          -0.3926863282554359,
          -0.2431777624703409,
          -0.5124652036294735,
          -0.2983118090767512,
          2.997479621309585,
          -0.6542121670613139,
          -0.11824070416736361,
          -0.16239637351490604,
          -0.13955343434348383,
          -0.39360135145385755,
          -0.5124359417783195,
          -0.23732080653584336
         ]
        },
        {
         "customdata": [
          [
           "SHA-256"
          ],
          [
           "Ethash"
          ],
          [
           "Scrypt"
          ],
          [
           "CryptoNight-V7"
          ],
          [
           "Ethash"
          ],
          [
           "Equihash"
          ],
          [
           "Scrypt"
          ],
          [
           "X11"
          ],
          [
           "Scrypt"
          ],
          [
           "Scrypt"
          ],
          [
           "SHA-256"
          ],
          [
           "Scrypt"
          ],
          [
           "Scrypt"
          ],
          [
           "Quark"
          ],
          [
           "Groestl"
          ],
          [
           "Scrypt"
          ],
          [
           "Scrypt"
          ],
          [
           "Scrypt"
          ],
          [
           "X11"
          ],
          [
           "SHA-256"
          ],
          [
           "Scrypt"
          ],
          [
           "Scrypt"
          ],
          [
           "Scrypt"
          ],
          [
           "Scrypt"
          ],
          [
           "Scrypt"
          ],
          [
           "NeoScrypt"
          ],
          [
           "Scrypt"
          ],
          [
           "Scrypt"
          ],
          [
           "Scrypt"
          ],
          [
           "Scrypt"
          ],
          [
           "SHA-256"
          ],
          [
           "Scrypt"
          ],
          [
           "Scrypt"
          ],
          [
           "Scrypt"
          ],
          [
           "Scrypt"
          ],
          [
           "HybridScryptHash256"
          ],
          [
           "Scrypt"
          ],
          [
           "Scrypt"
          ],
          [
           "SHA-256"
          ],
          [
           "Scrypt"
          ],
          [
           "Scrypt"
          ],
          [
           "Scrypt"
          ],
          [
           "Scrypt"
          ],
          [
           "SHA-256"
          ],
          [
           "SHA-256"
          ],
          [
           "SHA-256"
          ],
          [
           "SHA-256"
          ],
          [
           "SHA-256"
          ],
          [
           "X11"
          ],
          [
           "Scrypt"
          ],
          [
           "Lyra2REv2"
          ],
          [
           "Scrypt"
          ],
          [
           "SHA-256"
          ],
          [
           "CryptoNight"
          ],
          [
           "CryptoNight"
          ],
          [
           "Scrypt"
          ],
          [
           "Scrypt"
          ],
          [
           "Scrypt"
          ],
          [
           "Scrypt"
          ],
          [
           "Scrypt"
          ],
          [
           "Scrypt"
          ],
          [
           "Stanford Folding"
          ],
          [
           "QuBit"
          ],
          [
           "Scrypt"
          ],
          [
           "Scrypt"
          ],
          [
           "M7 POW"
          ],
          [
           "Scrypt"
          ],
          [
           "SHA-256"
          ],
          [
           "Scrypt"
          ],
          [
           "X11"
          ],
          [
           "Lyra2RE"
          ],
          [
           "SHA-256"
          ],
          [
           "X11"
          ],
          [
           "Scrypt"
          ],
          [
           "Scrypt"
          ],
          [
           "Ethash"
          ],
          [
           "Blake2b"
          ],
          [
           "X11"
          ],
          [
           "SHA-256"
          ],
          [
           "Scrypt"
          ],
          [
           "1GB AES Pattern Search"
          ],
          [
           "Scrypt"
          ],
          [
           "SHA-256"
          ],
          [
           "X11"
          ],
          [
           "Dagger"
          ],
          [
           "Scrypt"
          ],
          [
           "X11GOST"
          ],
          [
           "Scrypt"
          ],
          [
           "X11"
          ],
          [
           "Scrypt"
          ],
          [
           "X11"
          ],
          [
           "Equihash"
          ],
          [
           "CryptoNight"
          ],
          [
           "SHA-256"
          ],
          [
           "Scrypt"
          ],
          [
           "SHA-256"
          ],
          [
           "Scrypt"
          ],
          [
           "Lyra2Z"
          ],
          [
           "Ethash"
          ],
          [
           "Equihash"
          ],
          [
           "Scrypt"
          ],
          [
           "X11"
          ],
          [
           "X11"
          ],
          [
           "CryptoNight"
          ],
          [
           "Scrypt"
          ],
          [
           "CryptoNight"
          ],
          [
           "Lyra2RE"
          ],
          [
           "X11"
          ],
          [
           "CryptoNight-V7"
          ],
          [
           "Scrypt"
          ],
          [
           "X11"
          ],
          [
           "Equihash"
          ],
          [
           "Scrypt"
          ],
          [
           "Lyra2RE"
          ],
          [
           "Dagger-Hashimoto"
          ],
          [
           "Scrypt"
          ],
          [
           "NIST5"
          ],
          [
           "Scrypt"
          ],
          [
           "SHA-256"
          ],
          [
           "Scrypt"
          ],
          [
           "CryptoNight-V7"
          ],
          [
           "Argon2d"
          ],
          [
           "Blake2b"
          ],
          [
           "Cloverhash"
          ],
          [
           "CryptoNight"
          ],
          [
           "X11"
          ],
          [
           "Scrypt"
          ],
          [
           "Scrypt"
          ],
          [
           "X11"
          ],
          [
           "X11"
          ],
          [
           "CryptoNight"
          ],
          [
           "Time Travel"
          ],
          [
           "Scrypt"
          ],
          [
           "Keccak"
          ],
          [
           "X11"
          ],
          [
           "SHA-256"
          ],
          [
           "Scrypt"
          ],
          [
           "Scrypt"
          ],
          [
           "Scrypt"
          ],
          [
           "Scrypt"
          ],
          [
           "Scrypt"
          ],
          [
           "Scrypt"
          ],
          [
           "CryptoNight"
          ],
          [
           "Equihash"
          ],
          [
           "X11"
          ],
          [
           "NeoScrypt"
          ],
          [
           "Equihash"
          ],
          [
           "Dagger"
          ],
          [
           "Scrypt"
          ],
          [
           "X11"
          ],
          [
           "NeoScrypt"
          ],
          [
           "Ethash"
          ],
          [
           "NeoScrypt"
          ],
          [
           "CryptoNight"
          ],
          [
           "CryptoNight"
          ],
          [
           "Ethash"
          ],
          [
           "X11"
          ],
          [
           "CryptoNight-V7"
          ],
          [
           "Scrypt"
          ],
          [
           "BLAKE256"
          ],
          [
           "X11"
          ],
          [
           "NeoScrypt"
          ],
          [
           "NeoScrypt"
          ],
          [
           "Scrypt"
          ],
          [
           "X11"
          ],
          [
           "SHA-256"
          ],
          [
           "C11"
          ],
          [
           "CryptoNight"
          ],
          [
           "SkunkHash"
          ],
          [
           "CryptoNight"
          ],
          [
           "Scrypt"
          ],
          [
           "Dagger"
          ],
          [
           "Lyra2REv2"
          ],
          [
           "Scrypt"
          ],
          [
           "Scrypt"
          ],
          [
           "X11"
          ],
          [
           "Ethash"
          ],
          [
           "CryptoNight"
          ],
          [
           "Scrypt"
          ],
          [
           "IMesh"
          ],
          [
           "Equihash"
          ],
          [
           "Lyra2Z"
          ],
          [
           "X11"
          ],
          [
           "CryptoNight"
          ],
          [
           "NIST5"
          ],
          [
           "Lyra2RE"
          ],
          [
           "Tribus"
          ],
          [
           "Lyra2Z"
          ],
          [
           "CryptoNight"
          ],
          [
           "CryptoNight Heavy"
          ],
          [
           "CryptoNight"
          ],
          [
           "Jump Consistent Hash"
          ],
          [
           "CryptoNight"
          ],
          [
           "X16R"
          ],
          [
           "HMQ1725"
          ],
          [
           "X11"
          ],
          [
           "Scrypt"
          ],
          [
           "CryptoNight-V7"
          ],
          [
           "Cryptonight-GPU"
          ],
          [
           "XEVAN"
          ],
          [
           "CryptoNight Heavy"
          ],
          [
           "SHA-256"
          ],
          [
           "X11"
          ],
          [
           "X16R"
          ],
          [
           "Equihash"
          ],
          [
           "Lyra2Z"
          ],
          [
           "SHA-256"
          ],
          [
           "CryptoNight"
          ],
          [
           "Blake"
          ],
          [
           "Blake"
          ],
          [
           "Exosis"
          ],
          [
           "Scrypt"
          ],
          [
           "Equihash"
          ],
          [
           "Equihash"
          ],
          [
           "QuBit"
          ],
          [
           "SHA-256"
          ],
          [
           "X13"
          ],
          [
           "SHA-256"
          ],
          [
           "Scrypt"
          ],
          [
           "NeoScrypt"
          ],
          [
           "Blake"
          ],
          [
           "Scrypt"
          ],
          [
           "SHA-256"
          ],
          [
           "Scrypt"
          ],
          [
           "Groestl"
          ],
          [
           "Scrypt"
          ],
          [
           "Scrypt"
          ],
          [
           "Equihash+Scrypt"
          ],
          [
           "Ethash"
          ],
          [
           "CryptoNight"
          ],
          [
           "Equihash"
          ]
         ],
         "hovertemplate": "<b>%{hovertext}</b><br><br>class=%{marker.color}<br>pc_1=%{x}<br>pc_2=%{y}<br>pc_3=%{z}<br>Algorithm=%{customdata[0]}<extra></extra>",
         "hovertext": [
          "Bitcoin",
          "Ethereum",
          "Litecoin",
          "Monero",
          "Ethereum Classic",
          "ZCash",
          "ProsperCoin",
          "Spreadcoin",
          "Argentum",
          "MoonCoin",
          "ZetaCoin",
          "SexCoin",
          "Quatloo",
          "QuarkCoin",
          "Riecoin",
          "Digitalcoin ",
          "Catcoin",
          "CannaCoin",
          "CryptCoin",
          "DevCoin",
          "EarthCoin",
          "E-Gulden",
          "Einsteinium",
          "Emerald",
          "Franko",
          "FeatherCoin",
          "GrandCoin",
          "GlobalCoin",
          "GoldCoin",
          "Infinite Coin",
          "IXcoin",
          "KrugerCoin",
          "LuckyCoin",
          "Litebar ",
          "MegaCoin",
          "MediterraneanCoin",
          "MinCoin",
          "NobleCoin",
          "Namecoin",
          "NyanCoin",
          "RonPaulCoin",
          "StableCoin",
          "SmartCoin",
          "SysCoin",
          "TigerCoin",
          "TerraCoin",
          "UnbreakableCoin",
          "Unobtanium",
          "UroCoin",
          "ViaCoin",
          "Vertcoin",
          "WorldCoin",
          "JouleCoin",
          "ByteCoin",
          "DigitalNote ",
          "MonaCoin",
          "Gulden",
          "PesetaCoin",
          "Wild Beast Coin",
          "Flo",
          "ArtByte",
          "Folding Coin",
          "CypherPunkCoin",
          "OmniCron",
          "GreenCoin",
          "Cryptonite",
          "MasterCoin",
          "SoonCoin",
          "1Credit",
          "MarsCoin ",
          "Crypto",
          "Anarchists Prime",
          "BowsCoin",
          "Song Coin",
          "BitZeny",
          "Expanse",
          "Siacoin",
          "MindCoin",
          "I0coin",
          "Revolution VR",
          "HOdlcoin",
          "Gamecredits",
          "CarpeDiemCoin",
          "Adzcoin",
          "SoilCoin",
          "YoCoin",
          "SibCoin",
          "Francs",
          "BolivarCoin",
          "Omni",
          "PizzaCoin",
          "Komodo",
          "Karbo",
          "ZayedCoin",
          "DopeCoin",
          "DollarCoin",
          "Shilling",
          "ZCoin",
          "Elementrem",
          "ZClassic",
          "KiloCoin",
          "ArtexCoin",
          "Kurrent",
          "Cannabis Industry Coin",
          "OsmiumCoin",
          "Bikercoins",
          "HexxCoin",
          "PacCoin",
          "Citadel",
          "BeaverCoin",
          "VaultCoin",
          "Zero",
          "Canada eCoin",
          "Zoin",
          "DubaiCoin",
          "EB3coin",
          "Coinonat",
          "BenjiRolls",
          "ILCoin",
          "EquiTrader",
          "Quantum Resistant Ledger",
          "Dynamic",
          "Nano",
          "ChanCoin",
          "Dinastycoin",
          "DigitalPrice",
          "Unify",
          "SocialCoin",
          "ArcticCoin",
          "DAS",
          "LeviarCoin",
          "Bitcore",
          "gCn Coin",
          "SmartCash",
          "Onix",
          "Bitcoin Cash",
          "Sojourn Coin",
          "NewYorkCoin",
          "FrazCoin",
          "Kronecoin",
          "AdCoin",
          "Linx",
          "Sumokoin",
          "BitcoinZ",
          "Elements",
          "VIVO Coin",
          "Bitcoin Gold",
          "Pirl",
          "eBoost",
          "Pura",
          "Innova",
          "Ellaism",
          "GoByte",
          "UltraNote",
          "BitCoal",
          "DaxxCoin",
          "AC3",
          "Lethean",
          "PopularCoin",
          "Photon",
          "Sucre",
          "SparksPay",
          "GunCoin",
          "IrishCoin",
          "Pioneer Coin",
          "UnitedBitcoin",
          "Interzone",
          "TurtleCoin",
          "MUNcoin",
          "Niobio Cash",
          "ShareChain",
          "Travelflex",
          "KREDS",
          "BitFlip",
          "LottoCoin",
          "Crypto Improvement Fund",
          "Callisto Network",
          "BitTube",
          "Poseidon",
          "Aidos Kuneen",
          "Bitrolium",
          "Alpenschillling",
          "FuturoCoin",
          "Monero Classic",
          "Jumpcoin",
          "Infinex",
          "KEYCO",
          "GINcoin",
          "PlatinCoin",
          "Loki",
          "Newton Coin",
          "MassGrid",
          "PluraCoin",
          "Motion",
          "PlusOneCoin",
          "Axe",
          "HexCoin",
          "Webchain",
          "Ryo",
          "Urals Coin",
          "Qwertycoin",
          "Project Pai",
          "Azart",
          "Xchange",
          "CrypticCoin",
          "Actinium",
          "Bitcoin SV",
          "FREDEnergy",
          "Universal Molecule",
          "Lithium",
          "Exosis",
          "Block-Logic",
          "Beam",
          "Bithereum",
          "SLICE",
          "BLAST",
          "Bitcoin Rhodium",
          "GlobalToken",
          "SolarCoin",
          "UFO Coin",
          "BlakeCoin",
          "Crypto Escudo",
          "Crown Coin",
          "SmileyCoin",
          "Groestlcoin",
          "Bata",
          "Pakcoin",
          "Vollar",
          "Reality Clash",
          "Beldex",
          "Horizen"
         ],
         "legendgroup": "1",
         "marker": {
          "color": [
           1,
           1,
           1,
           1,
           1,
           1,
           1,
           1,
           1,
           1,
           1,
           1,
           1,
           1,
           1,
           1,
           1,
           1,
           1,
           1,
           1,
           1,
           1,
           1,
           1,
           1,
           1,
           1,
           1,
           1,
           1,
           1,
           1,
           1,
           1,
           1,
           1,
           1,
           1,
           1,
           1,
           1,
           1,
           1,
           1,
           1,
           1,
           1,
           1,
           1,
           1,
           1,
           1,
           1,
           1,
           1,
           1,
           1,
           1,
           1,
           1,
           1,
           1,
           1,
           1,
           1,
           1,
           1,
           1,
           1,
           1,
           1,
           1,
           1,
           1,
           1,
           1,
           1,
           1,
           1,
           1,
           1,
           1,
           1,
           1,
           1,
           1,
           1,
           1,
           1,
           1,
           1,
           1,
           1,
           1,
           1,
           1,
           1,
           1,
           1,
           1,
           1,
           1,
           1,
           1,
           1,
           1,
           1,
           1,
           1,
           1,
           1,
           1,
           1,
           1,
           1,
           1,
           1,
           1,
           1,
           1,
           1,
           1,
           1,
           1,
           1,
           1,
           1,
           1,
           1,
           1,
           1,
           1,
           1,
           1,
           1,
           1,
           1,
           1,
           1,
           1,
           1,
           1,
           1,
           1,
           1,
           1,
           1,
           1,
           1,
           1,
           1,
           1,
           1,
           1,
           1,
           1,
           1,
           1,
           1,
           1,
           1,
           1,
           1,
           1,
           1,
           1,
           1,
           1,
           1,
           1,
           1,
           1,
           1,
           1,
           1,
           1,
           1,
           1,
           1,
           1,
           1,
           1,
           1,
           1,
           1,
           1,
           1,
           1,
           1,
           1,
           1,
           1,
           1,
           1,
           1,
           1,
           1,
           1,
           1,
           1,
           1,
           1,
           1,
           1,
           1,
           1,
           1,
           1,
           1,
           1,
           1,
           1,
           1,
           1,
           1,
           1,
           1,
           1,
           1,
           1,
           1,
           1,
           1,
           1,
           1,
           1,
           1,
           1,
           1,
           1
          ],
          "coloraxis": "coloraxis",
          "symbol": "diamond"
         },
         "mode": "markers",
         "name": "1",
         "scene": "scene",
         "showlegend": true,
         "type": "scatter3d",
         "x": [
          1.1976940317107494,
          1.752958417703251,
          0.8939419232652489,
          1.963383783096197,
          1.7536979497354404,
          1.7561263555438182,
          0.8937200636555922,
          0.7167147268927416,
          0.8938714916431366,
          2.2459332550328055,
          1.1982180274420606,
          0.8945265057287924,
          0.8939982685629411,
          0.31099878851010504,
          0.9746393789325623,
          0.8938157309279094,
          0.8937200636555922,
          0.8936923840281017,
          0.7167076837305305,
          1.2715732817267749,
          0.9411874553790289,
          0.8937200636555922,
          0.8947018539080908,
          0.8937588010477547,
          0.8936856782791407,
          1.4099206391600592,
          0.8986489024275808,
          0.8938926211297705,
          0.8939005295444594,
          1.2127013586268187,
          1.1976940317107516,
          0.8945808113267072,
          0.8937165420744866,
          0.8936508645868657,
          0.8937940168588117,
          1.984643150461939,
          0.8936813262634299,
          0.946469827037546,
          1.1976940317107516,
          0.8948328832849868,
          0.8937200636555922,
          0.8945265057287924,
          0.8938264154049839,
          1.2007472425293746,
          1.197785634965782,
          1.197767984913971,
          1.1979018049959869,
          1.197620958902809,
          0.7166442952706282,
          0.8937271068178035,
          1.029705046395156,
          0.8945808113267072,
          1.197778549657288,
          2.868785699865784,
          2.2543844570173763,
          0.8940162990582019,
          0.8995623667099123,
          0.8942320522462227,
          0.8936553651675188,
          0.8942095634292815,
          0.8971676915580514,
          1.9006746586663352,
          1.289978396800813,
          0.8936579828890532,
          0.9288619215091549,
          1.9207401976159664,
          0.8936482919943934,
          1.1976940317107516,
          1.217631572174768,
          0.7167605074471153,
          1.890548838106059,
          1.1978093987077738,
          0.7167182484738474,
          0.894386487664031,
          0.8945265057287924,
          1.7530179549514868,
          1.9163873967990122,
          0.7167006405683187,
          1.1976940317107516,
          0.8943856424845653,
          1.9759892891320188,
          0.8939419232652499,
          1.2737787775416392,
          0.7169401080835054,
          1.9595746937999994,
          0.8942389732095696,
          1.8988276210678892,
          0.8937165420744866,
          0.71673233479827,
          0.8936482813240025,
          0.71673233479827,
          1.1240362058889974,
          2.2192038617716503,
          1.1976543646211772,
          0.8943504266735085,
          1.197657542136766,
          0.8937517578855433,
          1.8933640526882987,
          1.7530507026342534,
          1.756126355543818,
          0.9288619215091549,
          0.7184050858234671,
          0.7174472157627229,
          2.2192425991638127,
          0.8936556690306661,
          2.219256685488236,
          1.8903523722620748,
          1.0688024058384495,
          1.9640352756007482,
          0.8936579429648883,
          0.7201658763763065,
          1.7561122692193953,
          0.8939982685629411,
          1.8903911096577586,
          1.883116820824095,
          0.9077324348750858,
          0.45021412778098624,
          0.8937711984218792,
          1.206424031271728,
          0.8938996642919821,
          1.963753549112294,
          1.8745577570953829,
          1.9175857287532343,
          1.9040804650047112,
          2.22621180817195,
          0.7169964533811958,
          0.8937139952670308,
          0.8939102290352992,
          0.7168555901369688,
          0.7167108531535256,
          2.2193588113403,
          1.8795136959077343,
          1.597962331588015,
          1.0580984291787392,
          0.7205180344868741,
          1.1976940317107516,
          0.9306227120619944,
          0.8936461104523729,
          0.8937165420744866,
          0.8939419232652499,
          0.8939982685629411,
          0.8939982685629411,
          2.2194816753890794,
          1.830005605559841,
          0.7229831412608491,
          1.4088324705984048,
          1.756126355543818,
          1.9600194932034303,
          0.8939982685629411,
          0.7178768486576155,
          1.4088958590583074,
          1.7539444604128365,
          1.4088493741877126,
          2.518503039943241,
          2.219212665724415,
          1.7881742287600295,
          0.718581164878751,
          1.966903538318418,
          0.9112540159772426,
          1.4287483410605364,
          0.716714022576521,
          1.4088113411117702,
          1.4104981784613906,
          0.8938714916431366,
          0.716725291636059,
          1.197691094712109,
          1.0129398553025584,
          5.740749751638802,
          1.9595440436077525,
          2.220351897212101,
          0.9288619215091549,
          1.959821204477397,
          1.0332829727985253,
          0.8937869736966,
          0.958467782869517,
          0.7184050858234671,
          1.775848694890155,
          2.222690227066272,
          0.8937200636555922,
          1.9759477039134994,
          1.7562989130179967,
          1.8943451651843404,
          0.7169964533811958,
          2.219233443052938,
          0.4501181576526943,
          1.8904097036059966,
          1.9868055080014864,
          1.8933256674542465,
          2.2212815964481787,
          2.196828274764198,
          2.867139569405383,
          1.9028649125702088,
          2.222690227066272,
          1.036175988344417,
          1.9812281457750989,
          0.7167182484738474,
          0.8937239559288898,
          1.9695465500311342,
          1.9276811173808401,
          0.7760995576903671,
          2.8459261041628046,
          1.2050153988294567,
          0.71673233479827,
          1.0364504050869698,
          1.782816418743753,
          1.8935845036655143,
          1.1976940317107516,
          2.2476230212944732,
          1.874032817547821,
          1.8737514742023196,
          2.0179761327805936,
          0.8940687001850545,
          1.7569778738551713,
          1.7561611698946282,
          1.2903305549113808,
          1.1978454596982957,
          0.25600210679977725,
          1.1982117041332858,
          1.2391132169194057,
          1.4228237123312644,
          1.8983136966766683,
          0.8971676915580514,
          1.197767984913971,
          1.0697251657362838,
          0.9747133321357813,
          0.8936637183579018,
          0.8942870382136062,
          1.9929356207384255,
          1.7530446539841538,
          2.2240996434477136,
          1.756126355543818
         ],
         "y": [
          -0.5423346703745572,
          -0.9351881745900994,
          -0.7804936279425465,
          -0.9148086490178169,
          -0.9343743370872942,
          -1.01353201147837,
          -0.7807377791933878,
          -0.5535442896786995,
          -0.7805711362761465,
          0.7073408421879084,
          -0.5417580254709046,
          -0.7798503087736608,
          -0.7804316212756652,
          -0.32288553982519724,
          -0.6382280350130115,
          -0.7806324996238582,
          -0.7807377791933878,
          -0.7807682399684929,
          -0.5535520405120595,
          -0.4610323038442021,
          -0.7285010377632616,
          -0.7807377791933878,
          -0.7796573422513882,
          -0.7806951496099077,
          -0.7807756194865545,
          -0.8282876192068526,
          -0.7753137087497619,
          -0.7805478837760663,
          -0.7805391807528281,
          -0.4297064117329372,
          -0.5423346703745549,
          -0.7797905467481215,
          -0.7807416546100676,
          -0.7808139311311504,
          -0.7806563954431072,
          -0.9615748434826126,
          -0.7807804087768683,
          -0.7226879127432162,
          -0.5423346703745549,
          -0.7795131475224985,
          -0.7807377791933878,
          -0.7798503087736608,
          -0.7806207416096509,
          -0.5389746841129683,
          -0.5422338631598871,
          -0.5422532866242741,
          -0.5421060207904329,
          -0.5424150852706655,
          -0.5536217980123003,
          -0.7807300283600277,
          -0.662917808143388,
          -0.7797905467481215,
          -0.5422416603742339,
          -0.05187255767731217,
          -0.7280065876239024,
          -0.7804117791422637,
          -0.7743084629212176,
          -0.780174347863945,
          -0.7808089783486334,
          -0.7801990962748636,
          -0.7769437462636384,
          -0.9855343018840431,
          -0.7159485901089758,
          -0.7808060976080247,
          -0.7420649961433669,
          -1.0055294930427057,
          -0.7808167622082943,
          -0.5423346703745549,
          -0.4242808283808949,
          -0.5534939092618592,
          -0.9367891729886694,
          -0.5422077117241167,
          -0.5535404142620196,
          -0.780004395340859,
          -0.7798503087736608,
          -0.9351226552571684,
          -1.1010125900872119,
          -0.5535597913454198,
          -0.5423346703745549,
          -0.7800053254408622,
          -0.932473882821515,
          -0.780493627942546,
          -0.45860520788583303,
          -0.5532962630111776,
          -0.9782363348201166,
          -0.7801667315075438,
          -1.0035595902364547,
          -0.7807416546100676,
          -0.5535249125952993,
          -0.7808167739508067,
          -0.5535249125952993,
          -1.0114248940883384,
          -0.7667220002574036,
          -0.5423783230680385,
          -0.7800440796076623,
          -0.5423748262873189,
          -0.7807029004432676,
          -1.0196967901509546,
          -0.9350866172071516,
          -1.01353201147837,
          -0.7420649961433669,
          -0.5516840896722851,
          -0.5527382030092532,
          -0.766679370673923,
          -0.7808086439544297,
          -0.766663869007203,
          -0.9370053790012489,
          -0.16608013000928554,
          -0.9140916969320111,
          -0.7808061415436237,
          -0.5497463813322703,
          -1.01354751314509,
          -0.7804316212756652,
          -0.9369627494138935,
          -1.027022624267649,
          -0.7653174962235482,
          -0.44491417720519627,
          -0.780681506593027,
          -0.5327275124247599,
          -0.7805401329427062,
          -0.9144017302664136,
          -1.0441251525423543,
          -1.09969385412622,
          -1.1628296093224535,
          -0.7590099210641434,
          -0.5532342563442971,
          -0.7807444573114108,
          -0.780528506692666,
          -0.5533892730114982,
          -0.5535485526370475,
          -0.7665514819234822,
          -0.9816782274660726,
          -0.005735826937638691,
          -0.5457097647734883,
          -0.5493588396642669,
          -0.5423346703745549,
          -0.7401272878033518,
          -0.7808191629436684,
          -0.7807416546100676,
          -0.780493627942546,
          -0.7804316212756652,
          -0.7804316212756652,
          -0.7664162729449794,
          -0.9322296449480172,
          -0.5466460479882459,
          -0.829485122960982,
          -1.01353201147837,
          -0.9777468436013719,
          -0.7804316212756652,
          -0.5522654021742898,
          -0.8294153654607416,
          -0.9341030579196931,
          -0.8294665209609181,
          -0.437350336621641,
          -0.7667123117157033,
          -0.8964340077898002,
          -0.5514903188382835,
          -0.9109352416793287,
          -0.7614420795473932,
          -0.34577275135701135,
          -0.5535450647620356,
          -0.8295083754610622,
          -0.8276520508713279,
          -0.7805711362761465,
          -0.5535326634286595,
          -0.5423379024720658,
          -0.6110120061151386,
          3.108655925605942,
          -0.9839134458700736,
          -0.765458614419714,
          -0.7420649961433669,
          -0.977965055652514,
          -0.6589803847964772,
          -0.7806641462764671,
          -0.709484446242754,
          -0.5516840896722851,
          -0.9099979661699055,
          -0.7628853377441738,
          -0.7807377791933878,
          -0.8561703663908633,
          -1.0133421160610483,
          -1.0186170990638983,
          -0.5532342563442971,
          -0.7666894467572914,
          -0.44501979006056036,
          -0.9369422872138222,
          -0.9367844246302115,
          -1.0197390321927668,
          -0.76443550240872,
          -0.7266431472775013,
          -0.05368408529865657,
          -1.0881506564291308,
          -0.7628853377441738,
          -0.6033582232793411,
          -0.9702787183585712,
          -0.5535404142620196,
          -0.7807334958387219,
          -0.9080266698277638,
          -1.0970161152627682,
          -0.32127082915542066,
          -0.012326344814344671,
          -0.5342776790967717,
          -0.5535249125952993,
          -0.603056234147341,
          -0.9841602284604214,
          -1.019454189066785,
          -0.5423346703745549,
          -0.7354473876495601,
          -1.0212626864458096,
          -1.021572298140458,
          -0.9125644448505116,
          -0.7803541129420649,
          -1.0125949357251387,
          -1.0134936991090708,
          -0.715561048440973,
          -0.5421680274573133,
          -0.32439999827556915,
          -0.5417649841225901,
          -0.400640786632711,
          -0.8140880924912223,
          -0.9945421534925837,
          -0.7769437462636384,
          -0.5422532866242741,
          -0.5870483289421614,
          -0.6381466512627306,
          -0.7807997858602684,
          -0.7801138371079028,
          -0.995964898259358,
          -0.9350932736034642,
          -0.7613343083656545,
          -1.01353201147837
         ],
         "z": [
          0.2029775728908922,
          0.457408744628199,
          0.08327594880390032,
          0.447329921253412,
          0.4572858448533566,
          0.3455281372992549,
          0.0833128187363553,
          0.13591160997775248,
          0.08328765354436284,
          -0.14140590814873263,
          0.20289049220392338,
          0.08317879945806998,
          0.08326658501153204,
          0.08071440935854644,
          0.14417209975565876,
          0.08329692018738628,
          0.0833128187363553,
          0.08331741869935666,
          0.13591278045179855,
          0.19069988538370464,
          0.07542440890226497,
          0.0833128187363553,
          0.0831496590681784,
          0.0833063811291014,
          0.08331853310008791,
          0.2971415051459474,
          0.0824937153723843,
          0.08328414212222425,
          0.08328282785544167,
          0.030302634422826512,
          0.2029775728908919,
          0.08316977463498451,
          0.08331340397337822,
          0.08332431864385877,
          0.0833005287588706,
          0.5210324843526367,
          0.08331925634360912,
          0.07454655336764573,
          0.2029775728908919,
          0.0831278838370621,
          0.0833128187363553,
          0.08317879945806998,
          0.08329514457825819,
          0.20247017239188173,
          0.20296234972417504,
          0.2029652829134071,
          0.2029430439065301,
          0.2029897165591207,
          0.13592331471821403,
          0.08331164826230902,
          0.2860769516783778,
          0.08316977463498451,
          0.20296352720233785,
          0.3473279458871103,
          0.44943275152718093,
          0.0832635885979738,
          0.082341910515066,
          0.08322773346651778,
          0.08332357071094335,
          0.08323147079014719,
          0.08273987169076027,
          0.4632741861826632,
          0.2684113708030389,
          0.08332313568261022,
          0.07747273848304369,
          0.46010259588598984,
          0.0833247461723794,
          0.2029775728908919,
          0.029483302590515174,
          0.1359040018964524,
          0.48844329818032584,
          0.20295840052601571,
          0.13591102474072933,
          0.0832020684821077,
          0.08317879945806998,
          0.45739885037875333,
          0.6022529736315453,
          0.1359139509258447,
          0.2029775728908919,
          0.08320220893899327,
          0.5131803620209476,
          0.08327594880390127,
          0.1903333631408903,
          0.13587415480827536,
          0.4829146935353777,
          0.08322658330019635,
          0.3754988919206166,
          0.08331340397337822,
          0.13590868379263707,
          0.08332474794564756,
          0.13590868379263707,
          0.010334209839839644,
          0.4552792693877463,
          0.20298416500071992,
          0.083208061309224,
          0.20298363694252441,
          0.08330755160314751,
          0.4503161983868991,
          0.4573934081765719,
          0.34552813729925486,
          0.07747273848304369,
          0.13563069620667417,
          0.13578988067695183,
          0.45527283178049227,
          0.08332352021318148,
          0.45527049083239995,
          0.4884759480277155,
          0.0773996124102524,
          0.4472216524041431,
          0.08332314231744234,
          0.13533807769513448,
          0.3455304782473473,
          0.08326658501153204,
          0.48846951041987646,
          0.5208437444344831,
          0.08098416062152153,
          -0.0043820145425854905,
          0.08330432086068536,
          0.20152677031067745,
          0.08328297164817826,
          0.4472684713659892,
          0.4895940763902655,
          0.6020538277920756,
          0.5120517553664877,
          0.4541146477118178,
          0.135864791015906,
          0.08331382721679331,
          0.08328121593710894,
          0.13588820049682923,
          0.1359122537384778,
          0.45525351895873095,
          0.6141189211876238,
          -0.0337222959020836,
          0.07184629003656506,
          0.13527955399282643,
          0.2029775728908919,
          0.07718011997150381,
          0.0833251087138399,
          0.08331340397337822,
          0.08327594880390127,
          0.08326658501153204,
          0.08326658501153204,
          0.455233100689779,
          0.3332504497920678,
          0.13486988807667064,
          0.2973223433860789,
          0.34552813729925486,
          0.4828407741591315,
          0.08326658501153204,
          0.1357184817601361,
          0.29731180911966354,
          0.4572448782617424,
          0.29731953424836816,
          0.4055399747962094,
          0.45527780629518855,
          0.45155637439740864,
          0.1356014343555203,
          0.44674498766636594,
          0.08039892359902703,
          0.21048685010743204,
          0.13591172702515703,
          0.2973258548082175,
          0.2970455262741623,
          0.08328765354436284,
          0.13590985426668317,
          0.20297806097856907,
          0.16001304080880963,
          -0.12995190132164045,
          0.40802589613064494,
          0.45508848211822234,
          0.07747273848304369,
          0.4828737269437621,
          0.285482350862929,
          0.08330169923291672,
          0.07255266262839186,
          0.13563069620667417,
          0.4536047039781872,
          0.4546998847348974,
          0.0833128187363553,
          0.40695140888053716,
          0.345499460685124,
          0.4501531513522692,
          0.135864791015906,
          0.4552743533967525,
          -0.004366065663232569,
          0.4884664203683946,
          0.3483799070744053,
          0.4503225774704504,
          0.4549339792409765,
          0.4888401656934492,
          0.34760150951132823,
          0.4527923672663754,
          0.4546998847348974,
          0.24812133004113135,
          0.4076423498165161,
          0.13591102474072933,
          0.08331217189552736,
          0.44630575646302356,
          0.5597971672971033,
          0.1694804511607108,
          0.3809692775994144,
          0.20176086511990923,
          0.13590868379263707,
          0.24807572585577367,
          0.34109262590133455,
          0.4502795625492544,
          0.2029775728908919,
          0.4505564066114936,
          0.49608454551504677,
          0.4961313008039476,
          0.4739974585430362,
          0.08325488027107031,
          0.3453866269870742,
          0.34552235164604456,
          0.268352847100731,
          0.2029524076988994,
          -0.05859858459423035,
          0.20289154304849918,
          0.025913356749729454,
          0.29499719669338376,
          0.49204940647019824,
          0.08273987169076027,
          0.2029652829134071,
          0.0540632575598591,
          0.14415980977817403,
          0.08332218252872459,
          0.08321859557563951,
          0.5025581349574197,
          0.4573944133767568,
          0.45446565964605196,
          0.34552813729925486
         ]
        },
        {
         "customdata": [
          [
           "DPoS"
          ],
          [
           "VeChainThor Authority"
          ],
          [
           "DPoS"
          ],
          [
           "Semux BFT consensus"
          ],
          [
           "DPoS"
          ],
          [
           "DPoS"
          ],
          [
           "DPoS"
          ],
          [
           "DPoS"
          ],
          [
           "TRC10"
          ]
         ],
         "hovertemplate": "<b>%{hovertext}</b><br><br>class=%{marker.color}<br>pc_1=%{x}<br>pc_2=%{y}<br>pc_3=%{z}<br>Algorithm=%{customdata[0]}<extra></extra>",
         "hovertext": [
          "ARK",
          "Vechain",
          "Lamden Tau",
          "Semux",
          "ALAX",
          "Lisk",
          "EOS",
          "Oxycoin",
          "BitTorrent"
         ],
         "legendgroup": "2",
         "marker": {
          "color": [
           2,
           2,
           2,
           2,
           2,
           2,
           2,
           2,
           2
          ],
          "coloraxis": "coloraxis",
          "symbol": "square"
         },
         "mode": "markers",
         "name": "2",
         "scene": "scene",
         "showlegend": true,
         "type": "scatter3d",
         "x": [
          2.5231941550640844,
          3.842409517167346,
          2.5245147479787136,
          2.6975981141107344,
          2.5262755385315536,
          2.523317123041765,
          2.5227539574258744,
          2.5227539574258744,
          9.364840708531377
         ],
         "y": [
          7.427764490849854,
          13.567629459518775,
          7.429217772104865,
          7.8732222310059345,
          7.43115548044488,
          7.427899814199652,
          7.427280063764848,
          7.427280063764848,
          15.05519732249406
         ],
         "z": [
          -0.6602612597403212,
          -5.91607817726811,
          -0.6604807236239761,
          -0.7003959547583871,
          -0.6607733421355156,
          -0.6602816952807874,
          -0.6601881051124355,
          -0.6601881051124355,
          -1.9151723673442491
         ]
        },
        {
         "customdata": [
          [
           "Proof-of-BibleHash"
          ],
          [
           "SHA-256 + Hive"
          ],
          [
           "Proof-of-Authority"
          ],
          [
           "ECC 256K1"
          ],
          [
           "Leased POS"
          ]
         ],
         "hovertemplate": "<b>%{hovertext}</b><br><br>class=%{marker.color}<br>pc_1=%{x}<br>pc_2=%{y}<br>pc_3=%{z}<br>Algorithm=%{customdata[0]}<extra></extra>",
         "hovertext": [
          "BiblePay",
          "LitecoinCash",
          "Poa Network",
          "Acute Angle Cloud",
          "Waves"
         ],
         "legendgroup": "3",
         "marker": {
          "color": [
           3,
           3,
           3,
           3,
           3
          ],
          "coloraxis": "coloraxis",
          "symbol": "x"
         },
         "mode": "markers",
         "name": "3",
         "scene": "scene",
         "showlegend": true,
         "type": "scatter3d",
         "x": [
          -2.0360087194597485,
          -1.9253506787393373,
          -2.5886248936524185,
          -2.6505560715078023,
          -2.871175631057218
         ],
         "y": [
          3.40052992856457,
          4.280801526266987,
          2.8770297486475385,
          1.8374281360107578,
          2.6417772828217703
         ],
         "z": [
          14.323701352671433,
          10.855159704696156,
          10.548240239423743,
          16.1179598168853,
          15.342702364250814
         ]
        }
       ],
       "layout": {
        "coloraxis": {
         "colorbar": {
          "title": {
           "text": "class"
          }
         },
         "colorscale": [
          [
           0,
           "#0d0887"
          ],
          [
           0.1111111111111111,
           "#46039f"
          ],
          [
           0.2222222222222222,
           "#7201a8"
          ],
          [
           0.3333333333333333,
           "#9c179e"
          ],
          [
           0.4444444444444444,
           "#bd3786"
          ],
          [
           0.5555555555555556,
           "#d8576b"
          ],
          [
           0.6666666666666666,
           "#ed7953"
          ],
          [
           0.7777777777777778,
           "#fb9f3a"
          ],
          [
           0.8888888888888888,
           "#fdca26"
          ],
          [
           1,
           "#f0f921"
          ]
         ]
        },
        "height": 500,
        "legend": {
         "title": {
          "text": "class"
         },
         "tracegroupgap": 0,
         "x": 0,
         "y": 1
        },
        "margin": {
         "t": 60
        },
        "scene": {
         "domain": {
          "x": [
           0,
           1
          ],
          "y": [
           0,
           1
          ]
         },
         "xaxis": {
          "title": {
           "text": "pc_1"
          }
         },
         "yaxis": {
          "title": {
           "text": "pc_2"
          }
         },
         "zaxis": {
          "title": {
           "text": "pc_3"
          }
         }
        },
        "template": {
         "data": {
          "bar": [
           {
            "error_x": {
             "color": "#2a3f5f"
            },
            "error_y": {
             "color": "#2a3f5f"
            },
            "marker": {
             "line": {
              "color": "#E5ECF6",
              "width": 0.5
             }
            },
            "type": "bar"
           }
          ],
          "barpolar": [
           {
            "marker": {
             "line": {
              "color": "#E5ECF6",
              "width": 0.5
             }
            },
            "type": "barpolar"
           }
          ],
          "carpet": [
           {
            "aaxis": {
             "endlinecolor": "#2a3f5f",
             "gridcolor": "white",
             "linecolor": "white",
             "minorgridcolor": "white",
             "startlinecolor": "#2a3f5f"
            },
            "baxis": {
             "endlinecolor": "#2a3f5f",
             "gridcolor": "white",
             "linecolor": "white",
             "minorgridcolor": "white",
             "startlinecolor": "#2a3f5f"
            },
            "type": "carpet"
           }
          ],
          "choropleth": [
           {
            "colorbar": {
             "outlinewidth": 0,
             "ticks": ""
            },
            "type": "choropleth"
           }
          ],
          "contour": [
           {
            "colorbar": {
             "outlinewidth": 0,
             "ticks": ""
            },
            "colorscale": [
             [
              0,
              "#0d0887"
             ],
             [
              0.1111111111111111,
              "#46039f"
             ],
             [
              0.2222222222222222,
              "#7201a8"
             ],
             [
              0.3333333333333333,
              "#9c179e"
             ],
             [
              0.4444444444444444,
              "#bd3786"
             ],
             [
              0.5555555555555556,
              "#d8576b"
             ],
             [
              0.6666666666666666,
              "#ed7953"
             ],
             [
              0.7777777777777778,
              "#fb9f3a"
             ],
             [
              0.8888888888888888,
              "#fdca26"
             ],
             [
              1,
              "#f0f921"
             ]
            ],
            "type": "contour"
           }
          ],
          "contourcarpet": [
           {
            "colorbar": {
             "outlinewidth": 0,
             "ticks": ""
            },
            "type": "contourcarpet"
           }
          ],
          "heatmap": [
           {
            "colorbar": {
             "outlinewidth": 0,
             "ticks": ""
            },
            "colorscale": [
             [
              0,
              "#0d0887"
             ],
             [
              0.1111111111111111,
              "#46039f"
             ],
             [
              0.2222222222222222,
              "#7201a8"
             ],
             [
              0.3333333333333333,
              "#9c179e"
             ],
             [
              0.4444444444444444,
              "#bd3786"
             ],
             [
              0.5555555555555556,
              "#d8576b"
             ],
             [
              0.6666666666666666,
              "#ed7953"
             ],
             [
              0.7777777777777778,
              "#fb9f3a"
             ],
             [
              0.8888888888888888,
              "#fdca26"
             ],
             [
              1,
              "#f0f921"
             ]
            ],
            "type": "heatmap"
           }
          ],
          "heatmapgl": [
           {
            "colorbar": {
             "outlinewidth": 0,
             "ticks": ""
            },
            "colorscale": [
             [
              0,
              "#0d0887"
             ],
             [
              0.1111111111111111,
              "#46039f"
             ],
             [
              0.2222222222222222,
              "#7201a8"
             ],
             [
              0.3333333333333333,
              "#9c179e"
             ],
             [
              0.4444444444444444,
              "#bd3786"
             ],
             [
              0.5555555555555556,
              "#d8576b"
             ],
             [
              0.6666666666666666,
              "#ed7953"
             ],
             [
              0.7777777777777778,
              "#fb9f3a"
             ],
             [
              0.8888888888888888,
              "#fdca26"
             ],
             [
              1,
              "#f0f921"
             ]
            ],
            "type": "heatmapgl"
           }
          ],
          "histogram": [
           {
            "marker": {
             "colorbar": {
              "outlinewidth": 0,
              "ticks": ""
             }
            },
            "type": "histogram"
           }
          ],
          "histogram2d": [
           {
            "colorbar": {
             "outlinewidth": 0,
             "ticks": ""
            },
            "colorscale": [
             [
              0,
              "#0d0887"
             ],
             [
              0.1111111111111111,
              "#46039f"
             ],
             [
              0.2222222222222222,
              "#7201a8"
             ],
             [
              0.3333333333333333,
              "#9c179e"
             ],
             [
              0.4444444444444444,
              "#bd3786"
             ],
             [
              0.5555555555555556,
              "#d8576b"
             ],
             [
              0.6666666666666666,
              "#ed7953"
             ],
             [
              0.7777777777777778,
              "#fb9f3a"
             ],
             [
              0.8888888888888888,
              "#fdca26"
             ],
             [
              1,
              "#f0f921"
             ]
            ],
            "type": "histogram2d"
           }
          ],
          "histogram2dcontour": [
           {
            "colorbar": {
             "outlinewidth": 0,
             "ticks": ""
            },
            "colorscale": [
             [
              0,
              "#0d0887"
             ],
             [
              0.1111111111111111,
              "#46039f"
             ],
             [
              0.2222222222222222,
              "#7201a8"
             ],
             [
              0.3333333333333333,
              "#9c179e"
             ],
             [
              0.4444444444444444,
              "#bd3786"
             ],
             [
              0.5555555555555556,
              "#d8576b"
             ],
             [
              0.6666666666666666,
              "#ed7953"
             ],
             [
              0.7777777777777778,
              "#fb9f3a"
             ],
             [
              0.8888888888888888,
              "#fdca26"
             ],
             [
              1,
              "#f0f921"
             ]
            ],
            "type": "histogram2dcontour"
           }
          ],
          "mesh3d": [
           {
            "colorbar": {
             "outlinewidth": 0,
             "ticks": ""
            },
            "type": "mesh3d"
           }
          ],
          "parcoords": [
           {
            "line": {
             "colorbar": {
              "outlinewidth": 0,
              "ticks": ""
             }
            },
            "type": "parcoords"
           }
          ],
          "pie": [
           {
            "automargin": true,
            "type": "pie"
           }
          ],
          "scatter": [
           {
            "marker": {
             "colorbar": {
              "outlinewidth": 0,
              "ticks": ""
             }
            },
            "type": "scatter"
           }
          ],
          "scatter3d": [
           {
            "line": {
             "colorbar": {
              "outlinewidth": 0,
              "ticks": ""
             }
            },
            "marker": {
             "colorbar": {
              "outlinewidth": 0,
              "ticks": ""
             }
            },
            "type": "scatter3d"
           }
          ],
          "scattercarpet": [
           {
            "marker": {
             "colorbar": {
              "outlinewidth": 0,
              "ticks": ""
             }
            },
            "type": "scattercarpet"
           }
          ],
          "scattergeo": [
           {
            "marker": {
             "colorbar": {
              "outlinewidth": 0,
              "ticks": ""
             }
            },
            "type": "scattergeo"
           }
          ],
          "scattergl": [
           {
            "marker": {
             "colorbar": {
              "outlinewidth": 0,
              "ticks": ""
             }
            },
            "type": "scattergl"
           }
          ],
          "scattermapbox": [
           {
            "marker": {
             "colorbar": {
              "outlinewidth": 0,
              "ticks": ""
             }
            },
            "type": "scattermapbox"
           }
          ],
          "scatterpolar": [
           {
            "marker": {
             "colorbar": {
              "outlinewidth": 0,
              "ticks": ""
             }
            },
            "type": "scatterpolar"
           }
          ],
          "scatterpolargl": [
           {
            "marker": {
             "colorbar": {
              "outlinewidth": 0,
              "ticks": ""
             }
            },
            "type": "scatterpolargl"
           }
          ],
          "scatterternary": [
           {
            "marker": {
             "colorbar": {
              "outlinewidth": 0,
              "ticks": ""
             }
            },
            "type": "scatterternary"
           }
          ],
          "surface": [
           {
            "colorbar": {
             "outlinewidth": 0,
             "ticks": ""
            },
            "colorscale": [
             [
              0,
              "#0d0887"
             ],
             [
              0.1111111111111111,
              "#46039f"
             ],
             [
              0.2222222222222222,
              "#7201a8"
             ],
             [
              0.3333333333333333,
              "#9c179e"
             ],
             [
              0.4444444444444444,
              "#bd3786"
             ],
             [
              0.5555555555555556,
              "#d8576b"
             ],
             [
              0.6666666666666666,
              "#ed7953"
             ],
             [
              0.7777777777777778,
              "#fb9f3a"
             ],
             [
              0.8888888888888888,
              "#fdca26"
             ],
             [
              1,
              "#f0f921"
             ]
            ],
            "type": "surface"
           }
          ],
          "table": [
           {
            "cells": {
             "fill": {
              "color": "#EBF0F8"
             },
             "line": {
              "color": "white"
             }
            },
            "header": {
             "fill": {
              "color": "#C8D4E3"
             },
             "line": {
              "color": "white"
             }
            },
            "type": "table"
           }
          ]
         },
         "layout": {
          "annotationdefaults": {
           "arrowcolor": "#2a3f5f",
           "arrowhead": 0,
           "arrowwidth": 1
          },
          "coloraxis": {
           "colorbar": {
            "outlinewidth": 0,
            "ticks": ""
           }
          },
          "colorscale": {
           "diverging": [
            [
             0,
             "#8e0152"
            ],
            [
             0.1,
             "#c51b7d"
            ],
            [
             0.2,
             "#de77ae"
            ],
            [
             0.3,
             "#f1b6da"
            ],
            [
             0.4,
             "#fde0ef"
            ],
            [
             0.5,
             "#f7f7f7"
            ],
            [
             0.6,
             "#e6f5d0"
            ],
            [
             0.7,
             "#b8e186"
            ],
            [
             0.8,
             "#7fbc41"
            ],
            [
             0.9,
             "#4d9221"
            ],
            [
             1,
             "#276419"
            ]
           ],
           "sequential": [
            [
             0,
             "#0d0887"
            ],
            [
             0.1111111111111111,
             "#46039f"
            ],
            [
             0.2222222222222222,
             "#7201a8"
            ],
            [
             0.3333333333333333,
             "#9c179e"
            ],
            [
             0.4444444444444444,
             "#bd3786"
            ],
            [
             0.5555555555555556,
             "#d8576b"
            ],
            [
             0.6666666666666666,
             "#ed7953"
            ],
            [
             0.7777777777777778,
             "#fb9f3a"
            ],
            [
             0.8888888888888888,
             "#fdca26"
            ],
            [
             1,
             "#f0f921"
            ]
           ],
           "sequentialminus": [
            [
             0,
             "#0d0887"
            ],
            [
             0.1111111111111111,
             "#46039f"
            ],
            [
             0.2222222222222222,
             "#7201a8"
            ],
            [
             0.3333333333333333,
             "#9c179e"
            ],
            [
             0.4444444444444444,
             "#bd3786"
            ],
            [
             0.5555555555555556,
             "#d8576b"
            ],
            [
             0.6666666666666666,
             "#ed7953"
            ],
            [
             0.7777777777777778,
             "#fb9f3a"
            ],
            [
             0.8888888888888888,
             "#fdca26"
            ],
            [
             1,
             "#f0f921"
            ]
           ]
          },
          "colorway": [
           "#636efa",
           "#EF553B",
           "#00cc96",
           "#ab63fa",
           "#FFA15A",
           "#19d3f3",
           "#FF6692",
           "#B6E880",
           "#FF97FF",
           "#FECB52"
          ],
          "font": {
           "color": "#2a3f5f"
          },
          "geo": {
           "bgcolor": "white",
           "lakecolor": "white",
           "landcolor": "#E5ECF6",
           "showlakes": true,
           "showland": true,
           "subunitcolor": "white"
          },
          "hoverlabel": {
           "align": "left"
          },
          "hovermode": "closest",
          "mapbox": {
           "style": "light"
          },
          "paper_bgcolor": "white",
          "plot_bgcolor": "#E5ECF6",
          "polar": {
           "angularaxis": {
            "gridcolor": "white",
            "linecolor": "white",
            "ticks": ""
           },
           "bgcolor": "#E5ECF6",
           "radialaxis": {
            "gridcolor": "white",
            "linecolor": "white",
            "ticks": ""
           }
          },
          "scene": {
           "xaxis": {
            "backgroundcolor": "#E5ECF6",
            "gridcolor": "white",
            "gridwidth": 2,
            "linecolor": "white",
            "showbackground": true,
            "ticks": "",
            "zerolinecolor": "white"
           },
           "yaxis": {
            "backgroundcolor": "#E5ECF6",
            "gridcolor": "white",
            "gridwidth": 2,
            "linecolor": "white",
            "showbackground": true,
            "ticks": "",
            "zerolinecolor": "white"
           },
           "zaxis": {
            "backgroundcolor": "#E5ECF6",
            "gridcolor": "white",
            "gridwidth": 2,
            "linecolor": "white",
            "showbackground": true,
            "ticks": "",
            "zerolinecolor": "white"
           }
          },
          "shapedefaults": {
           "line": {
            "color": "#2a3f5f"
           }
          },
          "ternary": {
           "aaxis": {
            "gridcolor": "white",
            "linecolor": "white",
            "ticks": ""
           },
           "baxis": {
            "gridcolor": "white",
            "linecolor": "white",
            "ticks": ""
           },
           "bgcolor": "#E5ECF6",
           "caxis": {
            "gridcolor": "white",
            "linecolor": "white",
            "ticks": ""
           }
          },
          "title": {
           "x": 0.05
          },
          "xaxis": {
           "automargin": true,
           "gridcolor": "white",
           "linecolor": "white",
           "ticks": "",
           "title": {
            "standoff": 15
           },
           "zerolinecolor": "white",
           "zerolinewidth": 2
          },
          "yaxis": {
           "automargin": true,
           "gridcolor": "white",
           "linecolor": "white",
           "ticks": "",
           "title": {
            "standoff": 15
           },
           "zerolinecolor": "white",
           "zerolinewidth": 2
          }
         }
        },
        "width": 800
       }
      },
      "text/html": [
       "<div>\n",
       "        \n",
       "        \n",
       "            <div id=\"166a2ee1-e867-4c88-a422-5819957a0fc8\" class=\"plotly-graph-div\" style=\"height:500px; width:800px;\"></div>\n",
       "            <script type=\"text/javascript\">\n",
       "                require([\"plotly\"], function(Plotly) {\n",
       "                    window.PLOTLYENV=window.PLOTLYENV || {};\n",
       "                    \n",
       "                if (document.getElementById(\"166a2ee1-e867-4c88-a422-5819957a0fc8\")) {\n",
       "                    Plotly.newPlot(\n",
       "                        '166a2ee1-e867-4c88-a422-5819957a0fc8',\n",
       "                        [{\"customdata\": [[\"Scrypt\"], [\"Scrypt\"], [\"X13\"], [\"X11\"], [\"SHA-512\"], [\"SHA-256\"], [\"SHA-256\"], [\"X15\"], [\"Scrypt\"], [\"Scrypt\"], [\"Scrypt\"], [\"Scrypt\"], [\"Scrypt\"], [\"Scrypt\"], [\"Groestl\"], [\"PoS\"], [\"Scrypt\"], [\"Scrypt\"], [\"X11\"], [\"X11\"], [\"SHA3\"], [\"Scrypt\"], [\"SHA-256\"], [\"Scrypt\"], [\"X13\"], [\"X13\"], [\"NeoScrypt\"], [\"Scrypt\"], [\"Scrypt\"], [\"Scrypt\"], [\"X11\"], [\"X11\"], [\"PHI1612\"], [\"X11\"], [\"Scrypt\"], [\"Scrypt\"], [\"Scrypt\"], [\"X11\"], [\"X13\"], [\"Scrypt\"], [\"Shabal256\"], [\"Counterparty\"], [\"SHA-256\"], [\"Groestl\"], [\"Scrypt\"], [\"X13\"], [\"Scrypt\"], [\"Scrypt\"], [\"X13\"], [\"X11\"], [\"Scrypt\"], [\"X11\"], [\"SHA3\"], [\"QUAIT\"], [\"X11\"], [\"Scrypt\"], [\"X13\"], [\"SHA-256\"], [\"X15\"], [\"BLAKE256\"], [\"SHA-256\"], [\"X11\"], [\"SHA-256\"], [\"NIST5\"], [\"Scrypt\"], [\"Scrypt\"], [\"X11\"], [\"Scrypt\"], [\"SHA-256\"], [\"Scrypt\"], [\"PoS\"], [\"X11\"], [\"SHA-256\"], [\"SHA-256\"], [\"NIST5\"], [\"X11\"], [\"POS 3.0\"], [\"Scrypt\"], [\"Scrypt\"], [\"Scrypt\"], [\"X13\"], [\"X11\"], [\"X11\"], [\"Scrypt\"], [\"SHA-256\"], [\"X11\"], [\"Scrypt\"], [\"Scrypt\"], [\"Scrypt\"], [\"Scrypt\"], [\"SHA-256D\"], [\"PoS\"], [\"Scrypt\"], [\"X11\"], [\"PoS\"], [\"X13\"], [\"X14\"], [\"PoS\"], [\"SHA-256D\"], [\"X11\"], [\"X13\"], [\"X11\"], [\"PoS\"], [\"Scrypt\"], [\"Scrypt\"], [\"PoS\"], [\"X11\"], [\"SHA-256\"], [\"Scrypt\"], [\"X11\"], [\"Scrypt\"], [\"Scrypt\"], [\"X11\"], [\"Scrypt\"], [\"Scrypt\"], [\"Scrypt\"], [\"Scrypt\"], [\"Quark\"], [\"QuBit\"], [\"Scrypt\"], [\"SHA-256\"], [\"X11\"], [\"Scrypt\"], [\"Scrypt\"], [\"Scrypt\"], [\"Scrypt\"], [\"X13\"], [\"Scrypt\"], [\"Scrypt\"], [\"X11\"], [\"Blake2S\"], [\"X11\"], [\"PoS\"], [\"X11\"], [\"PoS\"], [\"X11\"], [\"Scrypt\"], [\"Scrypt\"], [\"Scrypt\"], [\"SHA-256\"], [\"X11\"], [\"Scrypt\"], [\"PoS\"], [\"Scrypt\"], [\"X15\"], [\"SHA-256\"], [\"POS 3.0\"], [\"536\"], [\"NIST5\"], [\"NIST5\"], [\"Skein\"], [\"X13\"], [\"Scrypt\"], [\"X13\"], [\"SkunkHash v2 Raptor\"], [\"Skein\"], [\"X11\"], [\"Scrypt\"], [\"PoS\"], [\"Scrypt\"], [\"Scrypt\"], [\"SHA-512\"], [\"Ouroboros\"], [\"X11\"], [\"NeoScrypt\"], [\"Scrypt\"], [\"Lyra2REv2\"], [\"Scrypt\"], [\"SHA-256\"], [\"NIST5\"], [\"PHI1612\"], [\"Scrypt\"], [\"Quark\"], [\"POS 2.0\"], [\"Scrypt\"], [\"SHA-256\"], [\"X11\"], [\"NIST5\"], [\"X13\"], [\"Scrypt\"], [\"NIST5\"], [\"Quark\"], [\"Scrypt\"], [\"Scrypt\"], [\"X11\"], [\"Quark\"], [\"Scrypt\"], [\"Scrypt\"], [\"X11\"], [\"POS 3.0\"], [\"Ethash\"], [\"Scrypt\"], [\"Scrypt\"], [\"X13\"], [\"C11\"], [\"X11\"], [\"XEVAN\"], [\"Scrypt\"], [\"VBFT\"], [\"NIST5\"], [\"Scrypt\"], [\"Scrypt\"], [\"Scrypt\"], [\"Green Protocol\"], [\"PoS\"], [\"Scrypt\"], [\"Quark\"], [\"PoS\"], [\"X16R\"], [\"Scrypt\"], [\"XEVAN\"], [\"Scrypt\"], [\"Scrypt\"], [\"Scrypt\"], [\"SHA-256D\"], [\"Scrypt\"], [\"X15\"], [\"Scrypt\"], [\"Quark\"], [\"SHA-256\"], [\"DPoS\"], [\"X16R\"], [\"Quark\"], [\"Quark\"], [\"Scrypt\"], [\"Lyra2REv2\"], [\"Quark\"], [\"Scrypt\"], [\"X11\"], [\"X11\"], [\"Scrypt\"], [\"PoS\"], [\"Keccak\"], [\"X11\"], [\"Scrypt\"], [\"SHA-512\"], [\"XEVAN\"], [\"XEVAN\"], [\"X11\"], [\"Quark\"], [\"Equihash\"], [\"Scrypt\"], [\"Quark\"], [\"Quark\"], [\"Scrypt\"], [\"X11\"], [\"Scrypt\"], [\"XEVAN\"], [\"SHA-256D\"], [\"X11\"], [\"X11\"], [\"Scrypt\"], [\"X11\"], [\"Scrypt\"], [\"Scrypt\"], [\"SHA-256\"], [\"Scrypt\"], [\"X11\"], [\"Scrypt\"], [\"SHA-256\"], [\"X11\"], [\"Scrypt\"], [\"Scrypt\"], [\"X11\"], [\"Scrypt\"], [\"PoS\"], [\"X11\"], [\"SHA-256\"], [\"Scrypt\"], [\"Scrypt\"], [\"NeoScrypt\"], [\"SHA3-256\"], [\"X13\"], [\"SHA-256\"], [\"PoS\"], [\"PoS\"], [\"SHA-256\"], [\"Scrypt\"], [\"Scrypt\"]], \"hovertemplate\": \"<b>%{hovertext}</b><br><br>class=%{marker.color}<br>pc_1=%{x}<br>pc_2=%{y}<br>pc_3=%{z}<br>Algorithm=%{customdata[0]}<extra></extra>\", \"hovertext\": [\"42 Coin\", \"404Coin\", \"EliteCoin\", \"Dash\", \"Bitshares\", \"BitcoinDark\", \"PayCoin\", \"KoboCoin\", \"Aurora Coin\", \"BlueCoin\", \"EnergyCoin\", \"BitBar\", \"CryptoBullion\", \"CasinoCoin\", \"Diamond\", \"Exclusive Coin\", \"FlutterCoin\", \"HoboNickels\", \"HyperStake\", \"IOCoin\", \"MaxCoin\", \"MintCoin\", \"MazaCoin\", \"Nautilus Coin\", \"NavCoin\", \"OpalCoin\", \"Orbitcoin\", \"PotCoin\", \"PhoenixCoin\", \"Reddcoin\", \"SuperCoin\", \"SyncCoin\", \"TittieCoin\", \"TorCoin\", \"UnitaryStatus Dollar\", \"UltraCoin\", \"VeriCoin\", \"X11 Coin\", \"StealthCoin\", \"ZCC Coin\", \"BurstCoin\", \"StorjCoin\", \"Neutron\", \"FairCoin\", \"RubyCoin\", \"Kore\", \"Dnotes\", \"8BIT Coin\", \"Sativa Coin\", \"Ucoin\", \"Vtorrent\", \"IslaCoin\", \"Nexus\", \"Droidz\", \"Squall Coin\", \"Diggits\", \"Paycon\", \"Emercoin\", \"EverGreenCoin\", \"Decred\", \"EDRCoin\", \"Hitcoin\", \"DubaiCoin\", \"PWR Coin\", \"BillaryCoin\", \"GPU Coin\", \"EuropeCoin\", \"ZeitCoin\", \"SwingCoin\", \"SafeExchangeCoin\", \"Nebuchadnezzar\", \"Ratecoin\", \"Revenu\", \"Clockcoin\", \"VIP Tokens\", \"BitSend\", \"Let it Ride\", \"PutinCoin\", \"iBankCoin\", \"Frankywillcoin\", \"MudraCoin\", \"Lutetium Coin\", \"GoldBlocks\", \"CarterCoin\", \"BitTokens\", \"MustangCoin\", \"ZoneCoin\", \"RootCoin\", \"BitCurrency\", \"Swiscoin\", \"BuzzCoin\", \"Opair\", \"PesoBit\", \"Halloween Coin\", \"CoffeeCoin\", \"RoyalCoin\", \"GanjaCoin V2\", \"TeamUP\", \"LanaCoin\", \"InsaneCoin\", \"EmberCoin\", \"XenixCoin\", \"FreeCoin\", \"PLNCoin\", \"AquariusCoin\", \"Creatio\", \"Eternity\", \"Eurocoin\", \"BitcoinFast\", \"Stakenet\", \"BitConnect Coin\", \"MoneyCoin\", \"Enigma\", \"Russiacoin\", \"PandaCoin\", \"GameUnits\", \"GAKHcoin\", \"Allsafe\", \"LiteCreed\", \"Klingon Empire Darsek\", \"Internet of People\", \"KushCoin\", \"Printerium\", \"Impeach\", \"Zilbercoin\", \"FirstCoin\", \"FindCoin\", \"OpenChat\", \"RenosCoin\", \"VirtacoinPlus\", \"TajCoin\", \"Impact\", \"Atmos\", \"HappyCoin\", \"MacronCoin\", \"Condensate\", \"Independent Money System\", \"ArgusCoin\", \"LomoCoin\", \"ProCurrency\", \"GoldReserve\", \"GrowthCoin\", \"Phreak\", \"Degas Coin\", \"HTML5 Coin\", \"Ultimate Secure Cash\", \"QTUM\", \"Espers\", \"Denarius\", \"Virta Unique Coin\", \"Bitcoin Planet\", \"BritCoin\", \"Linda\", \"DeepOnion\", \"Signatum\", \"Cream\", \"Monoeci\", \"Draftcoin\", \"Stakecoin\", \"CoinonatX\", \"Ethereum Dark\", \"Obsidian\", \"Cardano\", \"Regalcoin\", \"TrezarCoin\", \"TerraNovaCoin\", \"Rupee\", \"WomenCoin\", \"Theresa May Coin\", \"NamoCoin\", \"LUXCoin\", \"Xios\", \"Bitcloud 2.0\", \"KekCoin\", \"BlackholeCoin\", \"Infinity Economics\", \"Magnet\", \"Electra\", \"Bitcoin Diamond\", \"Cash & Back Coin\", \"Bulwark\", \"Kalkulus\", \"GermanCoin\", \"LiteCoin Ultra\", \"PhantomX\", \"Digiwage\", \"Trollcoin\", \"Litecoin Plus\", \"Monkey Project\", \"TokenPay\", \"1717 Masonic Commemorative Token\", \"My Big Coin\", \"Unified Society USDEX\", \"Tokyo Coin\", \"Stipend\", \"Pushi\", \"Ellerium\", \"Velox\", \"Ontology\", \"Bitspace\", \"Briacoin\", \"Ignition\", \"MedicCoin\", \"Bitcoin Green\", \"Deviant Coin\", \"Abjcoin\", \"Carebit\", \"Zealium\", \"Proton\", \"iDealCash\", \"Bitcoin Incognito\", \"HollyWoodCoin\", \"Swisscoin\", \"Xt3ch\", \"TheVig\", \"EmaratCoin\", \"Dekado\", \"Lynx\", \"Poseidon Quark\", \"BitcoinWSpectrum\", \"Muse\", \"Trivechain\", \"Dystem\", \"Giant\", \"Peony Coin\", \"Absolute Coin\", \"Vitae\", \"TPCash\", \"ARENON\", \"EUNO\", \"MMOCoin\", \"Ketan\", \"XDNA\", \"PAXEX\", \"ThunderStake\", \"Kcash\", \"Bettex coin\", \"BitMoney\", \"Junson Ming Chan Coin\", \"HerbCoin\", \"PirateCash\", \"Oduwa\", \"Galilel\", \"Crypto Sports\", \"Credit\", \"Dash Platinum\", \"Nasdacoin\", \"Beetle Coin\", \"Titan Coin\", \"Award\", \"Insane Coin\", \"LiteDoge\", \"TruckCoin\", \"OrangeCoin\", \"BitstarCoin\", \"NeosCoin\", \"HyperCoin\", \"PinkCoin\", \"AudioCoin\", \"IncaKoin\", \"Piggy Coin\", \"Genstake\", \"XiaoMiCoin\", \"CapriCoin\", \" ClubCoin\", \"Radium\", \"Creditbit \", \"OKCash\", \"HiCoin\", \"WhiteCoin\", \"FriendshipCoin\", \"Fiii\", \"Triangles Coin\", \"TigerCash\", \"Particl\", \"Nxt\", \"ZEPHYR\", \"Gapcoin\", \"BitcoinPlus\"], \"legendgroup\": \"0\", \"marker\": {\"color\": [0, 0, 0, 0, 0, 0, 0, 0, 0, 0, 0, 0, 0, 0, 0, 0, 0, 0, 0, 0, 0, 0, 0, 0, 0, 0, 0, 0, 0, 0, 0, 0, 0, 0, 0, 0, 0, 0, 0, 0, 0, 0, 0, 0, 0, 0, 0, 0, 0, 0, 0, 0, 0, 0, 0, 0, 0, 0, 0, 0, 0, 0, 0, 0, 0, 0, 0, 0, 0, 0, 0, 0, 0, 0, 0, 0, 0, 0, 0, 0, 0, 0, 0, 0, 0, 0, 0, 0, 0, 0, 0, 0, 0, 0, 0, 0, 0, 0, 0, 0, 0, 0, 0, 0, 0, 0, 0, 0, 0, 0, 0, 0, 0, 0, 0, 0, 0, 0, 0, 0, 0, 0, 0, 0, 0, 0, 0, 0, 0, 0, 0, 0, 0, 0, 0, 0, 0, 0, 0, 0, 0, 0, 0, 0, 0, 0, 0, 0, 0, 0, 0, 0, 0, 0, 0, 0, 0, 0, 0, 0, 0, 0, 0, 0, 0, 0, 0, 0, 0, 0, 0, 0, 0, 0, 0, 0, 0, 0, 0, 0, 0, 0, 0, 0, 0, 0, 0, 0, 0, 0, 0, 0, 0, 0, 0, 0, 0, 0, 0, 0, 0, 0, 0, 0, 0, 0, 0, 0, 0, 0, 0, 0, 0, 0, 0, 0, 0, 0, 0, 0, 0, 0, 0, 0, 0, 0, 0, 0, 0, 0, 0, 0, 0, 0, 0, 0, 0, 0, 0, 0, 0, 0, 0, 0, 0, 0, 0, 0, 0, 0, 0, 0, 0, 0, 0, 0, 0, 0, 0, 0, 0, 0, 0, 0, 0, 0, 0, 0, 0, 0, 0, 0, 0, 0, 0, 0, 0, 0, 0], \"coloraxis\": \"coloraxis\", \"symbol\": \"circle\"}, \"mode\": \"markers\", \"name\": \"0\", \"scene\": \"scene\", \"showlegend\": true, \"type\": \"scatter3d\", \"x\": [-1.121871041929637, -1.1199975609293213, -0.6531851079884584, -1.298795382474961, -1.5787478998937232, -0.8178195992380564, -0.5651221474528909, -1.8908329115289972, -1.121811990148957, -1.1218710420775408, -1.1218710420775408, -1.1218692812869877, -1.1218675204964346, -0.4053392698621887, -1.0411581618849854, -1.501860390494944, -0.4753919790258842, -1.1214484523448593, -1.046141950453616, -1.29879538247496, -1.8049163923011742, -0.8691401352718708, -0.8093776650115246, -0.8690831560895813, -1.759522441050459, -1.759522441050459, -0.606766488260594, -1.1203919780131557, -1.1215259271291838, -1.1218710420775408, -1.046141950453616, -1.2988728537377041, -1.6072631468900913, -1.2988376414482288, -1.1162365123084552, -1.121518883966973, -0.4701724129400103, -1.2988534885632042, -1.759522441050459, -1.1183494609718623, -0.8921269899492957, -1.4383898384158265, -0.8176576065071953, -1.0411735864102285, -0.8691401352718708, -1.75948018207719, -0.867379344719032, -1.1218710420775408, -1.7594872252394012, -1.0460715188315022, -1.1218006104554268, -1.2988728572592856, -1.660344119223338, -1.8641589419985616, -0.635101735169338, -0.8687879771613031, -1.7593463619951744, -0.8143754929167035, -1.891972854376068, -0.9036371577771967, -0.8178195992380562, -1.2053748789035288, -0.8178600974207718, -1.5654729480804381, -1.121723135671102, -0.8683616804996592, -1.2975205701147048, -0.5205036058097281, -0.8177562107781542, -0.5386399762532891, -1.5017899588728294, -1.2986087386763592, -0.8171127298706194, -0.8160482439419003, -1.5651560057809275, -1.298383357485596, -1.4576007411664693, -1.1148278798661844, -1.1217149186496962, -1.121518883966973, -1.5060872180236533, -1.043828271667185, -1.2986967782040015, -1.1215540997780293, -0.8178231208191623, -1.2988622925159679, -1.121797088874321, -1.1218710420775408, -0.8691401352718708, -0.366122574669479, -1.7855507185938753, -1.5015997934931236, -1.1218710420775408, -1.2935904856007678, -1.5017195276099176, -1.5067827298553484, -2.0822282576969164, -1.5008003945821338, -1.8295493529282187, -1.2987672098261145, -1.756529097110632, -1.2988592874565128, -1.5016843114396592, -1.1217353203417277, -1.121723135671102, -1.5017899588728294, -1.2986615623929445, -0.817826642400268, -1.121754829901053, -0.7450275596777971, -1.1217724378065814, -1.1195796907034241, -1.2988552493537568, -1.1213639343983228, -0.7546362182711767, -1.1218252615231665, -1.1218593652576478, -1.4526044640306564, -0.7252611311783186, -1.1201102515247012, -0.8178231208191623, -1.2988399163896225, -1.1218006104554268, -1.1217938020664635, -0.8689464483110586, -0.4292899537107751, -1.5067403838022446, -1.1183494609718623, -0.869018899831098, -1.2985206991487175, -2.0500966141794246, -1.2984854833376605, -1.5014719952091509, -1.2985206991487175, -1.5004517580526715, -1.2971120667064462, -1.1217963418730155, -1.1217703248579178, -1.1183494609718623, -0.30104758429084577, -1.298731994015058, -0.8620969730605145, -1.5017547430617726, -1.1215012760614445, -1.575123165404946, -0.5644615544784469, -1.457366556022942, -1.606543581843536, -1.565437732269381, -1.5650503583477569, -1.994054279428728, -1.7594167936172878, -0.9457919867936302, -1.7594558895499979, -1.538301137111473, -1.994054279428728, -1.2988393766333652, -0.8690788390143043, -1.5016434612220888, -1.1217011187460293, -1.1218562514368966, -1.5911057673577262, -1.1618299318980956, -1.2987777745694318, -0.605371132179091, -1.1218156358693188, -0.7332924941954287, -1.0338315144355852, -0.8175449159118138, -1.5612470507536245, -1.8678823953724806, -1.121797088874321, -1.7046838783317755, -1.4044658965208396, -1.1218189639642246, -0.5334719372656076, -1.2983657495800673, -1.4598255149100918, -1.7587829090182658, -1.1211315100453485, -1.3126444367067325, -1.4525868561251278, -0.9457919867936302, -1.1213428049116887, -1.2986967782040015, -1.4522346980145602, -1.1187016190824302, -1.1218569557531175, -1.0460679972503966, -1.4576306746058678, -0.009822129986555971, -0.3288322343226515, -1.121054035261023, -1.5039742693602465, -1.0025901841223823, -1.298784817731643, -1.2399458320053987, -0.8687034592147668, -1.431260694509375, -1.5652968690251543, -1.1218604773342233, -1.121853434172012, -0.867379344719032, -1.5303863821047554, -1.5015504913576436, -1.12176539464437, -1.7046838783317755, -1.5015786640064888, -0.7265295275980861, -1.1038336754369829, -0.5763120515785728, -0.8690485741631233, -1.0859509147996227, -0.8689851857032211, -1.855630182596872, -1.1215752292646637, -1.6390176158108047, 0.12719223276326938, -1.4503682600285503, -0.56481308572997, 0.32501065933394857, -0.9791282111333904, -1.4525833345440224, -1.7053700548886361, -0.8096958462080227, -0.9859230359395866, -1.4523051296366738, -1.1183494609718623, -1.0459482634928032, -1.2986967782040015, -0.8682245241843947, -1.5011208584627511, -0.9737377301948871, -1.045789792343048, -1.058482582175333, -1.891811364479561, -0.9872501410107857, -0.09582158693978755, -1.046141950453616, -1.705198029173204, -0.00636407736754954, -1.121797088874321, -1.7053211577385048, -1.4526102042078575, -0.8584567753728107, -1.046072575305834, -1.1215752292646637, -1.2383963363188997, -1.838374435179048, -1.2973937931949007, -1.2987672098261145, -0.9986157033788033, -1.2988728572592856, -1.121166725856405, -1.1216799747540027, -0.5650922140134924, -1.1218710420775408, -1.2971120667064462, -1.0848944404679188, -0.8172279736123025, -1.2953512761536072, -1.1218182183609555, -1.120462409635269, -1.2981403683893042, -1.121307589100632, -1.5018286962649918, -0.8181945573384731, -0.8175273080062851, -0.8338932088098161, -1.120814567745837, -0.6065678776187665, -2.4538635446982933, -1.7595220184607252, -0.5616445861110334, -1.501829984670655, -1.5877619467866269, 1.6396839696329402, -1.120990646801121, -0.8691366136907651], \"y\": [-0.09558445049851319, -0.09352272898750427, 1.5783246327900793, 0.13169817343704884, 0.5098239824259394, 0.14290391732451446, 0.32386790982654945, 0.37889645283312623, -0.09551946541114496, -0.09558445066127928, -0.09558445066127928, -0.09558251295293914, -0.09558057524459916, 0.06879291379971218, 0.04669811659331377, 0.7358343986124444, -0.25184003262714094, -0.0951194006596756, 0.312613723230584, 0.1316981734370494, 0.7624563958058178, 0.08541635829921562, 0.15219406618988277, 0.08547906254109836, 0.36082657563179177, 0.36082657563179177, -0.14434043660807008, -0.09395677565566675, -0.09520465982663634, -0.09558445066127928, 0.312613723230584, 0.13161291814550546, 0.6295007478766885, 0.1316516684368891, -0.08938378397323102, -0.09519690899327635, -0.3001148318860495, 0.13163422906182923, 0.36082657563179177, -0.0917090339812492, 0.4294934433485029, 0.7607798033656233, 0.14308218649179585, 0.04668114226825529, 0.08541635829921562, 0.36087308063195234, 0.08735406663923062, -0.09558445066127928, 0.36086532979859204, 0.3126912315641846, -0.09550694232767863, 0.13161291427008887, 1.4760247123987673, 0.37931134291389496, 0.26531364590821943, 0.08580389996721849, 0.3610203464657937, 0.146694074837584, 0.37764197270296707, -0.009244156527055182, 0.1429039173245146, 0.23450522712488925, 0.14285935003269415, 0.24013353847154803, -0.09542168316071788, 0.08627302935643293, 0.13310107427522047, 0.4690826096222002, 0.14297367482475506, -0.07790135945581794, 0.7359119069460448, 0.13190357052109086, 0.14368181033761368, 0.1448532519145698, 0.240482325972751, 0.132151597188613, 0.5809639673726532, -0.08783361730121912, -0.0954126405230896, -0.09519690899327635, 0.5426024679282929, 0.3151598719893636, 0.13180668510409038, -0.09523566316007652, 0.14290004190783442, 0.13162454052012887, -0.09550306691099866, -0.09558445066127928, 0.08541635829921562, -0.3422307042654849, 0.49476278975892857, 0.7361211794467664, -0.09558445066127928, 0.13742603929013394, 0.7359894148843533, 0.5418370736145389, 0.26328009658891555, 0.7370008990331333, 0.4463433337586319, 0.1317291767704897, 0.36412067980981766, 0.13162784751695433, 0.7360281694464459, -0.0954350921024308, -0.09542168316071788, 0.7359119069460448, 0.1318454392708908, 0.14289616649115455, -0.09545656191083829, 0.1346637033612487, -0.09547593899423826, -0.0930628726914455, 0.1316322913534892, -0.09502639065935496, 0.2114252095955188, -0.09553407024443876, -0.09557160059728127, 0.5424508847479198, -0.030408358577533268, -0.09364674232126427, 0.14290004190783442, 0.13164916491771386, -0.09550694232767863, -0.09549944985672265, 0.08562950621661718, -0.28645695289806833, 0.5418836744439979, -0.0917090339812492, 0.08554977503314362, 0.1320004559380919, 0.3252803069566756, 0.13203921010489206, 0.736261818434347, 0.1320004559380919, 0.7373845652844562, 0.13355062261010392, -0.09550224485373703, -0.09547361374423045, -0.0917090339812492, 0.6144757181203102, 0.13176793093729014, 0.09316719165927578, 0.7359506611128448, -0.09517753190987614, 0.726327558197829, 0.32459487676413934, 0.5812216825818756, 0.7062254132740707, 0.2401722926383484, 0.24059858847315177, 0.2737636273329652, 0.36094283813219297, 0.0981863833402279, 0.360899813983323, 0.5902483826709165, 0.2737636273329652, 0.13164975890670377, 0.08548381338029147, 0.7360731241442944, -0.09539745405563446, -0.09556817391122308, 0.4962244416905633, 1.0096258940320553, 0.13171755052044948, -0.14280488025694166, -0.09552347744013857, 0.20308518809869427, 0.0013009663394743284, 0.14320619982555688, 0.24478403848758418, 0.43981900555292597, -0.09550306691099866, 0.36216702787323024, 0.5705166977873766, -0.09552713992983486, 0.3586982172383203, 0.13217097427201321, 0.3563960388724524, 0.36164041313459805, -0.09477061315847295, 0.42124175894967214, 0.5424702618313195, 0.0981863833402279, -0.09500313815927473, 0.13180668510409038, 0.5428578034993228, -0.09209657564925204, -0.0955689489945592, 0.3126951069808647, 0.5809310263308728, -0.0689463827951404, -0.3255639911461856, -0.09468535399151222, 0.544927717936311, 0.07420852444419915, 0.1317097996870896, 0.3633825706249639, 0.08589690996753946, 0.7992227527977929, 0.24032730930554966, -0.09557282441123914, -0.09556507357787904, 0.08735406663923062, 0.39781657638308654, 0.736175435280287, -0.09546818816087826, 0.36216702787323024, 0.7361444319468466, 0.26296613917814127, -0.07573475546899044, 0.4969321610125734, 0.08551711913289632, -0.05605520052497171, 0.08558687663313709, 0.41764199782632877, -0.09525891566015665, 0.5588896534568137, 0.21852888051761124, 0.5449117743397389, 0.3242080249396827, 3.756691820973633, 0.08211083879804967, 0.5424741372479996, 0.3614119068085431, 0.15083339185812436, 0.022194828513580105, 0.5427802951657221, -0.0917090339812492, 0.31282687114798546, 0.13180668510409038, 0.08642396663602334, 0.7366482361152502, 0.12156626661364107, 0.31300126489858704, -0.025826950420736714, 0.28816966826685186, 0.5443446254186584, 1.021496432889836, 0.312613723230584, 0.3616012170379458, -0.14697095523436318, -0.09550306691099866, 0.36146571696526963, 0.5424445678187308, 0.1942967170049756, 0.3126900689391804, -0.09525891566015665, 0.36508775396417703, 0.4366315395584768, 0.1332405892757015, 0.1317291767704897, 0.040055133139775614, 0.13161291427008887, -0.0948093673252733, -0.09537418559271307, 0.3239008508683296, -0.09558445066127928, 0.13355062261010392, -0.054892575520962675, 0.14355498732675967, 0.13548833095011895, -0.09552631941107882, -0.09403428398926726, 0.13241900093953504, -0.09496438399247452, 0.7358692773625644, 0.21174833487294525, 0.14322557690895696, 0.12420476686677473, -0.09442182565727024, -0.1441218702962143, 4.66279210567855, 0.36082704068179344, 0.3276948837980791, 0.7358678595026182, 1.1047578708470607, 4.002228617801905, -0.09461559649127173, 0.08542023371589563], \"z\": [-0.5122896325471282, -0.5126009786188298, -0.8380697300644468, -0.4597043017326835, -0.08636992455601394, -0.3926377535825203, -0.11766278260707233, -0.6514070130337231, -0.5122994461187308, -0.5122896325225493, -0.5122896325225493, -0.512289925141061, -0.5122902177595725, -0.2639734741420709, -0.45139604490895285, -0.16239132049651564, -0.22995076605948553, -0.5123598609653188, -0.18472201529444615, -0.459704301732683, -0.6351829474620581, -0.2373202212988203, -0.3940406837742468, -0.23732969043385357, -0.6542120968328711, -0.6542120968328711, -0.29827880279426405, -0.5125354320722428, -0.5123469857508113, -0.5122896325225493, -0.18472201529444615, -0.45969142710341204, -0.31976354823498243, -0.4596972788884059, -0.5132260117594769, -0.5123481562248574, -0.2028317726128143, -0.45969464532180215, -0.6542120968328711, -0.5128748695456289, -0.1918680818522188, -0.22431781790315014, -0.39266467448558207, -0.4513934815707918, -0.2373202212988203, -0.654219119677148, -0.23761283981036, -0.5122896325225493, -0.6542179492031018, -0.18473372003490776, -0.5123013372630112, -0.45969142651817513, -0.4830965625623707, -0.8812899285528333, -0.13454827190904128, -0.23737874500112816, -0.654241358684025, -0.3932101153910922, -0.6512175706388784, -0.3324688490292762, -0.39263775358252034, -0.47522946948093914, -0.3926310233567548, -0.5999685169221373, -0.5123142124775187, -0.2374495894831158, -0.4599161575350378, -0.2952586865837023, -0.39264828784893574, -0.24182078015556888, -0.1624030252369771, -0.459735319294906, -0.3927552252839779, -0.3929321278051295, -0.6000211882542142, -0.4597727744643833, -0.17682157628813402, -0.5134601065687084, -0.5123155780303774, -0.5123481562248574, -0.3793597330137583, -0.1851065160186097, -0.459720688369329, -0.5123423038546266, -0.3926371683454972, -0.4596931822292443, -0.5123019225000341, -0.5122896325225493, -0.2373202212988203, -0.26471466314714126, -0.7857371166451038, -0.1624346280362234, -0.5122896325225493, -0.4605692820527947, -0.1624147299177448, -0.3792441487742693, -0.7147214356879662, -0.16256747684046224, -0.7784251652787473, -0.45970898362886764, -0.6547095483024887, -0.45969368162766727, -0.16242058234766987, -0.5123121875574189, -0.5123142124775187, -0.1624030252369771, -0.4597265407395598, -0.39263658310847416, -0.512308945344311, -0.010708289391883029, -0.5123060191591956, -0.5126704227462516, -0.45969435270329045, -0.5123739066538731, -0.2563491544698867, -0.5122972406038494, -0.5122915730450328, -0.23979514566475918, -0.32724950771111205, -0.5125822510340894, -0.3926371683454972, -0.4596969008252893, -0.5123013372630112, -0.5123024687210606, -0.23735240933508955, -0.17324479758512026, -0.37925118608998465, -0.5128748695456289, -0.23734036891613192, -0.45974995022048315, -0.7312131417735288, -0.45975580259071375, -0.1624558663053481, -0.45974995022048315, -0.1626254153057473, -0.459984045029715, -0.5123020466410967, -0.5123063703014095, -0.5128748695456289, -0.16154824387525527, -0.4597148359990982, -0.23849069534497944, -0.16240887760720774, -0.5123510824099727, -0.7038735121528108, -0.11777256382585702, -0.17686049455016883, -0.8308774444687204, -0.5999743692923682, -0.6000387453649069, -0.7192298097144283, -0.6542296539435636, -0.5415514836765303, -0.6542231567519363, -0.14385187427384521, -0.7192298097144283, -0.4596969905251528, -0.23733040787076842, -0.16242737107665395, -0.5123178713793872, -0.5122920905180463, -0.08431622158873538, -0.15780411263303573, -0.4597072279177983, -0.298510691259919, -0.5122988402515176, -0.03453326411289767, -0.5269205580995397, -0.39268340207032043, -0.6006708013498328, -0.5934220285270129, -0.5123019225000341, -0.5148728257377578, -0.26873621321681407, -0.5122982871691668, -0.12292260035200045, -0.45977570064949874, -0.6175256276145259, -0.654334996607718, -0.5124125322973959, -0.32501532619855356, -0.23979807184987456, -0.5415514836765303, -0.5123774180760113, -0.459720688369329, -0.23985659555218258, -0.5128163458433211, -0.5122919734706418, -0.18473430527193094, -0.17681660177343775, 0.13676246768272798, -0.12991185378891235, -0.512425407511904, -0.379710875227606, -0.4355995588077059, -0.4597060574437522, -0.4260465045222165, -0.23739279068968216, -0.1975049743937534, -0.5999977787732913, -0.5122913882336186, -0.5122925587076649, -0.23761283981036, -0.10710903757198746, -0.16244282135454668, -0.5123071896332417, -0.5148728257377578, -0.16243813945836202, -0.0725374161206174, -0.5152871880069013, -0.10088052566918217, -0.23733543746142025, -0.5182590501579616, -0.23734597172783578, -0.7740908998858197, -0.512338792432488, -0.37628544018399385, -0.2808725207133859, -0.2401667711744149, -0.11771414429866564, -0.38542327699133705, -0.34752880098368827, -0.23979865708689752, -0.5147587928890478, -0.2471990222484041, -0.309519354591784, -0.239844890811721, -0.5128748695456289, -0.18475420333071566, -0.459720688369329, -0.23747238292482095, -0.16251422027136211, -0.5210564628348734, -0.18478053899675434, -0.5228238989379824, 0.08917998018088155, -0.15107124092825627, -0.04841549596532453, -0.18472201529444615, -0.5147873811323882, 0.024833647376656377, -0.5123019225000341, -0.514766918904528, -0.23979419172841174, -0.5560653618489046, -0.18473354446380102, -0.512338792432488, -0.42630400881237124, -0.7769585612989095, -0.4599372260678686, -0.45970898362886764, -0.5327729283303361, -0.45969142651817513, -0.5124066799271654, -0.5123213852121167, -0.11766775712176859, -0.5122896325225493, -0.459984045029715, -0.5184346212648854, -0.39273607340239763, -0.46027666354125474, -0.5122984110778955, -0.5125237273317812, -0.45981315581897564, -0.5123832704462421, -0.16239658762972334, -0.006381255519372985, -0.3926863282554359, -0.2431777624703409, -0.5124652036294735, -0.2983118090767512, 2.997479621309585, -0.6542121670613139, -0.11824070416736361, -0.16239637351490604, -0.13955343434348383, -0.39360135145385755, -0.5124359417783195, -0.23732080653584336]}, {\"customdata\": [[\"SHA-256\"], [\"Ethash\"], [\"Scrypt\"], [\"CryptoNight-V7\"], [\"Ethash\"], [\"Equihash\"], [\"Scrypt\"], [\"X11\"], [\"Scrypt\"], [\"Scrypt\"], [\"SHA-256\"], [\"Scrypt\"], [\"Scrypt\"], [\"Quark\"], [\"Groestl\"], [\"Scrypt\"], [\"Scrypt\"], [\"Scrypt\"], [\"X11\"], [\"SHA-256\"], [\"Scrypt\"], [\"Scrypt\"], [\"Scrypt\"], [\"Scrypt\"], [\"Scrypt\"], [\"NeoScrypt\"], [\"Scrypt\"], [\"Scrypt\"], [\"Scrypt\"], [\"Scrypt\"], [\"SHA-256\"], [\"Scrypt\"], [\"Scrypt\"], [\"Scrypt\"], [\"Scrypt\"], [\"HybridScryptHash256\"], [\"Scrypt\"], [\"Scrypt\"], [\"SHA-256\"], [\"Scrypt\"], [\"Scrypt\"], [\"Scrypt\"], [\"Scrypt\"], [\"SHA-256\"], [\"SHA-256\"], [\"SHA-256\"], [\"SHA-256\"], [\"SHA-256\"], [\"X11\"], [\"Scrypt\"], [\"Lyra2REv2\"], [\"Scrypt\"], [\"SHA-256\"], [\"CryptoNight\"], [\"CryptoNight\"], [\"Scrypt\"], [\"Scrypt\"], [\"Scrypt\"], [\"Scrypt\"], [\"Scrypt\"], [\"Scrypt\"], [\"Stanford Folding\"], [\"QuBit\"], [\"Scrypt\"], [\"Scrypt\"], [\"M7 POW\"], [\"Scrypt\"], [\"SHA-256\"], [\"Scrypt\"], [\"X11\"], [\"Lyra2RE\"], [\"SHA-256\"], [\"X11\"], [\"Scrypt\"], [\"Scrypt\"], [\"Ethash\"], [\"Blake2b\"], [\"X11\"], [\"SHA-256\"], [\"Scrypt\"], [\"1GB AES Pattern Search\"], [\"Scrypt\"], [\"SHA-256\"], [\"X11\"], [\"Dagger\"], [\"Scrypt\"], [\"X11GOST\"], [\"Scrypt\"], [\"X11\"], [\"Scrypt\"], [\"X11\"], [\"Equihash\"], [\"CryptoNight\"], [\"SHA-256\"], [\"Scrypt\"], [\"SHA-256\"], [\"Scrypt\"], [\"Lyra2Z\"], [\"Ethash\"], [\"Equihash\"], [\"Scrypt\"], [\"X11\"], [\"X11\"], [\"CryptoNight\"], [\"Scrypt\"], [\"CryptoNight\"], [\"Lyra2RE\"], [\"X11\"], [\"CryptoNight-V7\"], [\"Scrypt\"], [\"X11\"], [\"Equihash\"], [\"Scrypt\"], [\"Lyra2RE\"], [\"Dagger-Hashimoto\"], [\"Scrypt\"], [\"NIST5\"], [\"Scrypt\"], [\"SHA-256\"], [\"Scrypt\"], [\"CryptoNight-V7\"], [\"Argon2d\"], [\"Blake2b\"], [\"Cloverhash\"], [\"CryptoNight\"], [\"X11\"], [\"Scrypt\"], [\"Scrypt\"], [\"X11\"], [\"X11\"], [\"CryptoNight\"], [\"Time Travel\"], [\"Scrypt\"], [\"Keccak\"], [\"X11\"], [\"SHA-256\"], [\"Scrypt\"], [\"Scrypt\"], [\"Scrypt\"], [\"Scrypt\"], [\"Scrypt\"], [\"Scrypt\"], [\"CryptoNight\"], [\"Equihash\"], [\"X11\"], [\"NeoScrypt\"], [\"Equihash\"], [\"Dagger\"], [\"Scrypt\"], [\"X11\"], [\"NeoScrypt\"], [\"Ethash\"], [\"NeoScrypt\"], [\"CryptoNight\"], [\"CryptoNight\"], [\"Ethash\"], [\"X11\"], [\"CryptoNight-V7\"], [\"Scrypt\"], [\"BLAKE256\"], [\"X11\"], [\"NeoScrypt\"], [\"NeoScrypt\"], [\"Scrypt\"], [\"X11\"], [\"SHA-256\"], [\"C11\"], [\"CryptoNight\"], [\"SkunkHash\"], [\"CryptoNight\"], [\"Scrypt\"], [\"Dagger\"], [\"Lyra2REv2\"], [\"Scrypt\"], [\"Scrypt\"], [\"X11\"], [\"Ethash\"], [\"CryptoNight\"], [\"Scrypt\"], [\"IMesh\"], [\"Equihash\"], [\"Lyra2Z\"], [\"X11\"], [\"CryptoNight\"], [\"NIST5\"], [\"Lyra2RE\"], [\"Tribus\"], [\"Lyra2Z\"], [\"CryptoNight\"], [\"CryptoNight Heavy\"], [\"CryptoNight\"], [\"Jump Consistent Hash\"], [\"CryptoNight\"], [\"X16R\"], [\"HMQ1725\"], [\"X11\"], [\"Scrypt\"], [\"CryptoNight-V7\"], [\"Cryptonight-GPU\"], [\"XEVAN\"], [\"CryptoNight Heavy\"], [\"SHA-256\"], [\"X11\"], [\"X16R\"], [\"Equihash\"], [\"Lyra2Z\"], [\"SHA-256\"], [\"CryptoNight\"], [\"Blake\"], [\"Blake\"], [\"Exosis\"], [\"Scrypt\"], [\"Equihash\"], [\"Equihash\"], [\"QuBit\"], [\"SHA-256\"], [\"X13\"], [\"SHA-256\"], [\"Scrypt\"], [\"NeoScrypt\"], [\"Blake\"], [\"Scrypt\"], [\"SHA-256\"], [\"Scrypt\"], [\"Groestl\"], [\"Scrypt\"], [\"Scrypt\"], [\"Equihash+Scrypt\"], [\"Ethash\"], [\"CryptoNight\"], [\"Equihash\"]], \"hovertemplate\": \"<b>%{hovertext}</b><br><br>class=%{marker.color}<br>pc_1=%{x}<br>pc_2=%{y}<br>pc_3=%{z}<br>Algorithm=%{customdata[0]}<extra></extra>\", \"hovertext\": [\"Bitcoin\", \"Ethereum\", \"Litecoin\", \"Monero\", \"Ethereum Classic\", \"ZCash\", \"ProsperCoin\", \"Spreadcoin\", \"Argentum\", \"MoonCoin\", \"ZetaCoin\", \"SexCoin\", \"Quatloo\", \"QuarkCoin\", \"Riecoin\", \"Digitalcoin \", \"Catcoin\", \"CannaCoin\", \"CryptCoin\", \"DevCoin\", \"EarthCoin\", \"E-Gulden\", \"Einsteinium\", \"Emerald\", \"Franko\", \"FeatherCoin\", \"GrandCoin\", \"GlobalCoin\", \"GoldCoin\", \"Infinite Coin\", \"IXcoin\", \"KrugerCoin\", \"LuckyCoin\", \"Litebar \", \"MegaCoin\", \"MediterraneanCoin\", \"MinCoin\", \"NobleCoin\", \"Namecoin\", \"NyanCoin\", \"RonPaulCoin\", \"StableCoin\", \"SmartCoin\", \"SysCoin\", \"TigerCoin\", \"TerraCoin\", \"UnbreakableCoin\", \"Unobtanium\", \"UroCoin\", \"ViaCoin\", \"Vertcoin\", \"WorldCoin\", \"JouleCoin\", \"ByteCoin\", \"DigitalNote \", \"MonaCoin\", \"Gulden\", \"PesetaCoin\", \"Wild Beast Coin\", \"Flo\", \"ArtByte\", \"Folding Coin\", \"CypherPunkCoin\", \"OmniCron\", \"GreenCoin\", \"Cryptonite\", \"MasterCoin\", \"SoonCoin\", \"1Credit\", \"MarsCoin \", \"Crypto\", \"Anarchists Prime\", \"BowsCoin\", \"Song Coin\", \"BitZeny\", \"Expanse\", \"Siacoin\", \"MindCoin\", \"I0coin\", \"Revolution VR\", \"HOdlcoin\", \"Gamecredits\", \"CarpeDiemCoin\", \"Adzcoin\", \"SoilCoin\", \"YoCoin\", \"SibCoin\", \"Francs\", \"BolivarCoin\", \"Omni\", \"PizzaCoin\", \"Komodo\", \"Karbo\", \"ZayedCoin\", \"DopeCoin\", \"DollarCoin\", \"Shilling\", \"ZCoin\", \"Elementrem\", \"ZClassic\", \"KiloCoin\", \"ArtexCoin\", \"Kurrent\", \"Cannabis Industry Coin\", \"OsmiumCoin\", \"Bikercoins\", \"HexxCoin\", \"PacCoin\", \"Citadel\", \"BeaverCoin\", \"VaultCoin\", \"Zero\", \"Canada eCoin\", \"Zoin\", \"DubaiCoin\", \"EB3coin\", \"Coinonat\", \"BenjiRolls\", \"ILCoin\", \"EquiTrader\", \"Quantum Resistant Ledger\", \"Dynamic\", \"Nano\", \"ChanCoin\", \"Dinastycoin\", \"DigitalPrice\", \"Unify\", \"SocialCoin\", \"ArcticCoin\", \"DAS\", \"LeviarCoin\", \"Bitcore\", \"gCn Coin\", \"SmartCash\", \"Onix\", \"Bitcoin Cash\", \"Sojourn Coin\", \"NewYorkCoin\", \"FrazCoin\", \"Kronecoin\", \"AdCoin\", \"Linx\", \"Sumokoin\", \"BitcoinZ\", \"Elements\", \"VIVO Coin\", \"Bitcoin Gold\", \"Pirl\", \"eBoost\", \"Pura\", \"Innova\", \"Ellaism\", \"GoByte\", \"UltraNote\", \"BitCoal\", \"DaxxCoin\", \"AC3\", \"Lethean\", \"PopularCoin\", \"Photon\", \"Sucre\", \"SparksPay\", \"GunCoin\", \"IrishCoin\", \"Pioneer Coin\", \"UnitedBitcoin\", \"Interzone\", \"TurtleCoin\", \"MUNcoin\", \"Niobio Cash\", \"ShareChain\", \"Travelflex\", \"KREDS\", \"BitFlip\", \"LottoCoin\", \"Crypto Improvement Fund\", \"Callisto Network\", \"BitTube\", \"Poseidon\", \"Aidos Kuneen\", \"Bitrolium\", \"Alpenschillling\", \"FuturoCoin\", \"Monero Classic\", \"Jumpcoin\", \"Infinex\", \"KEYCO\", \"GINcoin\", \"PlatinCoin\", \"Loki\", \"Newton Coin\", \"MassGrid\", \"PluraCoin\", \"Motion\", \"PlusOneCoin\", \"Axe\", \"HexCoin\", \"Webchain\", \"Ryo\", \"Urals Coin\", \"Qwertycoin\", \"Project Pai\", \"Azart\", \"Xchange\", \"CrypticCoin\", \"Actinium\", \"Bitcoin SV\", \"FREDEnergy\", \"Universal Molecule\", \"Lithium\", \"Exosis\", \"Block-Logic\", \"Beam\", \"Bithereum\", \"SLICE\", \"BLAST\", \"Bitcoin Rhodium\", \"GlobalToken\", \"SolarCoin\", \"UFO Coin\", \"BlakeCoin\", \"Crypto Escudo\", \"Crown Coin\", \"SmileyCoin\", \"Groestlcoin\", \"Bata\", \"Pakcoin\", \"Vollar\", \"Reality Clash\", \"Beldex\", \"Horizen\"], \"legendgroup\": \"1\", \"marker\": {\"color\": [1, 1, 1, 1, 1, 1, 1, 1, 1, 1, 1, 1, 1, 1, 1, 1, 1, 1, 1, 1, 1, 1, 1, 1, 1, 1, 1, 1, 1, 1, 1, 1, 1, 1, 1, 1, 1, 1, 1, 1, 1, 1, 1, 1, 1, 1, 1, 1, 1, 1, 1, 1, 1, 1, 1, 1, 1, 1, 1, 1, 1, 1, 1, 1, 1, 1, 1, 1, 1, 1, 1, 1, 1, 1, 1, 1, 1, 1, 1, 1, 1, 1, 1, 1, 1, 1, 1, 1, 1, 1, 1, 1, 1, 1, 1, 1, 1, 1, 1, 1, 1, 1, 1, 1, 1, 1, 1, 1, 1, 1, 1, 1, 1, 1, 1, 1, 1, 1, 1, 1, 1, 1, 1, 1, 1, 1, 1, 1, 1, 1, 1, 1, 1, 1, 1, 1, 1, 1, 1, 1, 1, 1, 1, 1, 1, 1, 1, 1, 1, 1, 1, 1, 1, 1, 1, 1, 1, 1, 1, 1, 1, 1, 1, 1, 1, 1, 1, 1, 1, 1, 1, 1, 1, 1, 1, 1, 1, 1, 1, 1, 1, 1, 1, 1, 1, 1, 1, 1, 1, 1, 1, 1, 1, 1, 1, 1, 1, 1, 1, 1, 1, 1, 1, 1, 1, 1, 1, 1, 1, 1, 1, 1, 1, 1, 1, 1, 1, 1, 1, 1, 1, 1, 1, 1, 1, 1, 1, 1, 1, 1, 1], \"coloraxis\": \"coloraxis\", \"symbol\": \"diamond\"}, \"mode\": \"markers\", \"name\": \"1\", \"scene\": \"scene\", \"showlegend\": true, \"type\": \"scatter3d\", \"x\": [1.1976940317107494, 1.752958417703251, 0.8939419232652489, 1.963383783096197, 1.7536979497354404, 1.7561263555438182, 0.8937200636555922, 0.7167147268927416, 0.8938714916431366, 2.2459332550328055, 1.1982180274420606, 0.8945265057287924, 0.8939982685629411, 0.31099878851010504, 0.9746393789325623, 0.8938157309279094, 0.8937200636555922, 0.8936923840281017, 0.7167076837305305, 1.2715732817267749, 0.9411874553790289, 0.8937200636555922, 0.8947018539080908, 0.8937588010477547, 0.8936856782791407, 1.4099206391600592, 0.8986489024275808, 0.8938926211297705, 0.8939005295444594, 1.2127013586268187, 1.1976940317107516, 0.8945808113267072, 0.8937165420744866, 0.8936508645868657, 0.8937940168588117, 1.984643150461939, 0.8936813262634299, 0.946469827037546, 1.1976940317107516, 0.8948328832849868, 0.8937200636555922, 0.8945265057287924, 0.8938264154049839, 1.2007472425293746, 1.197785634965782, 1.197767984913971, 1.1979018049959869, 1.197620958902809, 0.7166442952706282, 0.8937271068178035, 1.029705046395156, 0.8945808113267072, 1.197778549657288, 2.868785699865784, 2.2543844570173763, 0.8940162990582019, 0.8995623667099123, 0.8942320522462227, 0.8936553651675188, 0.8942095634292815, 0.8971676915580514, 1.9006746586663352, 1.289978396800813, 0.8936579828890532, 0.9288619215091549, 1.9207401976159664, 0.8936482919943934, 1.1976940317107516, 1.217631572174768, 0.7167605074471153, 1.890548838106059, 1.1978093987077738, 0.7167182484738474, 0.894386487664031, 0.8945265057287924, 1.7530179549514868, 1.9163873967990122, 0.7167006405683187, 1.1976940317107516, 0.8943856424845653, 1.9759892891320188, 0.8939419232652499, 1.2737787775416392, 0.7169401080835054, 1.9595746937999994, 0.8942389732095696, 1.8988276210678892, 0.8937165420744866, 0.71673233479827, 0.8936482813240025, 0.71673233479827, 1.1240362058889974, 2.2192038617716503, 1.1976543646211772, 0.8943504266735085, 1.197657542136766, 0.8937517578855433, 1.8933640526882987, 1.7530507026342534, 1.756126355543818, 0.9288619215091549, 0.7184050858234671, 0.7174472157627229, 2.2192425991638127, 0.8936556690306661, 2.219256685488236, 1.8903523722620748, 1.0688024058384495, 1.9640352756007482, 0.8936579429648883, 0.7201658763763065, 1.7561122692193953, 0.8939982685629411, 1.8903911096577586, 1.883116820824095, 0.9077324348750858, 0.45021412778098624, 0.8937711984218792, 1.206424031271728, 0.8938996642919821, 1.963753549112294, 1.8745577570953829, 1.9175857287532343, 1.9040804650047112, 2.22621180817195, 0.7169964533811958, 0.8937139952670308, 0.8939102290352992, 0.7168555901369688, 0.7167108531535256, 2.2193588113403, 1.8795136959077343, 1.597962331588015, 1.0580984291787392, 0.7205180344868741, 1.1976940317107516, 0.9306227120619944, 0.8936461104523729, 0.8937165420744866, 0.8939419232652499, 0.8939982685629411, 0.8939982685629411, 2.2194816753890794, 1.830005605559841, 0.7229831412608491, 1.4088324705984048, 1.756126355543818, 1.9600194932034303, 0.8939982685629411, 0.7178768486576155, 1.4088958590583074, 1.7539444604128365, 1.4088493741877126, 2.518503039943241, 2.219212665724415, 1.7881742287600295, 0.718581164878751, 1.966903538318418, 0.9112540159772426, 1.4287483410605364, 0.716714022576521, 1.4088113411117702, 1.4104981784613906, 0.8938714916431366, 0.716725291636059, 1.197691094712109, 1.0129398553025584, 5.740749751638802, 1.9595440436077525, 2.220351897212101, 0.9288619215091549, 1.959821204477397, 1.0332829727985253, 0.8937869736966, 0.958467782869517, 0.7184050858234671, 1.775848694890155, 2.222690227066272, 0.8937200636555922, 1.9759477039134994, 1.7562989130179967, 1.8943451651843404, 0.7169964533811958, 2.219233443052938, 0.4501181576526943, 1.8904097036059966, 1.9868055080014864, 1.8933256674542465, 2.2212815964481787, 2.196828274764198, 2.867139569405383, 1.9028649125702088, 2.222690227066272, 1.036175988344417, 1.9812281457750989, 0.7167182484738474, 0.8937239559288898, 1.9695465500311342, 1.9276811173808401, 0.7760995576903671, 2.8459261041628046, 1.2050153988294567, 0.71673233479827, 1.0364504050869698, 1.782816418743753, 1.8935845036655143, 1.1976940317107516, 2.2476230212944732, 1.874032817547821, 1.8737514742023196, 2.0179761327805936, 0.8940687001850545, 1.7569778738551713, 1.7561611698946282, 1.2903305549113808, 1.1978454596982957, 0.25600210679977725, 1.1982117041332858, 1.2391132169194057, 1.4228237123312644, 1.8983136966766683, 0.8971676915580514, 1.197767984913971, 1.0697251657362838, 0.9747133321357813, 0.8936637183579018, 0.8942870382136062, 1.9929356207384255, 1.7530446539841538, 2.2240996434477136, 1.756126355543818], \"y\": [-0.5423346703745572, -0.9351881745900994, -0.7804936279425465, -0.9148086490178169, -0.9343743370872942, -1.01353201147837, -0.7807377791933878, -0.5535442896786995, -0.7805711362761465, 0.7073408421879084, -0.5417580254709046, -0.7798503087736608, -0.7804316212756652, -0.32288553982519724, -0.6382280350130115, -0.7806324996238582, -0.7807377791933878, -0.7807682399684929, -0.5535520405120595, -0.4610323038442021, -0.7285010377632616, -0.7807377791933878, -0.7796573422513882, -0.7806951496099077, -0.7807756194865545, -0.8282876192068526, -0.7753137087497619, -0.7805478837760663, -0.7805391807528281, -0.4297064117329372, -0.5423346703745549, -0.7797905467481215, -0.7807416546100676, -0.7808139311311504, -0.7806563954431072, -0.9615748434826126, -0.7807804087768683, -0.7226879127432162, -0.5423346703745549, -0.7795131475224985, -0.7807377791933878, -0.7798503087736608, -0.7806207416096509, -0.5389746841129683, -0.5422338631598871, -0.5422532866242741, -0.5421060207904329, -0.5424150852706655, -0.5536217980123003, -0.7807300283600277, -0.662917808143388, -0.7797905467481215, -0.5422416603742339, -0.05187255767731217, -0.7280065876239024, -0.7804117791422637, -0.7743084629212176, -0.780174347863945, -0.7808089783486334, -0.7801990962748636, -0.7769437462636384, -0.9855343018840431, -0.7159485901089758, -0.7808060976080247, -0.7420649961433669, -1.0055294930427057, -0.7808167622082943, -0.5423346703745549, -0.4242808283808949, -0.5534939092618592, -0.9367891729886694, -0.5422077117241167, -0.5535404142620196, -0.780004395340859, -0.7798503087736608, -0.9351226552571684, -1.1010125900872119, -0.5535597913454198, -0.5423346703745549, -0.7800053254408622, -0.932473882821515, -0.780493627942546, -0.45860520788583303, -0.5532962630111776, -0.9782363348201166, -0.7801667315075438, -1.0035595902364547, -0.7807416546100676, -0.5535249125952993, -0.7808167739508067, -0.5535249125952993, -1.0114248940883384, -0.7667220002574036, -0.5423783230680385, -0.7800440796076623, -0.5423748262873189, -0.7807029004432676, -1.0196967901509546, -0.9350866172071516, -1.01353201147837, -0.7420649961433669, -0.5516840896722851, -0.5527382030092532, -0.766679370673923, -0.7808086439544297, -0.766663869007203, -0.9370053790012489, -0.16608013000928554, -0.9140916969320111, -0.7808061415436237, -0.5497463813322703, -1.01354751314509, -0.7804316212756652, -0.9369627494138935, -1.027022624267649, -0.7653174962235482, -0.44491417720519627, -0.780681506593027, -0.5327275124247599, -0.7805401329427062, -0.9144017302664136, -1.0441251525423543, -1.09969385412622, -1.1628296093224535, -0.7590099210641434, -0.5532342563442971, -0.7807444573114108, -0.780528506692666, -0.5533892730114982, -0.5535485526370475, -0.7665514819234822, -0.9816782274660726, -0.005735826937638691, -0.5457097647734883, -0.5493588396642669, -0.5423346703745549, -0.7401272878033518, -0.7808191629436684, -0.7807416546100676, -0.780493627942546, -0.7804316212756652, -0.7804316212756652, -0.7664162729449794, -0.9322296449480172, -0.5466460479882459, -0.829485122960982, -1.01353201147837, -0.9777468436013719, -0.7804316212756652, -0.5522654021742898, -0.8294153654607416, -0.9341030579196931, -0.8294665209609181, -0.437350336621641, -0.7667123117157033, -0.8964340077898002, -0.5514903188382835, -0.9109352416793287, -0.7614420795473932, -0.34577275135701135, -0.5535450647620356, -0.8295083754610622, -0.8276520508713279, -0.7805711362761465, -0.5535326634286595, -0.5423379024720658, -0.6110120061151386, 3.108655925605942, -0.9839134458700736, -0.765458614419714, -0.7420649961433669, -0.977965055652514, -0.6589803847964772, -0.7806641462764671, -0.709484446242754, -0.5516840896722851, -0.9099979661699055, -0.7628853377441738, -0.7807377791933878, -0.8561703663908633, -1.0133421160610483, -1.0186170990638983, -0.5532342563442971, -0.7666894467572914, -0.44501979006056036, -0.9369422872138222, -0.9367844246302115, -1.0197390321927668, -0.76443550240872, -0.7266431472775013, -0.05368408529865657, -1.0881506564291308, -0.7628853377441738, -0.6033582232793411, -0.9702787183585712, -0.5535404142620196, -0.7807334958387219, -0.9080266698277638, -1.0970161152627682, -0.32127082915542066, -0.012326344814344671, -0.5342776790967717, -0.5535249125952993, -0.603056234147341, -0.9841602284604214, -1.019454189066785, -0.5423346703745549, -0.7354473876495601, -1.0212626864458096, -1.021572298140458, -0.9125644448505116, -0.7803541129420649, -1.0125949357251387, -1.0134936991090708, -0.715561048440973, -0.5421680274573133, -0.32439999827556915, -0.5417649841225901, -0.400640786632711, -0.8140880924912223, -0.9945421534925837, -0.7769437462636384, -0.5422532866242741, -0.5870483289421614, -0.6381466512627306, -0.7807997858602684, -0.7801138371079028, -0.995964898259358, -0.9350932736034642, -0.7613343083656545, -1.01353201147837], \"z\": [0.2029775728908922, 0.457408744628199, 0.08327594880390032, 0.447329921253412, 0.4572858448533566, 0.3455281372992549, 0.0833128187363553, 0.13591160997775248, 0.08328765354436284, -0.14140590814873263, 0.20289049220392338, 0.08317879945806998, 0.08326658501153204, 0.08071440935854644, 0.14417209975565876, 0.08329692018738628, 0.0833128187363553, 0.08331741869935666, 0.13591278045179855, 0.19069988538370464, 0.07542440890226497, 0.0833128187363553, 0.0831496590681784, 0.0833063811291014, 0.08331853310008791, 0.2971415051459474, 0.0824937153723843, 0.08328414212222425, 0.08328282785544167, 0.030302634422826512, 0.2029775728908919, 0.08316977463498451, 0.08331340397337822, 0.08332431864385877, 0.0833005287588706, 0.5210324843526367, 0.08331925634360912, 0.07454655336764573, 0.2029775728908919, 0.0831278838370621, 0.0833128187363553, 0.08317879945806998, 0.08329514457825819, 0.20247017239188173, 0.20296234972417504, 0.2029652829134071, 0.2029430439065301, 0.2029897165591207, 0.13592331471821403, 0.08331164826230902, 0.2860769516783778, 0.08316977463498451, 0.20296352720233785, 0.3473279458871103, 0.44943275152718093, 0.0832635885979738, 0.082341910515066, 0.08322773346651778, 0.08332357071094335, 0.08323147079014719, 0.08273987169076027, 0.4632741861826632, 0.2684113708030389, 0.08332313568261022, 0.07747273848304369, 0.46010259588598984, 0.0833247461723794, 0.2029775728908919, 0.029483302590515174, 0.1359040018964524, 0.48844329818032584, 0.20295840052601571, 0.13591102474072933, 0.0832020684821077, 0.08317879945806998, 0.45739885037875333, 0.6022529736315453, 0.1359139509258447, 0.2029775728908919, 0.08320220893899327, 0.5131803620209476, 0.08327594880390127, 0.1903333631408903, 0.13587415480827536, 0.4829146935353777, 0.08322658330019635, 0.3754988919206166, 0.08331340397337822, 0.13590868379263707, 0.08332474794564756, 0.13590868379263707, 0.010334209839839644, 0.4552792693877463, 0.20298416500071992, 0.083208061309224, 0.20298363694252441, 0.08330755160314751, 0.4503161983868991, 0.4573934081765719, 0.34552813729925486, 0.07747273848304369, 0.13563069620667417, 0.13578988067695183, 0.45527283178049227, 0.08332352021318148, 0.45527049083239995, 0.4884759480277155, 0.0773996124102524, 0.4472216524041431, 0.08332314231744234, 0.13533807769513448, 0.3455304782473473, 0.08326658501153204, 0.48846951041987646, 0.5208437444344831, 0.08098416062152153, -0.0043820145425854905, 0.08330432086068536, 0.20152677031067745, 0.08328297164817826, 0.4472684713659892, 0.4895940763902655, 0.6020538277920756, 0.5120517553664877, 0.4541146477118178, 0.135864791015906, 0.08331382721679331, 0.08328121593710894, 0.13588820049682923, 0.1359122537384778, 0.45525351895873095, 0.6141189211876238, -0.0337222959020836, 0.07184629003656506, 0.13527955399282643, 0.2029775728908919, 0.07718011997150381, 0.0833251087138399, 0.08331340397337822, 0.08327594880390127, 0.08326658501153204, 0.08326658501153204, 0.455233100689779, 0.3332504497920678, 0.13486988807667064, 0.2973223433860789, 0.34552813729925486, 0.4828407741591315, 0.08326658501153204, 0.1357184817601361, 0.29731180911966354, 0.4572448782617424, 0.29731953424836816, 0.4055399747962094, 0.45527780629518855, 0.45155637439740864, 0.1356014343555203, 0.44674498766636594, 0.08039892359902703, 0.21048685010743204, 0.13591172702515703, 0.2973258548082175, 0.2970455262741623, 0.08328765354436284, 0.13590985426668317, 0.20297806097856907, 0.16001304080880963, -0.12995190132164045, 0.40802589613064494, 0.45508848211822234, 0.07747273848304369, 0.4828737269437621, 0.285482350862929, 0.08330169923291672, 0.07255266262839186, 0.13563069620667417, 0.4536047039781872, 0.4546998847348974, 0.0833128187363553, 0.40695140888053716, 0.345499460685124, 0.4501531513522692, 0.135864791015906, 0.4552743533967525, -0.004366065663232569, 0.4884664203683946, 0.3483799070744053, 0.4503225774704504, 0.4549339792409765, 0.4888401656934492, 0.34760150951132823, 0.4527923672663754, 0.4546998847348974, 0.24812133004113135, 0.4076423498165161, 0.13591102474072933, 0.08331217189552736, 0.44630575646302356, 0.5597971672971033, 0.1694804511607108, 0.3809692775994144, 0.20176086511990923, 0.13590868379263707, 0.24807572585577367, 0.34109262590133455, 0.4502795625492544, 0.2029775728908919, 0.4505564066114936, 0.49608454551504677, 0.4961313008039476, 0.4739974585430362, 0.08325488027107031, 0.3453866269870742, 0.34552235164604456, 0.268352847100731, 0.2029524076988994, -0.05859858459423035, 0.20289154304849918, 0.025913356749729454, 0.29499719669338376, 0.49204940647019824, 0.08273987169076027, 0.2029652829134071, 0.0540632575598591, 0.14415980977817403, 0.08332218252872459, 0.08321859557563951, 0.5025581349574197, 0.4573944133767568, 0.45446565964605196, 0.34552813729925486]}, {\"customdata\": [[\"DPoS\"], [\"VeChainThor Authority\"], [\"DPoS\"], [\"Semux BFT consensus\"], [\"DPoS\"], [\"DPoS\"], [\"DPoS\"], [\"DPoS\"], [\"TRC10\"]], \"hovertemplate\": \"<b>%{hovertext}</b><br><br>class=%{marker.color}<br>pc_1=%{x}<br>pc_2=%{y}<br>pc_3=%{z}<br>Algorithm=%{customdata[0]}<extra></extra>\", \"hovertext\": [\"ARK\", \"Vechain\", \"Lamden Tau\", \"Semux\", \"ALAX\", \"Lisk\", \"EOS\", \"Oxycoin\", \"BitTorrent\"], \"legendgroup\": \"2\", \"marker\": {\"color\": [2, 2, 2, 2, 2, 2, 2, 2, 2], \"coloraxis\": \"coloraxis\", \"symbol\": \"square\"}, \"mode\": \"markers\", \"name\": \"2\", \"scene\": \"scene\", \"showlegend\": true, \"type\": \"scatter3d\", \"x\": [2.5231941550640844, 3.842409517167346, 2.5245147479787136, 2.6975981141107344, 2.5262755385315536, 2.523317123041765, 2.5227539574258744, 2.5227539574258744, 9.364840708531377], \"y\": [7.427764490849854, 13.567629459518775, 7.429217772104865, 7.8732222310059345, 7.43115548044488, 7.427899814199652, 7.427280063764848, 7.427280063764848, 15.05519732249406], \"z\": [-0.6602612597403212, -5.91607817726811, -0.6604807236239761, -0.7003959547583871, -0.6607733421355156, -0.6602816952807874, -0.6601881051124355, -0.6601881051124355, -1.9151723673442491]}, {\"customdata\": [[\"Proof-of-BibleHash\"], [\"SHA-256 + Hive\"], [\"Proof-of-Authority\"], [\"ECC 256K1\"], [\"Leased POS\"]], \"hovertemplate\": \"<b>%{hovertext}</b><br><br>class=%{marker.color}<br>pc_1=%{x}<br>pc_2=%{y}<br>pc_3=%{z}<br>Algorithm=%{customdata[0]}<extra></extra>\", \"hovertext\": [\"BiblePay\", \"LitecoinCash\", \"Poa Network\", \"Acute Angle Cloud\", \"Waves\"], \"legendgroup\": \"3\", \"marker\": {\"color\": [3, 3, 3, 3, 3], \"coloraxis\": \"coloraxis\", \"symbol\": \"x\"}, \"mode\": \"markers\", \"name\": \"3\", \"scene\": \"scene\", \"showlegend\": true, \"type\": \"scatter3d\", \"x\": [-2.0360087194597485, -1.9253506787393373, -2.5886248936524185, -2.6505560715078023, -2.871175631057218], \"y\": [3.40052992856457, 4.280801526266987, 2.8770297486475385, 1.8374281360107578, 2.6417772828217703], \"z\": [14.323701352671433, 10.855159704696156, 10.548240239423743, 16.1179598168853, 15.342702364250814]}],\n",
       "                        {\"coloraxis\": {\"colorbar\": {\"title\": {\"text\": \"class\"}}, \"colorscale\": [[0.0, \"#0d0887\"], [0.1111111111111111, \"#46039f\"], [0.2222222222222222, \"#7201a8\"], [0.3333333333333333, \"#9c179e\"], [0.4444444444444444, \"#bd3786\"], [0.5555555555555556, \"#d8576b\"], [0.6666666666666666, \"#ed7953\"], [0.7777777777777778, \"#fb9f3a\"], [0.8888888888888888, \"#fdca26\"], [1.0, \"#f0f921\"]]}, \"height\": 500, \"legend\": {\"title\": {\"text\": \"class\"}, \"tracegroupgap\": 0, \"x\": 0, \"y\": 1}, \"margin\": {\"t\": 60}, \"scene\": {\"domain\": {\"x\": [0.0, 1.0], \"y\": [0.0, 1.0]}, \"xaxis\": {\"title\": {\"text\": \"pc_1\"}}, \"yaxis\": {\"title\": {\"text\": \"pc_2\"}}, \"zaxis\": {\"title\": {\"text\": \"pc_3\"}}}, \"template\": {\"data\": {\"bar\": [{\"error_x\": {\"color\": \"#2a3f5f\"}, \"error_y\": {\"color\": \"#2a3f5f\"}, \"marker\": {\"line\": {\"color\": \"#E5ECF6\", \"width\": 0.5}}, \"type\": \"bar\"}], \"barpolar\": [{\"marker\": {\"line\": {\"color\": \"#E5ECF6\", \"width\": 0.5}}, \"type\": \"barpolar\"}], \"carpet\": [{\"aaxis\": {\"endlinecolor\": \"#2a3f5f\", \"gridcolor\": \"white\", \"linecolor\": \"white\", \"minorgridcolor\": \"white\", \"startlinecolor\": \"#2a3f5f\"}, \"baxis\": {\"endlinecolor\": \"#2a3f5f\", \"gridcolor\": \"white\", \"linecolor\": \"white\", \"minorgridcolor\": \"white\", \"startlinecolor\": \"#2a3f5f\"}, \"type\": \"carpet\"}], \"choropleth\": [{\"colorbar\": {\"outlinewidth\": 0, \"ticks\": \"\"}, \"type\": \"choropleth\"}], \"contour\": [{\"colorbar\": {\"outlinewidth\": 0, \"ticks\": \"\"}, \"colorscale\": [[0.0, \"#0d0887\"], [0.1111111111111111, \"#46039f\"], [0.2222222222222222, \"#7201a8\"], [0.3333333333333333, \"#9c179e\"], [0.4444444444444444, \"#bd3786\"], [0.5555555555555556, \"#d8576b\"], [0.6666666666666666, \"#ed7953\"], [0.7777777777777778, \"#fb9f3a\"], [0.8888888888888888, \"#fdca26\"], [1.0, \"#f0f921\"]], \"type\": \"contour\"}], \"contourcarpet\": [{\"colorbar\": {\"outlinewidth\": 0, \"ticks\": \"\"}, \"type\": \"contourcarpet\"}], \"heatmap\": [{\"colorbar\": {\"outlinewidth\": 0, \"ticks\": \"\"}, \"colorscale\": [[0.0, \"#0d0887\"], [0.1111111111111111, \"#46039f\"], [0.2222222222222222, \"#7201a8\"], [0.3333333333333333, \"#9c179e\"], [0.4444444444444444, \"#bd3786\"], [0.5555555555555556, \"#d8576b\"], [0.6666666666666666, \"#ed7953\"], [0.7777777777777778, \"#fb9f3a\"], [0.8888888888888888, \"#fdca26\"], [1.0, \"#f0f921\"]], \"type\": \"heatmap\"}], \"heatmapgl\": [{\"colorbar\": {\"outlinewidth\": 0, \"ticks\": \"\"}, \"colorscale\": [[0.0, \"#0d0887\"], [0.1111111111111111, \"#46039f\"], [0.2222222222222222, \"#7201a8\"], [0.3333333333333333, \"#9c179e\"], [0.4444444444444444, \"#bd3786\"], [0.5555555555555556, \"#d8576b\"], [0.6666666666666666, \"#ed7953\"], [0.7777777777777778, \"#fb9f3a\"], [0.8888888888888888, \"#fdca26\"], [1.0, \"#f0f921\"]], \"type\": \"heatmapgl\"}], \"histogram\": [{\"marker\": {\"colorbar\": {\"outlinewidth\": 0, \"ticks\": \"\"}}, \"type\": \"histogram\"}], \"histogram2d\": [{\"colorbar\": {\"outlinewidth\": 0, \"ticks\": \"\"}, \"colorscale\": [[0.0, \"#0d0887\"], [0.1111111111111111, \"#46039f\"], [0.2222222222222222, \"#7201a8\"], [0.3333333333333333, \"#9c179e\"], [0.4444444444444444, \"#bd3786\"], [0.5555555555555556, \"#d8576b\"], [0.6666666666666666, \"#ed7953\"], [0.7777777777777778, \"#fb9f3a\"], [0.8888888888888888, \"#fdca26\"], [1.0, \"#f0f921\"]], \"type\": \"histogram2d\"}], \"histogram2dcontour\": [{\"colorbar\": {\"outlinewidth\": 0, \"ticks\": \"\"}, \"colorscale\": [[0.0, \"#0d0887\"], [0.1111111111111111, \"#46039f\"], [0.2222222222222222, \"#7201a8\"], [0.3333333333333333, \"#9c179e\"], [0.4444444444444444, \"#bd3786\"], [0.5555555555555556, \"#d8576b\"], [0.6666666666666666, \"#ed7953\"], [0.7777777777777778, \"#fb9f3a\"], [0.8888888888888888, \"#fdca26\"], [1.0, \"#f0f921\"]], \"type\": \"histogram2dcontour\"}], \"mesh3d\": [{\"colorbar\": {\"outlinewidth\": 0, \"ticks\": \"\"}, \"type\": \"mesh3d\"}], \"parcoords\": [{\"line\": {\"colorbar\": {\"outlinewidth\": 0, \"ticks\": \"\"}}, \"type\": \"parcoords\"}], \"pie\": [{\"automargin\": true, \"type\": \"pie\"}], \"scatter\": [{\"marker\": {\"colorbar\": {\"outlinewidth\": 0, \"ticks\": \"\"}}, \"type\": \"scatter\"}], \"scatter3d\": [{\"line\": {\"colorbar\": {\"outlinewidth\": 0, \"ticks\": \"\"}}, \"marker\": {\"colorbar\": {\"outlinewidth\": 0, \"ticks\": \"\"}}, \"type\": \"scatter3d\"}], \"scattercarpet\": [{\"marker\": {\"colorbar\": {\"outlinewidth\": 0, \"ticks\": \"\"}}, \"type\": \"scattercarpet\"}], \"scattergeo\": [{\"marker\": {\"colorbar\": {\"outlinewidth\": 0, \"ticks\": \"\"}}, \"type\": \"scattergeo\"}], \"scattergl\": [{\"marker\": {\"colorbar\": {\"outlinewidth\": 0, \"ticks\": \"\"}}, \"type\": \"scattergl\"}], \"scattermapbox\": [{\"marker\": {\"colorbar\": {\"outlinewidth\": 0, \"ticks\": \"\"}}, \"type\": \"scattermapbox\"}], \"scatterpolar\": [{\"marker\": {\"colorbar\": {\"outlinewidth\": 0, \"ticks\": \"\"}}, \"type\": \"scatterpolar\"}], \"scatterpolargl\": [{\"marker\": {\"colorbar\": {\"outlinewidth\": 0, \"ticks\": \"\"}}, \"type\": \"scatterpolargl\"}], \"scatterternary\": [{\"marker\": {\"colorbar\": {\"outlinewidth\": 0, \"ticks\": \"\"}}, \"type\": \"scatterternary\"}], \"surface\": [{\"colorbar\": {\"outlinewidth\": 0, \"ticks\": \"\"}, \"colorscale\": [[0.0, \"#0d0887\"], [0.1111111111111111, \"#46039f\"], [0.2222222222222222, \"#7201a8\"], [0.3333333333333333, \"#9c179e\"], [0.4444444444444444, \"#bd3786\"], [0.5555555555555556, \"#d8576b\"], [0.6666666666666666, \"#ed7953\"], [0.7777777777777778, \"#fb9f3a\"], [0.8888888888888888, \"#fdca26\"], [1.0, \"#f0f921\"]], \"type\": \"surface\"}], \"table\": [{\"cells\": {\"fill\": {\"color\": \"#EBF0F8\"}, \"line\": {\"color\": \"white\"}}, \"header\": {\"fill\": {\"color\": \"#C8D4E3\"}, \"line\": {\"color\": \"white\"}}, \"type\": \"table\"}]}, \"layout\": {\"annotationdefaults\": {\"arrowcolor\": \"#2a3f5f\", \"arrowhead\": 0, \"arrowwidth\": 1}, \"coloraxis\": {\"colorbar\": {\"outlinewidth\": 0, \"ticks\": \"\"}}, \"colorscale\": {\"diverging\": [[0, \"#8e0152\"], [0.1, \"#c51b7d\"], [0.2, \"#de77ae\"], [0.3, \"#f1b6da\"], [0.4, \"#fde0ef\"], [0.5, \"#f7f7f7\"], [0.6, \"#e6f5d0\"], [0.7, \"#b8e186\"], [0.8, \"#7fbc41\"], [0.9, \"#4d9221\"], [1, \"#276419\"]], \"sequential\": [[0.0, \"#0d0887\"], [0.1111111111111111, \"#46039f\"], [0.2222222222222222, \"#7201a8\"], [0.3333333333333333, \"#9c179e\"], [0.4444444444444444, \"#bd3786\"], [0.5555555555555556, \"#d8576b\"], [0.6666666666666666, \"#ed7953\"], [0.7777777777777778, \"#fb9f3a\"], [0.8888888888888888, \"#fdca26\"], [1.0, \"#f0f921\"]], \"sequentialminus\": [[0.0, \"#0d0887\"], [0.1111111111111111, \"#46039f\"], [0.2222222222222222, \"#7201a8\"], [0.3333333333333333, \"#9c179e\"], [0.4444444444444444, \"#bd3786\"], [0.5555555555555556, \"#d8576b\"], [0.6666666666666666, \"#ed7953\"], [0.7777777777777778, \"#fb9f3a\"], [0.8888888888888888, \"#fdca26\"], [1.0, \"#f0f921\"]]}, \"colorway\": [\"#636efa\", \"#EF553B\", \"#00cc96\", \"#ab63fa\", \"#FFA15A\", \"#19d3f3\", \"#FF6692\", \"#B6E880\", \"#FF97FF\", \"#FECB52\"], \"font\": {\"color\": \"#2a3f5f\"}, \"geo\": {\"bgcolor\": \"white\", \"lakecolor\": \"white\", \"landcolor\": \"#E5ECF6\", \"showlakes\": true, \"showland\": true, \"subunitcolor\": \"white\"}, \"hoverlabel\": {\"align\": \"left\"}, \"hovermode\": \"closest\", \"mapbox\": {\"style\": \"light\"}, \"paper_bgcolor\": \"white\", \"plot_bgcolor\": \"#E5ECF6\", \"polar\": {\"angularaxis\": {\"gridcolor\": \"white\", \"linecolor\": \"white\", \"ticks\": \"\"}, \"bgcolor\": \"#E5ECF6\", \"radialaxis\": {\"gridcolor\": \"white\", \"linecolor\": \"white\", \"ticks\": \"\"}}, \"scene\": {\"xaxis\": {\"backgroundcolor\": \"#E5ECF6\", \"gridcolor\": \"white\", \"gridwidth\": 2, \"linecolor\": \"white\", \"showbackground\": true, \"ticks\": \"\", \"zerolinecolor\": \"white\"}, \"yaxis\": {\"backgroundcolor\": \"#E5ECF6\", \"gridcolor\": \"white\", \"gridwidth\": 2, \"linecolor\": \"white\", \"showbackground\": true, \"ticks\": \"\", \"zerolinecolor\": \"white\"}, \"zaxis\": {\"backgroundcolor\": \"#E5ECF6\", \"gridcolor\": \"white\", \"gridwidth\": 2, \"linecolor\": \"white\", \"showbackground\": true, \"ticks\": \"\", \"zerolinecolor\": \"white\"}}, \"shapedefaults\": {\"line\": {\"color\": \"#2a3f5f\"}}, \"ternary\": {\"aaxis\": {\"gridcolor\": \"white\", \"linecolor\": \"white\", \"ticks\": \"\"}, \"baxis\": {\"gridcolor\": \"white\", \"linecolor\": \"white\", \"ticks\": \"\"}, \"bgcolor\": \"#E5ECF6\", \"caxis\": {\"gridcolor\": \"white\", \"linecolor\": \"white\", \"ticks\": \"\"}}, \"title\": {\"x\": 0.05}, \"xaxis\": {\"automargin\": true, \"gridcolor\": \"white\", \"linecolor\": \"white\", \"ticks\": \"\", \"title\": {\"standoff\": 15}, \"zerolinecolor\": \"white\", \"zerolinewidth\": 2}, \"yaxis\": {\"automargin\": true, \"gridcolor\": \"white\", \"linecolor\": \"white\", \"ticks\": \"\", \"title\": {\"standoff\": 15}, \"zerolinecolor\": \"white\", \"zerolinewidth\": 2}}}, \"width\": 800},\n",
       "                        {\"responsive\": true}\n",
       "                    ).then(function(){\n",
       "                            \n",
       "var gd = document.getElementById('166a2ee1-e867-4c88-a422-5819957a0fc8');\n",
       "var x = new MutationObserver(function (mutations, observer) {{\n",
       "        var display = window.getComputedStyle(gd).display;\n",
       "        if (!display || display === 'none') {{\n",
       "            console.log([gd, 'removed!']);\n",
       "            Plotly.purge(gd);\n",
       "            observer.disconnect();\n",
       "        }}\n",
       "}});\n",
       "\n",
       "// Listen for the removal of the full notebook cells\n",
       "var notebookContainer = gd.closest('#notebook-container');\n",
       "if (notebookContainer) {{\n",
       "    x.observe(notebookContainer, {childList: true});\n",
       "}}\n",
       "\n",
       "// Listen for the clearing of the current output cell\n",
       "var outputEl = gd.closest('.output');\n",
       "if (outputEl) {{\n",
       "    x.observe(outputEl, {childList: true});\n",
       "}}\n",
       "\n",
       "                        })\n",
       "                };\n",
       "                });\n",
       "            </script>\n",
       "        </div>"
      ]
     },
     "metadata": {},
     "output_type": "display_data"
    }
   ],
   "source": [
    "#Create a 3D scatter plot using Plotly Express; hover_name=\"CoinName\" and hover_data=[\"Algorithm\"]\n",
    "\n",
    "# Plotting the clusters with three features\n",
    "fig = px.scatter_3d(clustered_df, x=\"pc_1\", y=\"pc_2\", z=\"pc_3\", color=\"class\", symbol=\"class\",hover_name=\"CoinName\",hover_data=[\"Algorithm\"],height=500,width=800)\n",
    "fig.update_layout(legend=dict(x=0,y=1))\n",
    "fig.show()"
   ]
  },
  {
   "cell_type": "code",
   "execution_count": 76,
   "metadata": {},
   "outputs": [
    {
     "data": {},
     "metadata": {},
     "output_type": "display_data"
    },
    {
     "data": {
      "application/vnd.holoviews_exec.v0+json": "",
      "text/html": [
       "<div id='2031'>\n",
       "\n",
       "\n",
       "\n",
       "\n",
       "\n",
       "  <div class=\"bk-root\" id=\"52adc4cf-ddf0-4a77-8eda-bd88eb9d0955\" data-root-id=\"2031\"></div>\n",
       "</div>\n",
       "<script type=\"application/javascript\">(function(root) {\n",
       "  function embed_document(root) {\n",
       "  var docs_json = {\"a56a0571-0495-448c-bf99-9b6664216752\":{\"roots\":{\"references\":[{\"attributes\":{},\"id\":\"2035\",\"type\":\"StringFormatter\"},{\"attributes\":{\"editor\":{\"id\":\"2056\"},\"field\":\"TotalCoinsMined\",\"formatter\":{\"id\":\"2055\"},\"title\":\"TotalCoinsMined\"},\"id\":\"2057\",\"type\":\"TableColumn\"},{\"attributes\":{\"children\":[{\"id\":\"2032\"},{\"id\":\"2065\"},{\"id\":\"2069\"}],\"margin\":[0,0,0,0],\"name\":\"Row03999\",\"tags\":[\"embedded\"]},\"id\":\"2031\",\"type\":\"Row\"},{\"attributes\":{\"margin\":[5,5,5,5],\"name\":\"HSpacer04004\",\"sizing_mode\":\"stretch_width\"},\"id\":\"2069\",\"type\":\"Spacer\"},{\"attributes\":{\"format\":\"0,0.0[00000]\"},\"id\":\"2055\",\"type\":\"NumberFormatter\"},{\"attributes\":{},\"id\":\"2036\",\"type\":\"StringEditor\"},{\"attributes\":{},\"id\":\"2067\",\"type\":\"UnionRenderers\"},{\"attributes\":{},\"id\":\"2040\",\"type\":\"StringFormatter\"},{\"attributes\":{\"margin\":[5,5,5,5],\"name\":\"HSpacer04003\",\"sizing_mode\":\"stretch_width\"},\"id\":\"2032\",\"type\":\"Spacer\"},{\"attributes\":{},\"id\":\"2046\",\"type\":\"StringEditor\"},{\"attributes\":{\"columns\":[{\"id\":\"2037\"},{\"id\":\"2042\"},{\"id\":\"2047\"},{\"id\":\"2052\"},{\"id\":\"2057\"},{\"id\":\"2062\"}],\"height\":300,\"reorderable\":false,\"source\":{\"id\":\"2033\"},\"view\":{\"id\":\"2066\"},\"width\":400},\"id\":\"2065\",\"type\":\"DataTable\"},{\"attributes\":{\"source\":{\"id\":\"2033\"}},\"id\":\"2066\",\"type\":\"CDSView\"},{\"attributes\":{\"data\":{\"Algorithm\":[\"Scrypt\",\"Scrypt\",\"X13\",\"SHA-256\",\"Ethash\",\"Scrypt\",\"X11\",\"CryptoNight-V7\",\"Ethash\",\"Equihash\",\"SHA-512\",\"SHA-256\",\"SHA-256\",\"Scrypt\",\"X15\",\"X11\",\"Scrypt\",\"Scrypt\",\"Scrypt\",\"Scrypt\",\"SHA-256\",\"Scrypt\",\"Scrypt\",\"Scrypt\",\"Quark\",\"Groestl\",\"Scrypt\",\"Scrypt\",\"Scrypt\",\"Scrypt\",\"Scrypt\",\"X11\",\"Scrypt\",\"Groestl\",\"SHA-256\",\"Scrypt\",\"Scrypt\",\"Scrypt\",\"Scrypt\",\"PoS\",\"Scrypt\",\"Scrypt\",\"NeoScrypt\",\"Scrypt\",\"Scrypt\",\"Scrypt\",\"Scrypt\",\"X11\",\"Scrypt\",\"X11\",\"SHA-256\",\"Scrypt\",\"Scrypt\",\"Scrypt\",\"SHA3\",\"Scrypt\",\"HybridScryptHash256\",\"Scrypt\",\"Scrypt\",\"SHA-256\",\"Scrypt\",\"X13\",\"Scrypt\",\"SHA-256\",\"Scrypt\",\"X13\",\"NeoScrypt\",\"Scrypt\",\"Scrypt\",\"Scrypt\",\"Scrypt\",\"Scrypt\",\"Scrypt\",\"X11\",\"X11\",\"SHA-256\",\"SHA-256\",\"PHI1612\",\"X11\",\"SHA-256\",\"SHA-256\",\"SHA-256\",\"X11\",\"Scrypt\",\"Scrypt\",\"Scrypt\",\"Scrypt\",\"Lyra2REv2\",\"Scrypt\",\"X11\",\"SHA-256\",\"X13\",\"Scrypt\",\"CryptoNight\",\"CryptoNight\",\"Shabal256\",\"Counterparty\",\"Scrypt\",\"SHA-256\",\"Groestl\",\"Scrypt\",\"Scrypt\",\"Scrypt\",\"X13\",\"Scrypt\",\"Scrypt\",\"Scrypt\",\"Scrypt\",\"X13\",\"Scrypt\",\"Stanford Folding\",\"X11\",\"QuBit\",\"Scrypt\",\"Scrypt\",\"Scrypt\",\"M7 POW\",\"Scrypt\",\"SHA-256\",\"Scrypt\",\"X11\",\"SHA3\",\"X11\",\"Lyra2RE\",\"SHA-256\",\"QUAIT\",\"X11\",\"X11\",\"Scrypt\",\"Scrypt\",\"Scrypt\",\"Ethash\",\"X13\",\"Blake2b\",\"SHA-256\",\"X15\",\"X11\",\"SHA-256\",\"BLAKE256\",\"Scrypt\",\"1GB AES Pattern Search\",\"SHA-256\",\"X11\",\"Scrypt\",\"SHA-256\",\"SHA-256\",\"NIST5\",\"Scrypt\",\"Scrypt\",\"X11\",\"Dagger\",\"Scrypt\",\"X11GOST\",\"X11\",\"Scrypt\",\"SHA-256\",\"Scrypt\",\"PoS\",\"Scrypt\",\"X11\",\"X11\",\"SHA-256\",\"SHA-256\",\"NIST5\",\"X11\",\"Scrypt\",\"POS 3.0\",\"Scrypt\",\"Scrypt\",\"Scrypt\",\"X13\",\"X11\",\"X11\",\"Equihash\",\"X11\",\"Scrypt\",\"CryptoNight\",\"SHA-256\",\"SHA-256\",\"X11\",\"Scrypt\",\"Scrypt\",\"Scrypt\",\"Scrypt\",\"SHA-256\",\"Scrypt\",\"Scrypt\",\"SHA-256D\",\"PoS\",\"Scrypt\",\"X11\",\"Lyra2Z\",\"PoS\",\"X13\",\"X14\",\"PoS\",\"SHA-256D\",\"Ethash\",\"Equihash\",\"DPoS\",\"X11\",\"Scrypt\",\"X11\",\"X13\",\"X11\",\"PoS\",\"Scrypt\",\"Scrypt\",\"X11\",\"PoS\",\"X11\",\"SHA-256\",\"Scrypt\",\"X11\",\"Scrypt\",\"Scrypt\",\"X11\",\"CryptoNight\",\"Scrypt\",\"Scrypt\",\"Scrypt\",\"Scrypt\",\"Quark\",\"QuBit\",\"Scrypt\",\"CryptoNight\",\"Lyra2RE\",\"Scrypt\",\"SHA-256\",\"X11\",\"Scrypt\",\"X11\",\"Scrypt\",\"CryptoNight-V7\",\"Scrypt\",\"Scrypt\",\"Scrypt\",\"X13\",\"X11\",\"Equihash\",\"Scrypt\",\"Scrypt\",\"Lyra2RE\",\"Scrypt\",\"Dagger-Hashimoto\",\"X11\",\"Blake2S\",\"X11\",\"Scrypt\",\"PoS\",\"X11\",\"NIST5\",\"PoS\",\"X11\",\"Scrypt\",\"Scrypt\",\"Scrypt\",\"SHA-256\",\"X11\",\"Scrypt\",\"Scrypt\",\"SHA-256\",\"PoS\",\"Scrypt\",\"X15\",\"SHA-256\",\"Scrypt\",\"POS 3.0\",\"CryptoNight-V7\",\"536\",\"Argon2d\",\"Blake2b\",\"Cloverhash\",\"CryptoNight\",\"NIST5\",\"X11\",\"NIST5\",\"Skein\",\"Scrypt\",\"X13\",\"Scrypt\",\"X11\",\"X11\",\"Scrypt\",\"CryptoNight\",\"X13\",\"Time Travel\",\"Scrypt\",\"Keccak\",\"SkunkHash v2 Raptor\",\"X11\",\"Skein\",\"SHA-256\",\"X11\",\"Scrypt\",\"VeChainThor Authority\",\"Scrypt\",\"PoS\",\"Scrypt\",\"Scrypt\",\"Scrypt\",\"Scrypt\",\"Scrypt\",\"Scrypt\",\"Scrypt\",\"CryptoNight\",\"SHA-512\",\"Ouroboros\",\"X11\",\"Equihash\",\"NeoScrypt\",\"X11\",\"Scrypt\",\"NeoScrypt\",\"Lyra2REv2\",\"Equihash\",\"Scrypt\",\"SHA-256\",\"NIST5\",\"PHI1612\",\"Dagger\",\"Scrypt\",\"Quark\",\"Scrypt\",\"POS 2.0\",\"Scrypt\",\"SHA-256\",\"X11\",\"NeoScrypt\",\"Ethash\",\"NeoScrypt\",\"X11\",\"DPoS\",\"NIST5\",\"X13\",\"Scrypt\",\"CryptoNight\",\"CryptoNight\",\"Ethash\",\"NIST5\",\"Quark\",\"X11\",\"CryptoNight-V7\",\"Scrypt\",\"Scrypt\",\"Scrypt\",\"X11\",\"BLAKE256\",\"X11\",\"NeoScrypt\",\"Quark\",\"NeoScrypt\",\"Scrypt\",\"Scrypt\",\"Scrypt\",\"X11\",\"X11\",\"SHA-256\",\"C11\",\"POS 3.0\",\"Ethash\",\"Scrypt\",\"CryptoNight\",\"SkunkHash\",\"Scrypt\",\"CryptoNight\",\"Scrypt\",\"Dagger\",\"Lyra2REv2\",\"X13\",\"Proof-of-BibleHash\",\"SHA-256 + Hive\",\"Scrypt\",\"Scrypt\",\"X11\",\"C11\",\"Proof-of-Authority\",\"X11\",\"XEVAN\",\"Scrypt\",\"VBFT\",\"Ethash\",\"CryptoNight\",\"Scrypt\",\"IMesh\",\"NIST5\",\"Scrypt\",\"Scrypt\",\"Equihash\",\"Scrypt\",\"Lyra2Z\",\"Green Protocol\",\"PoS\",\"Scrypt\",\"Semux BFT consensus\",\"X11\",\"Quark\",\"PoS\",\"CryptoNight\",\"X16R\",\"Scrypt\",\"NIST5\",\"Lyra2RE\",\"XEVAN\",\"Tribus\",\"Scrypt\",\"Lyra2Z\",\"CryptoNight\",\"CryptoNight Heavy\",\"CryptoNight\",\"Scrypt\",\"Scrypt\",\"Jump Consistent Hash\",\"SHA-256D\",\"CryptoNight\",\"Scrypt\",\"X15\",\"Scrypt\",\"Quark\",\"SHA-256\",\"DPoS\",\"X16R\",\"HMQ1725\",\"X11\",\"X16R\",\"Quark\",\"Quark\",\"Scrypt\",\"Lyra2REv2\",\"Quark\",\"Scrypt\",\"Scrypt\",\"CryptoNight-V7\",\"Cryptonight-GPU\",\"XEVAN\",\"CryptoNight Heavy\",\"X11\",\"X11\",\"Scrypt\",\"PoS\",\"SHA-256\",\"Keccak\",\"X11\",\"X11\",\"Scrypt\",\"SHA-512\",\"X16R\",\"ECC 256K1\",\"Equihash\",\"XEVAN\",\"Lyra2Z\",\"SHA-256\",\"XEVAN\",\"X11\",\"CryptoNight\",\"Quark\",\"Blake\",\"Blake\",\"Equihash\",\"Exosis\",\"Scrypt\",\"Scrypt\",\"Equihash\",\"Quark\",\"Equihash\",\"Quark\",\"Scrypt\",\"QuBit\",\"X11\",\"Scrypt\",\"XEVAN\",\"SHA-256D\",\"X11\",\"SHA-256\",\"X13\",\"SHA-256\",\"X11\",\"DPoS\",\"Scrypt\",\"Scrypt\",\"X11\",\"NeoScrypt\",\"Scrypt\",\"Blake\",\"Scrypt\",\"SHA-256\",\"Scrypt\",\"X11\",\"Scrypt\",\"Scrypt\",\"SHA-256\",\"X11\",\"SHA-256\",\"Scrypt\",\"Scrypt\",\"Scrypt\",\"Groestl\",\"X11\",\"Scrypt\",\"PoS\",\"Scrypt\",\"Scrypt\",\"X11\",\"SHA-256\",\"DPoS\",\"Scrypt\",\"Scrypt\",\"NeoScrypt\",\"SHA3-256\",\"X13\",\"Equihash+Scrypt\",\"DPoS\",\"Ethash\",\"DPoS\",\"SHA-256\",\"Leased POS\",\"PoS\",\"TRC10\",\"PoS\",\"SHA-256\",\"Scrypt\",\"CryptoNight\",\"Equihash\",\"Scrypt\"],\"CoinName\":[\"42 Coin\",\"404Coin\",\"EliteCoin\",\"Bitcoin\",\"Ethereum\",\"Litecoin\",\"Dash\",\"Monero\",\"Ethereum Classic\",\"ZCash\",\"Bitshares\",\"BitcoinDark\",\"PayCoin\",\"ProsperCoin\",\"KoboCoin\",\"Spreadcoin\",\"Argentum\",\"Aurora Coin\",\"BlueCoin\",\"MoonCoin\",\"ZetaCoin\",\"SexCoin\",\"Quatloo\",\"EnergyCoin\",\"QuarkCoin\",\"Riecoin\",\"Digitalcoin \",\"BitBar\",\"Catcoin\",\"CryptoBullion\",\"CannaCoin\",\"CryptCoin\",\"CasinoCoin\",\"Diamond\",\"DevCoin\",\"EarthCoin\",\"E-Gulden\",\"Einsteinium\",\"Emerald\",\"Exclusive Coin\",\"FlutterCoin\",\"Franko\",\"FeatherCoin\",\"GrandCoin\",\"GlobalCoin\",\"GoldCoin\",\"HoboNickels\",\"HyperStake\",\"Infinite Coin\",\"IOCoin\",\"IXcoin\",\"KrugerCoin\",\"LuckyCoin\",\"Litebar \",\"MaxCoin\",\"MegaCoin\",\"MediterraneanCoin\",\"MintCoin\",\"MinCoin\",\"MazaCoin\",\"Nautilus Coin\",\"NavCoin\",\"NobleCoin\",\"Namecoin\",\"NyanCoin\",\"OpalCoin\",\"Orbitcoin\",\"PotCoin\",\"PhoenixCoin\",\"Reddcoin\",\"RonPaulCoin\",\"StableCoin\",\"SmartCoin\",\"SuperCoin\",\"SyncCoin\",\"SysCoin\",\"TigerCoin\",\"TittieCoin\",\"TorCoin\",\"TerraCoin\",\"UnbreakableCoin\",\"Unobtanium\",\"UroCoin\",\"UnitaryStatus Dollar\",\"UltraCoin\",\"ViaCoin\",\"VeriCoin\",\"Vertcoin\",\"WorldCoin\",\"X11 Coin\",\"JouleCoin\",\"StealthCoin\",\"ZCC Coin\",\"ByteCoin\",\"DigitalNote \",\"BurstCoin\",\"StorjCoin\",\"MonaCoin\",\"Neutron\",\"FairCoin\",\"Gulden\",\"RubyCoin\",\"PesetaCoin\",\"Kore\",\"Wild Beast Coin\",\"Dnotes\",\"Flo\",\"8BIT Coin\",\"Sativa Coin\",\"ArtByte\",\"Folding Coin\",\"Ucoin\",\"CypherPunkCoin\",\"OmniCron\",\"Vtorrent\",\"GreenCoin\",\"Cryptonite\",\"MasterCoin\",\"SoonCoin\",\"1Credit\",\"IslaCoin\",\"Nexus\",\"MarsCoin \",\"Crypto\",\"Anarchists Prime\",\"Droidz\",\"BowsCoin\",\"Squall Coin\",\"Song Coin\",\"BitZeny\",\"Diggits\",\"Expanse\",\"Paycon\",\"Siacoin\",\"Emercoin\",\"EverGreenCoin\",\"MindCoin\",\"I0coin\",\"Decred\",\"Revolution VR\",\"HOdlcoin\",\"EDRCoin\",\"Hitcoin\",\"Gamecredits\",\"DubaiCoin\",\"CarpeDiemCoin\",\"PWR Coin\",\"BillaryCoin\",\"GPU Coin\",\"Adzcoin\",\"SoilCoin\",\"YoCoin\",\"SibCoin\",\"EuropeCoin\",\"ZeitCoin\",\"SwingCoin\",\"SafeExchangeCoin\",\"Nebuchadnezzar\",\"Francs\",\"BolivarCoin\",\"Ratecoin\",\"Revenu\",\"Clockcoin\",\"VIP Tokens\",\"BitSend\",\"Omni\",\"Let it Ride\",\"PutinCoin\",\"iBankCoin\",\"Frankywillcoin\",\"MudraCoin\",\"PizzaCoin\",\"Lutetium Coin\",\"Komodo\",\"GoldBlocks\",\"CarterCoin\",\"Karbo\",\"BitTokens\",\"ZayedCoin\",\"MustangCoin\",\"ZoneCoin\",\"RootCoin\",\"DopeCoin\",\"BitCurrency\",\"DollarCoin\",\"Swiscoin\",\"Shilling\",\"BuzzCoin\",\"Opair\",\"PesoBit\",\"Halloween Coin\",\"ZCoin\",\"CoffeeCoin\",\"RoyalCoin\",\"GanjaCoin V2\",\"TeamUP\",\"LanaCoin\",\"Elementrem\",\"ZClassic\",\"ARK\",\"InsaneCoin\",\"KiloCoin\",\"ArtexCoin\",\"EmberCoin\",\"XenixCoin\",\"FreeCoin\",\"PLNCoin\",\"AquariusCoin\",\"Kurrent\",\"Creatio\",\"Eternity\",\"Eurocoin\",\"BitcoinFast\",\"Stakenet\",\"BitConnect Coin\",\"MoneyCoin\",\"Enigma\",\"Cannabis Industry Coin\",\"Russiacoin\",\"PandaCoin\",\"GameUnits\",\"GAKHcoin\",\"Allsafe\",\"LiteCreed\",\"OsmiumCoin\",\"Bikercoins\",\"HexxCoin\",\"Klingon Empire Darsek\",\"Internet of People\",\"KushCoin\",\"Printerium\",\"PacCoin\",\"Impeach\",\"Citadel\",\"Zilbercoin\",\"FirstCoin\",\"BeaverCoin\",\"FindCoin\",\"VaultCoin\",\"Zero\",\"OpenChat\",\"Canada eCoin\",\"Zoin\",\"RenosCoin\",\"DubaiCoin\",\"VirtacoinPlus\",\"TajCoin\",\"Impact\",\"EB3coin\",\"Atmos\",\"HappyCoin\",\"Coinonat\",\"MacronCoin\",\"Condensate\",\"Independent Money System\",\"ArgusCoin\",\"LomoCoin\",\"ProCurrency\",\"GoldReserve\",\"BenjiRolls\",\"GrowthCoin\",\"ILCoin\",\"Phreak\",\"Degas Coin\",\"HTML5 Coin\",\"Ultimate Secure Cash\",\"EquiTrader\",\"QTUM\",\"Quantum Resistant Ledger\",\"Espers\",\"Dynamic\",\"Nano\",\"ChanCoin\",\"Dinastycoin\",\"Denarius\",\"DigitalPrice\",\"Virta Unique Coin\",\"Bitcoin Planet\",\"Unify\",\"BritCoin\",\"SocialCoin\",\"ArcticCoin\",\"DAS\",\"Linda\",\"LeviarCoin\",\"DeepOnion\",\"Bitcore\",\"gCn Coin\",\"SmartCash\",\"Signatum\",\"Onix\",\"Cream\",\"Bitcoin Cash\",\"Monoeci\",\"Draftcoin\",\"Vechain\",\"Sojourn Coin\",\"Stakecoin\",\"NewYorkCoin\",\"FrazCoin\",\"Kronecoin\",\"AdCoin\",\"Linx\",\"CoinonatX\",\"Ethereum Dark\",\"Sumokoin\",\"Obsidian\",\"Cardano\",\"Regalcoin\",\"BitcoinZ\",\"TrezarCoin\",\"Elements\",\"TerraNovaCoin\",\"VIVO Coin\",\"Rupee\",\"Bitcoin Gold\",\"WomenCoin\",\"Theresa May Coin\",\"NamoCoin\",\"LUXCoin\",\"Pirl\",\"Xios\",\"Bitcloud 2.0\",\"eBoost\",\"KekCoin\",\"BlackholeCoin\",\"Infinity Economics\",\"Pura\",\"Innova\",\"Ellaism\",\"GoByte\",\"Magnet\",\"Lamden Tau\",\"Electra\",\"Bitcoin Diamond\",\"Cash & Back Coin\",\"UltraNote\",\"BitCoal\",\"DaxxCoin\",\"Bulwark\",\"Kalkulus\",\"AC3\",\"Lethean\",\"GermanCoin\",\"LiteCoin Ultra\",\"PopularCoin\",\"PhantomX\",\"Photon\",\"Sucre\",\"SparksPay\",\"Digiwage\",\"GunCoin\",\"IrishCoin\",\"Trollcoin\",\"Litecoin Plus\",\"Monkey Project\",\"Pioneer Coin\",\"UnitedBitcoin\",\"Interzone\",\"TokenPay\",\"1717 Masonic Commemorative Token\",\"My Big Coin\",\"TurtleCoin\",\"MUNcoin\",\"Unified Society USDEX\",\"Niobio Cash\",\"ShareChain\",\"Travelflex\",\"KREDS\",\"Tokyo Coin\",\"BiblePay\",\"LitecoinCash\",\"BitFlip\",\"LottoCoin\",\"Crypto Improvement Fund\",\"Stipend\",\"Poa Network\",\"Pushi\",\"Ellerium\",\"Velox\",\"Ontology\",\"Callisto Network\",\"BitTube\",\"Poseidon\",\"Aidos Kuneen\",\"Bitspace\",\"Briacoin\",\"Ignition\",\"Bitrolium\",\"MedicCoin\",\"Alpenschillling\",\"Bitcoin Green\",\"Deviant Coin\",\"Abjcoin\",\"Semux\",\"FuturoCoin\",\"Carebit\",\"Zealium\",\"Monero Classic\",\"Proton\",\"iDealCash\",\"Jumpcoin\",\"Infinex\",\"Bitcoin Incognito\",\"KEYCO\",\"HollyWoodCoin\",\"GINcoin\",\"PlatinCoin\",\"Loki\",\"Newton Coin\",\"Swisscoin\",\"Xt3ch\",\"MassGrid\",\"TheVig\",\"PluraCoin\",\"EmaratCoin\",\"Dekado\",\"Lynx\",\"Poseidon Quark\",\"BitcoinWSpectrum\",\"Muse\",\"Motion\",\"PlusOneCoin\",\"Axe\",\"Trivechain\",\"Dystem\",\"Giant\",\"Peony Coin\",\"Absolute Coin\",\"Vitae\",\"HexCoin\",\"TPCash\",\"Webchain\",\"Ryo\",\"Urals Coin\",\"Qwertycoin\",\"ARENON\",\"EUNO\",\"MMOCoin\",\"Ketan\",\"Project Pai\",\"XDNA\",\"PAXEX\",\"Azart\",\"ThunderStake\",\"Kcash\",\"Xchange\",\"Acute Angle Cloud\",\"CrypticCoin\",\"Bettex coin\",\"Actinium\",\"Bitcoin SV\",\"BitMoney\",\"Junson Ming Chan Coin\",\"FREDEnergy\",\"HerbCoin\",\"Universal Molecule\",\"Lithium\",\"PirateCash\",\"Exosis\",\"Block-Logic\",\"Oduwa\",\"Beam\",\"Galilel\",\"Bithereum\",\"Crypto Sports\",\"Credit\",\"SLICE\",\"Dash Platinum\",\"Nasdacoin\",\"Beetle Coin\",\"Titan Coin\",\"Award\",\"BLAST\",\"Bitcoin Rhodium\",\"GlobalToken\",\"Insane Coin\",\"ALAX\",\"LiteDoge\",\"SolarCoin\",\"TruckCoin\",\"UFO Coin\",\"OrangeCoin\",\"BlakeCoin\",\"BitstarCoin\",\"NeosCoin\",\"HyperCoin\",\"PinkCoin\",\"Crypto Escudo\",\"AudioCoin\",\"IncaKoin\",\"Piggy Coin\",\"Crown Coin\",\"Genstake\",\"SmileyCoin\",\"XiaoMiCoin\",\"Groestlcoin\",\"CapriCoin\",\" ClubCoin\",\"Radium\",\"Bata\",\"Pakcoin\",\"Creditbit \",\"OKCash\",\"Lisk\",\"HiCoin\",\"WhiteCoin\",\"FriendshipCoin\",\"Fiii\",\"Triangles Coin\",\"Vollar\",\"EOS\",\"Reality Clash\",\"Oxycoin\",\"TigerCash\",\"Waves\",\"Particl\",\"BitTorrent\",\"Nxt\",\"ZEPHYR\",\"Gapcoin\",\"Beldex\",\"Horizen\",\"BitcoinPlus\"],\"ProofType\":[\"PoW/PoS\",\"PoW/PoS\",\"PoW/PoS\",\"PoW\",\"PoW\",\"PoW\",\"PoW/PoS\",\"PoW\",\"PoW\",\"PoW\",\"PoS\",\"PoW/PoS\",\"PoS\",\"PoW\",\"PoW/PoS\",\"PoW\",\"PoW\",\"PoW/PoS\",\"PoW/PoS\",\"PoW\",\"PoW\",\"PoW\",\"PoW\",\"PoW/PoS\",\"PoW\",\"PoW\",\"PoW\",\"PoW/PoS\",\"PoW\",\"PoW/PoS\",\"PoW\",\"PoW\",\"PoC\",\"PoW/PoS\",\"PoW\",\"PoW\",\"PoW\",\"PoW\",\"PoW\",\"PoS\",\"PoS/PoW/PoT\",\"PoW\",\"PoW\",\"PoW\",\"PoW\",\"PoW\",\"PoW/PoS\",\"PoS\",\"PoW\",\"PoW/PoS\",\"PoW\",\"PoW\",\"PoW\",\"PoW\",\"PoW/PoS\",\"PoW\",\"PoW\",\"PoS\",\"PoW\",\"PoW/PoS\",\"PoS\",\"PoW/PoS\",\"PoW\",\"PoW\",\"PoW\",\"PoW/PoS\",\"PoW/PoS\",\"PoW/PoS\",\"PoW/PoS\",\"PoW/PoS\",\"PoW\",\"PoW\",\"PoW\",\"PoS\",\"PoW/PoS\",\"PoW\",\"PoW\",\"PoS\",\"PoW/PoS\",\"PoW\",\"PoW\",\"PoW\",\"PoW\",\"PoW/PoS\",\"PoW/PoS\",\"PoW\",\"PoST\",\"PoW\",\"PoW\",\"PoW/PoS\",\"PoW\",\"PoW/PoS\",\"PoW/PoS\",\"PoW\",\"PoW\",\"PoC\",\"PoS\",\"PoW\",\"PoW/PoS\",\"PoW/PoS\",\"PoW\",\"PoS\",\"PoW\",\"PoW/PoS\",\"PoW\",\"PoS\",\"PoW\",\"PoW/PoS\",\"PoW/PoS\",\"PoW\",\"PoW\",\"PoS\",\"PoW\",\"PoW\",\"PoW/PoS\",\"PoW\",\"PoW\",\"PoW\",\"PoW\",\"PoW\",\"PoW/PoS\",\"PoW/nPoS\",\"PoW\",\"PoW\",\"PoW\",\"PoW/PoS\",\"PoW\",\"PoS/PoW\",\"PoW\",\"PoW\",\"PoS\",\"PoW\",\"PoW/PoS\",\"PoW\",\"PoW/PoS\",\"PoW/PoS\",\"PoW\",\"PoW\",\"PoW/PoS\",\"PoW\",\"PoW\",\"PoW/PoS\",\"PoW/PoS\",\"PoW\",\"PoW/PoS\",\"PoW\",\"PoW/PoS\",\"PoW/PoS\",\"PoS\",\"PoW\",\"PoW\",\"PoW\",\"PoW\",\"PoW/PoS\",\"PoS\",\"PoW/PoS\",\"PoC\",\"PoS\",\"PoW\",\"PoW\",\"PoW/PoS\",\"PoW/PoS\",\"PoW/PoS\",\"PoW/PoS\",\"PoW/PoS\",\"PoW\",\"PoS\",\"PoW/PoS\",\"PoW/PoS\",\"PoW/PoS\",\"PoS\",\"PoW\",\"PoS\",\"dPoW/PoW\",\"PoW/PoS\",\"PoW/PoS\",\"PoW\",\"PoW/PoS\",\"PoW\",\"PoW/PoS\",\"PoW/PoS\",\"PoW/PoS\",\"PoW\",\"PoS\",\"PoW\",\"PoW/PoW\",\"PoW\",\"PoW/PoS\",\"PoS\",\"PoW/PoS\",\"PoW/PoS\",\"PoW\",\"PoS\",\"PoS\",\"PoW/PoS\",\"PoS\",\"PoW/PoS\",\"PoW\",\"PoW\",\"DPoS\",\"PoW/PoS\",\"PoW\",\"PoW\",\"PoW/PoS\",\"PoW/PoS\",\"PoS\",\"PoW/PoS\",\"PoW/PoS\",\"PoW\",\"PoS\",\"PoW/PoS\",\"PoW/PoS\",\"PoW/PoS\",\"TPoS\",\"PoW/PoS\",\"PoW/PoS\",\"PoW/PoS\",\"PoW\",\"PoW/PoS\",\"PoS\",\"PoW/PoS\",\"PoW/PoS\",\"PoS\",\"PoW/PoS\",\"PoW\",\"PoW\",\"PoW\",\"PoW/PoS\",\"PoW/PoS\",\"PoW/PoS\",\"PoW/PoS\",\"PoW\",\"PoW/PoS\",\"PoW\",\"PoS\",\"PoW/PoS \",\"PoW\",\"PoS\",\"PoW\",\"PoW\",\"PoW/PoS\",\"PoW\",\"PoW\",\"PoS\",\"PoW\",\"PoW/PoS\",\"PoW/PoS\",\"PoW/PoS\",\"PoW\",\"PoS\",\"PoW/PoS\",\"PoW\",\"PoS\",\"PoW/PoS\",\"PoW/PoS\",\"PoW/PoS\",\"PoW/PoS\",\"PoS\",\"PoW/PoS\",\"PoW\",\"PoS\",\"PoW\",\"PoS\",\"PoW/PoS\",\"PoW/PoS\",\"PoS\",\"PoW\",\"PoS\",\"PoW\",\"PoW/PoS\",\"PoW\",\"PoW\",\"PoW\",\"PoW\",\"PoW/PoS\",\"PoW\",\"PoW/PoS\",\"PoW/PoS\",\"PoW\",\"PoW/PoS\",\"PoW\",\"PoW\",\"PoW\",\"PoW/PoS\",\"PoW\",\"PoW/PoS\",\"PoW\",\"PoW\",\"PoW\",\"PoS\",\"PoW\",\"PoW/PoS\",\"PoW\",\"PoW/PoS\",\"PoS\",\"Proof of Authority\",\"PoW\",\"PoS\",\"PoW\",\"PoW\",\"PoW\",\"PoW\",\"PoW\",\"PoW/PoS\",\"PoW/PoS\",\"PoW\",\"PoS\",\"PoS\",\"PoW/PoS\",\"PoW\",\"PoW/PoS\",\"PoW\",\"PoW/PoS\",\"PoW\",\"PoS\",\"PoW\",\"PoW/PoS\",\"PoW/PoS\",\"PoW/PoS\",\"PoW/PoS\",\"PoW\",\"PoW/PoS\",\"PoW/PoS\",\"PoW\",\"PoS\",\"PoW/PoS\",\"PoS\",\"PoW\",\"PoW\",\"PoW\",\"PoW\",\"PoW/PoS\",\"DPoS\",\"PoW/PoS\",\"PoW/PoS\",\"PoW/PoS\",\"PoW\",\"PoW\",\"PoW\",\"PoS\",\"PoS\",\"PoW\",\"PoW\",\"PoW/PoS\",\"PoW/PoS\",\"PoW\",\"PoW/PoS\",\"PoW\",\"PoW\",\"PoW\",\"PoS\",\"PoW\",\"PoW\",\"PoW/PoS\",\"PoW/PoS\",\"PoS\",\"PoW\",\"PoW\",\"PoW\",\"PoS\",\"PoS\",\"PoW and PoS\",\"PoW\",\"PoW\",\"PoW/PoS\",\"PoW\",\"PoW\",\"PoW\",\"PoW\",\"PoS\",\"POBh\",\"PoW + Hive\",\"PoW\",\"PoW\",\"PoW\",\"PoW/PoS\",\"PoA\",\"PoW/PoS\",\"PoW/PoS\",\"PoS\",\"PoS\",\"PoW\",\"PoW\",\"PoW\",\"PoW\",\"PoW/PoS\",\"PoW/PoS\",\"PoW/PoS\",\"PoW\",\"PoS\",\"PoW\",\"PoS\",\"PoS\",\"PoW/PoS\",\"DPoS\",\"PoW\",\"PoW/PoS\",\"PoS\",\"PoW\",\"PoS\",\"PoW/PoS\",\"PoW\",\"PoW\",\"PoS/PoW\",\"PoW\",\"PoS\",\"PoW\",\"PoW\",\"PoW\",\"PoW\",\"PoW/PoS\",\"PoS\",\"PoW\",\"PoW/PoS\",\"PoW\",\"PoW/PoS\",\"PoS\",\"HPoW\",\"PoS\",\"PoS\",\"PoS\",\"PoW\",\"PoW\",\"PoW\",\"PoW/PoS\",\"PoS\",\"PoW/PoS\",\"PoS\",\"PoW/PoS\",\"PoS\",\"PoW\",\"PoW/PoS\",\"PoW\",\"PoW\",\"PoW\",\"PoW\",\"PoS\",\"PoW/PoS\",\"PoS\",\"PoS\",\"PoW\",\"PoW/PoS\",\"PoS\",\"PoW\",\"PoW/PoS\",\"Zero-Knowledge Proof\",\"PoW\",\"DPOS\",\"PoW\",\"PoS\",\"PoW\",\"PoW\",\"Pos\",\"PoS\",\"PoW\",\"PoW/PoS\",\"PoW\",\"PoW\",\"PoS\",\"PoW\",\"PoW\",\"PoW/PoS\",\"PoW\",\"PoW/PoS\",\"PoW\",\"PoS\",\"PoW/PoS\",\"PoW\",\"PoS\",\"PoW/PoS\",\"PoW/PoS\",\"PoW/PoS\",\"PoW/PoS\",\"PoW\",\"PoW\",\"PoW\",\"PoW/PoS\",\"DPoS\",\"PoW/PoS\",\"PoW\",\"PoW/PoS\",\"PoW\",\"PoW/PoS\",\"PoW\",\"PoW/PoS\",\"PoS\",\"PoW/PoS\",\"PoW/PoS\",\"PoW\",\"PoW/PoS\",\"PoW/PoS\",\"PoW/PoS\",\"PoW\",\"PoW/PoS\",\"PoW\",\"PoW/PoS\",\"PoW\",\"PoW/PoS\",\"PoW/PoS\",\"PoS\",\"PoW\",\"PoW\",\"Proof of Trust\",\"PoW/PoS\",\"DPoS\",\"PoS\",\"PoW/PoS\",\"PoW/PoS\",\"DPoC\",\"PoW/PoS\",\"PoW\",\"DPoS\",\"PoW\",\"DPoS\",\"PoS\",\"LPoS\",\"PoS\",\"DPoS\",\"PoS/LPoS\",\"DPoS\",\"PoW/PoS\",\"PoW\",\"PoW\",\"PoS\"],\"TotalCoinSupply\":[\"42\",\"532000000\",\"314159265359\",\"21000000\",\"0\",\"84000000\",\"22000000\",\"0\",\"210000000\",\"21000000\",\"3600570502\",\"22000000\",\"12500000\",\"21000000\",\"350000000\",\"20000000\",\"64000000\",\"16768584\",\"0\",\"384000000000\",\"169795588\",\"250000000\",\"100000000\",\"0\",\"247000000\",\"84000000\",\"48166000\",\"500000\",\"21000000 \",\"1000000\",\"13140000\",\"18000000\",\"40000000000\",\"4380000\",\"21000000000\",\"13500000000\",\"21000000 \",\"299792458\",\"32000000\",\"0\",\"0\",\"11235813\",\"336000000\",\"1420609614\",\"70000000\",\"72245700\",\"120000000\",\"0\",\"90600000000\",\"22000000\",\"21000000\",\"265420800\",\"20000000\",\"1350000\",\"100000000\",\"42000000\",\"200000000\",\"0\",\"10000000\",\"2419200000\",\"16180000\",\"0\",\"15000000000\",\"21000000\",\"337000000\",\"0\",\"3770000\",\"420000000\",\"98000000\",\"0\",\"21000000\",\"250000000\",\"51200000\",\"0\",\"1000\",\"888000000\",\"47011968\",\"2300000000\",\"10000000\",\"42000000\",\"80000000\",\"250000\",\"0\",\"1600000000\",\"100000000\",\"23000000\",\"0\",\"84000000\",\"265420800\",\"5500000\",\"45000000\",\"0\",\"1000000000\",\"184467440735\",\"10000000000\",\"2158812800\",\"500000000\",\"105120000\",\"68000000\",\"0\",\"1680000000\",\"0\",\"166386000\",\"12000000\",\"2628000\",\"500000000\",\"160000000\",\"0\",\"10000000\",\"1000000000\",\"1000000000\",\"20000000\",\"0\",\"3371337\",\"20000000\",\"10000000000\",\"1840000000\",\"619478\",\"21000000\",\"92000000000\",\"0\",\"78000000\",\"33000000\",\"65789100\",\"53760000\",\"5060000\",\"21000000\",\"0\",\"210240000\",\"250000000\",\"100000000\",\"16906397\",\"50000000\",\"0\",\"1000000000\",\"26298000\",\"16000000\",\"21000000\",\"21000000\",\"210000000\",\"81962100\",\"22000000\",\"26550000000\",\"84000000\",\"10500000\",\"21626280000 \",\"0\",\"42000000\",\"221052632\",\"84000000\",\"30000000\",\"168351300\",\"24000000\",\"384000000\",\" 99000000000\",\"40000000\",\"2147483647\",\"20000000\",\"20000000\",\"25000000\",\"75000000\",\"222725000\",\"525000000\",\"90000000\",\"139000000\",\"616448\",\"33500000\",\"2000000000\",\"44333333\",\"100000000\",\"200000000\",\"25000000\",\"657000000\",\"200000000\",\"50000000\",\"90000000\",\"10000000\",\"21000000\",\"9736000\",\"3000000\",\"21000000\",\"0\",\"200000000\",\"0\",\"10638298\",\"3100000000\",\"30000000\",\"20000000000\",\"74000000\",\"0\",\"1500000000\",\"21400000\",\"39999898\",\"2500124\",\"100000000\",\"301000000\",\"7506000000\",\"26205539\",\"21000000\",\"125000000\",\"30000000\",\"10000000000\",\"500000000\",\"850000000\",\"3853326.77707314\",\"50000000\",\"38540000 \",\"42000000\",\"228000000\",\"20000000\",\"60000000\",\"20000000\",\"33000000\",\"76500000\",\"28000000\",\"650659833\",\"5000000\",\"21000000\",\"144000000\",\"32514916898\",\"13000000\",\"3315789\",\"15000000\",\"78835200\",\"2714286\",\"25000000\",\"9999999\",\"500000000\",\"21000000\",\"9354000\",\"20000000\",\"100000000000\",\"21933333\",\"185000000\",\"55000000\",\"110000000\",\"3360000\",\"14524851.4827\",\"1000000000\",\"17000000\",\"1000000000\",\"100000000 \",\"21000000\",\"34426423\",\"2232901\",\"100000000\",\"36900000\",\"110000000\",\"4000000000\",\"110290030\",\"100000000\",\"48252000\",\"400000000\",\"500000000\",\"21212121\",\"28600000\",\"1000000000\",\"75000000000\",\"40000000\",\"35520400\",\"2000000000\",\"2500000000\",\"30000000\",\"105000000\",\"90000000000\",\"200084200\",\"72000000\",\"100000000\",\"105000000\",\"50000000000\",\"0\",\"340282367\",\"30000000\",\"2000000000\",\"10000000\",\"100000000\",\"120000000\",\"100000000\",\"19276800\",\"30000000\",\" 75000000\",\"60000000\",\"18900000\",\"50000000000\",\"54000000\",\"18898187.6216583\",\"21000000\",\"200000000000\",\"5000000000\",\"137500000\",\"1100000000\",\"100000000\",\"21000000\",\"9507271\",\"17405891.19707116\",\"86712634466\",\"10500000000\",\"61599965\",\"0\",\"20000000\",\"84000000\",\"100000000\",\"100000000\",\"48252000\",\"4200000\",\"88888888\",\"91388946\",\"45000000000\",\"27000000\",\"21000000000\",\"400000000\",\"1800000000\",\"15733333\",\"27000000\",\"24000000\",\"21000000\",\"25000000000\",\"100000000\",\"1200000000\",\"60000000\",\"156306732.71\",\"21000000\",\"200000000\",\"100000000\",\"21000000\",\"14788275.991\",\"9000000000\",\"350000000\",\"45000000\",\"280000000\",\"31800000\",\"144000000\",\"500000000\",\"30000000000\",\"210000000\",\"210000000\",\"85000000000\",\"12500000\",\"10000000000\",\"27716121\",\"20000000\",\"550000000\",\"999481516\",\"50000000000\",\"150000000\",\"4999999999\",\"50000000\",\" 90000000000\",\"19800000\",\"21000000\",\"120000000\",\"500000000\",\"64000000\",\"900000000\",\"4000000\",\"21000000\",\"23000000\",\"20166000\",\"23000000\",\"25000000\",\"1618033\",\"30000000\",\"1000000000000\",\"16600000\",\"232000000\",\"336000000\",\"10000000000\",\"100000000\",\"1100000000\",\"800000000\",\"5200000000\",\"840000000\",\"40000000\",\"18406979840\",\"500000000\",\"19340594\",\"252460800\",\"25000000\",\"60000000\",\"124000000\",\"1000000000\",\"6500000000\",\"1000000000\",\"21000000\",\"25000000\",\"50000000\",\"3000000\",\"5000000\",\"70000000\",\"500000000\",\"300000000\",\"21000000\",\"88000000\",\"30000000\",\"100000000\",\"100000000\",\"200000000\",\"80000000\",\"18400000\",\"45000000\",\"5121951220\",\"21000000\",\"26280000\",\"21000000\",\"18000000\",\"26000000\",\"10500000\",\"600000518\",\"150000000\",\"184000000000\",\"10200000000\",\"44000000\",\"168000000\",\"100000000\",\"1000000000\",\"84000000\",\"90000000\",\"92000000000\",\"650000000 \",\"100262205\",\"18081806 \",\"22075700\",\"21000000\",\"21000000\",\"82546564\",\"21000000\",\"5151000\",\"16880000000\",\"52500000\",\"100000000\",\"22105263\",\"1000000000\",\"1750000000\",\"88188888\",\"210000000\",\"184470000000\",\"55000000\",\"50000000\",\"260000000\",\"210000000\",\"2100000000\",\"366000000\",\"100000000\",\"25000000\",\"18000000000\",\"1000000000\",\"100000000\",\"1000000000\",\"7600000000\",\"50000000\",\"84000000\",\"21000000\",\"70000000000\",\"0\",\"8080000000\",\"54000000\",\"105120001.44\",\"25228800\",\"105000000\",\"21000000\",\"120000000\",\"21000000\",\"262800000\",\"19035999\",\"30886000\",\"13370000\",\"74800000000\",\"100000000\",\"19700000\",\"84000000\",\"500000000\",\"5000000000\",\"420000000\",\"64000000\",\"2100000\",\"168000000\",\"30000000\",\"1000000000\",\"35000000000\",\"98100000000\",\"0\",\"4000000000\",\"200000000\",\"7000000000\",\"54256119\",\"21000000\",\"0\",\"500000000\",\"1000000000\",\"10500000000\",\"190000000\",\"1000000000\",\"42000000\",\"15000000\",\"50000000000\",\"400000000\",\"105000000\",\"208000000\",\"160000000\",\"9000000\",\"5000000\",\"182000000\",\"16504333\",\"105000000\",\"159918400\",\"10008835635\",\"300000000\",\"60168145\",\"5000000000\",\"120000\",\"2100000000\",\"0\",\"24487944\",\"0\",\"1000000000\",\"100000000\",\"8634140\",\"990000000000\",\"1000000000\",\"2000000000\",\"250000000\",\"1400222610\",\"21000000\",\"1000000\"],\"TotalCoinsMined\":{\"__ndarray__\":\"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\",\"dtype\":\"float64\",\"shape\":[524]},\"class\":{\"__ndarray__\":\"AAAAAAAAAAAAAAAAAQAAAAEAAAABAAAAAAAAAAEAAAABAAAAAQAAAAAAAAAAAAAAAAAAAAEAAAAAAAAAAQAAAAEAAAAAAAAAAAAAAAEAAAABAAAAAQAAAAEAAAAAAAAAAQAAAAEAAAABAAAAAAAAAAEAAAAAAAAAAQAAAAEAAAAAAAAAAAAAAAEAAAABAAAAAQAAAAEAAAABAAAAAAAAAAAAAAABAAAAAQAAAAEAAAABAAAAAQAAAAAAAAAAAAAAAQAAAAAAAAABAAAAAQAAAAEAAAABAAAAAAAAAAEAAAABAAAAAAAAAAEAAAAAAAAAAAAAAAAAAAABAAAAAQAAAAEAAAAAAAAAAAAAAAAAAAAAAAAAAAAAAAEAAAABAAAAAQAAAAAAAAAAAAAAAQAAAAEAAAAAAAAAAAAAAAEAAAABAAAAAQAAAAEAAAAAAAAAAAAAAAEAAAAAAAAAAQAAAAEAAAAAAAAAAQAAAAAAAAAAAAAAAQAAAAEAAAAAAAAAAAAAAAEAAAAAAAAAAAAAAAEAAAAAAAAAAQAAAAAAAAABAAAAAAAAAAEAAAAAAAAAAAAAAAEAAAABAAAAAAAAAAEAAAABAAAAAAAAAAEAAAABAAAAAQAAAAEAAAABAAAAAAAAAAAAAAABAAAAAQAAAAEAAAAAAAAAAQAAAAAAAAABAAAAAQAAAAAAAAABAAAAAAAAAAEAAAAAAAAAAAAAAAEAAAABAAAAAAAAAAEAAAABAAAAAAAAAAAAAAABAAAAAAAAAAEAAAAAAAAAAAAAAAAAAAABAAAAAQAAAAEAAAABAAAAAAAAAAAAAAAAAAAAAAAAAAAAAAABAAAAAQAAAAAAAAAAAAAAAAAAAAAAAAAAAAAAAQAAAAAAAAAAAAAAAAAAAAAAAAAAAAAAAQAAAAAAAAABAAAAAAAAAAAAAAABAAAAAAAAAAEAAAAAAAAAAAAAAAAAAAABAAAAAAAAAAEAAAAAAAAAAQAAAAAAAAAAAAAAAAAAAAAAAAABAAAAAAAAAAAAAAAAAAAAAAAAAAAAAAABAAAAAQAAAAIAAAAAAAAAAQAAAAEAAAAAAAAAAAAAAAAAAAAAAAAAAAAAAAEAAAAAAAAAAAAAAAAAAAAAAAAAAAAAAAAAAAAAAAAAAAAAAAEAAAAAAAAAAAAAAAAAAAAAAAAAAAAAAAAAAAABAAAAAQAAAAEAAAAAAAAAAAAAAAAAAAAAAAAAAQAAAAAAAAABAAAAAAAAAAAAAAABAAAAAAAAAAEAAAABAAAAAAAAAAEAAAABAAAAAAAAAAEAAAAAAAAAAAAAAAAAAAABAAAAAAAAAAAAAAABAAAAAAAAAAAAAAAAAAAAAAAAAAAAAAAAAAAAAAAAAAEAAAAAAAAAAQAAAAAAAAAAAAAAAAAAAAAAAAABAAAAAAAAAAEAAAAAAAAAAQAAAAEAAAABAAAAAQAAAAAAAAABAAAAAAAAAAAAAAABAAAAAAAAAAEAAAABAAAAAQAAAAAAAAABAAAAAAAAAAEAAAABAAAAAQAAAAAAAAABAAAAAAAAAAEAAAAAAAAAAAAAAAIAAAABAAAAAAAAAAEAAAABAAAAAQAAAAEAAAABAAAAAAAAAAAAAAABAAAAAAAAAAAAAAAAAAAAAQAAAAAAAAABAAAAAAAAAAEAAAAAAAAAAQAAAAAAAAAAAAAAAAAAAAAAAAABAAAAAAAAAAAAAAABAAAAAAAAAAAAAAAAAAAAAQAAAAEAAAABAAAAAQAAAAAAAAACAAAAAAAAAAAAAAAAAAAAAQAAAAEAAAABAAAAAAAAAAAAAAABAAAAAQAAAAAAAAAAAAAAAQAAAAAAAAABAAAAAQAAAAEAAAAAAAAAAQAAAAEAAAAAAAAAAAAAAAAAAAABAAAAAQAAAAEAAAAAAAAAAAAAAAAAAAABAAAAAQAAAAAAAAABAAAAAQAAAAEAAAABAAAAAAAAAAMAAAADAAAAAQAAAAEAAAABAAAAAAAAAAMAAAAAAAAAAAAAAAAAAAAAAAAAAQAAAAEAAAABAAAAAQAAAAAAAAAAAAAAAAAAAAEAAAAAAAAAAQAAAAAAAAAAAAAAAAAAAAIAAAABAAAAAAAAAAAAAAABAAAAAAAAAAAAAAABAAAAAQAAAAAAAAABAAAAAAAAAAEAAAABAAAAAQAAAAEAAAAAAAAAAAAAAAEAAAAAAAAAAQAAAAAAAAAAAAAAAAAAAAAAAAAAAAAAAAAAAAEAAAABAAAAAQAAAAAAAAAAAAAAAAAAAAAAAAAAAAAAAAAAAAEAAAAAAAAAAQAAAAEAAAABAAAAAQAAAAAAAAAAAAAAAAAAAAAAAAABAAAAAAAAAAAAAAABAAAAAAAAAAAAAAABAAAAAwAAAAEAAAAAAAAAAQAAAAEAAAAAAAAAAAAAAAEAAAAAAAAAAQAAAAEAAAAAAAAAAQAAAAEAAAAAAAAAAQAAAAAAAAABAAAAAAAAAAAAAAABAAAAAAAAAAAAAAAAAAAAAAAAAAAAAAABAAAAAQAAAAEAAAAAAAAAAgAAAAAAAAABAAAAAAAAAAEAAAAAAAAAAQAAAAAAAAAAAAAAAAAAAAAAAAABAAAAAAAAAAAAAAAAAAAAAQAAAAAAAAABAAAAAAAAAAEAAAAAAAAAAAAAAAAAAAABAAAAAQAAAAAAAAAAAAAAAgAAAAAAAAAAAAAAAAAAAAAAAAAAAAAAAQAAAAIAAAABAAAAAgAAAAAAAAADAAAAAAAAAAIAAAAAAAAAAAAAAAAAAAABAAAAAQAAAAAAAAA=\",\"dtype\":\"int32\",\"shape\":[524]}},\"selected\":{\"id\":\"2034\"},\"selection_policy\":{\"id\":\"2067\"}},\"id\":\"2033\",\"type\":\"ColumnDataSource\"},{\"attributes\":{\"editor\":{\"id\":\"2051\"},\"field\":\"TotalCoinSupply\",\"formatter\":{\"id\":\"2050\"},\"title\":\"TotalCoinSupply\"},\"id\":\"2052\",\"type\":\"TableColumn\"},{\"attributes\":{\"editor\":{\"id\":\"2036\"},\"field\":\"CoinName\",\"formatter\":{\"id\":\"2035\"},\"title\":\"CoinName\"},\"id\":\"2037\",\"type\":\"TableColumn\"},{\"attributes\":{},\"id\":\"2061\",\"type\":\"IntEditor\"},{\"attributes\":{},\"id\":\"2056\",\"type\":\"NumberEditor\"},{\"attributes\":{\"editor\":{\"id\":\"2041\"},\"field\":\"Algorithm\",\"formatter\":{\"id\":\"2040\"},\"title\":\"Algorithm\"},\"id\":\"2042\",\"type\":\"TableColumn\"},{\"attributes\":{},\"id\":\"2034\",\"type\":\"Selection\"},{\"attributes\":{},\"id\":\"2050\",\"type\":\"StringFormatter\"},{\"attributes\":{},\"id\":\"2045\",\"type\":\"StringFormatter\"},{\"attributes\":{},\"id\":\"2060\",\"type\":\"NumberFormatter\"},{\"attributes\":{\"editor\":{\"id\":\"2046\"},\"field\":\"ProofType\",\"formatter\":{\"id\":\"2045\"},\"title\":\"ProofType\"},\"id\":\"2047\",\"type\":\"TableColumn\"},{\"attributes\":{\"editor\":{\"id\":\"2061\"},\"field\":\"class\",\"formatter\":{\"id\":\"2060\"},\"title\":\"class\"},\"id\":\"2062\",\"type\":\"TableColumn\"},{\"attributes\":{},\"id\":\"2041\",\"type\":\"StringEditor\"},{\"attributes\":{},\"id\":\"2051\",\"type\":\"StringEditor\"}],\"root_ids\":[\"2031\"]},\"title\":\"Bokeh Application\",\"version\":\"2.0.1\"}};\n",
       "  var render_items = [{\"docid\":\"a56a0571-0495-448c-bf99-9b6664216752\",\"root_ids\":[\"2031\"],\"roots\":{\"2031\":\"52adc4cf-ddf0-4a77-8eda-bd88eb9d0955\"}}];\n",
       "  root.Bokeh.embed.embed_items_notebook(docs_json, render_items);\n",
       "  }\n",
       "if (root.Bokeh !== undefined) {\n",
       "    embed_document(root);\n",
       "  } else {\n",
       "    var attempts = 0;\n",
       "    var timer = setInterval(function(root) {\n",
       "      if (root.Bokeh !== undefined) {\n",
       "        clearInterval(timer);\n",
       "        embed_document(root);\n",
       "      } else if (document.readyState == \"complete\") {\n",
       "        attempts++;\n",
       "        if (attempts > 100) {\n",
       "          clearInterval(timer);\n",
       "          console.log(\"Bokeh: ERROR: Unable to run BokehJS code because BokehJS library is missing\");\n",
       "        }\n",
       "      }\n",
       "    }, 10, root)\n",
       "  }\n",
       "})(window);</script>"
      ],
      "text/plain": [
       ":Table   [CoinName,Algorithm,ProofType,TotalCoinSupply,TotalCoinsMined,class]"
      ]
     },
     "execution_count": 76,
     "metadata": {
      "application/vnd.holoviews_exec.v0+json": {
       "id": "2031"
      }
     },
     "output_type": "execute_result"
    }
   ],
   "source": [
    "#Use hvplot.table to create a data table with all the current tradable cryptocurrencies\n",
    "#CoinName, Algorithm, ProofType, TotalCoinSupply, TotalCoinsMined, and Class\n",
    "\n",
    "\n",
    "clustered_df.hvplot.table(columns=['CoinName','Algorithm','ProofType','TotalCoinSupply','TotalCoinsMined','class'],width=400)\n"
   ]
  },
  {
   "cell_type": "code",
   "execution_count": 77,
   "metadata": {},
   "outputs": [
    {
     "data": {},
     "metadata": {},
     "output_type": "display_data"
    },
    {
     "data": {
      "application/vnd.holoviews_exec.v0+json": "",
      "text/html": [
       "<div id='2081'>\n",
       "\n",
       "\n",
       "\n",
       "\n",
       "\n",
       "  <div class=\"bk-root\" id=\"d4b91d6a-ee4f-48b9-bd52-c1f869008f6f\" data-root-id=\"2081\"></div>\n",
       "</div>\n",
       "<script type=\"application/javascript\">(function(root) {\n",
       "  function embed_document(root) {\n",
       "  var docs_json = {\"0fecb8b1-09a7-4d22-85ef-376c0edac4cc\":{\"roots\":{\"references\":[{\"attributes\":{\"overlay\":{\"id\":\"2110\"}},\"id\":\"2108\",\"type\":\"BoxZoomTool\"},{\"attributes\":{\"fill_alpha\":{\"value\":0.2},\"fill_color\":{\"value\":\"#2ba02b\"},\"line_alpha\":{\"value\":0.2},\"line_color\":{\"value\":\"#2ba02b\"},\"size\":{\"units\":\"screen\",\"value\":5.477225575051661},\"x\":{\"field\":\"TotalCoinsMined\"},\"y\":{\"field\":\"TotalCoinSupply\"}},\"id\":\"2160\",\"type\":\"Scatter\"},{\"attributes\":{\"active_drag\":\"auto\",\"active_inspect\":\"auto\",\"active_multi\":null,\"active_scroll\":\"auto\",\"active_tap\":\"auto\",\"tools\":[{\"id\":\"2085\"},{\"id\":\"2105\"},{\"id\":\"2106\"},{\"id\":\"2107\"},{\"id\":\"2108\"},{\"id\":\"2109\"}]},\"id\":\"2111\",\"type\":\"Toolbar\"},{\"attributes\":{\"data_source\":{\"id\":\"2155\"},\"glyph\":{\"id\":\"2158\"},\"hover_glyph\":null,\"muted_glyph\":{\"id\":\"2160\"},\"nonselection_glyph\":{\"id\":\"2159\"},\"selection_glyph\":null,\"view\":{\"id\":\"2162\"}},\"id\":\"2161\",\"type\":\"GlyphRenderer\"},{\"attributes\":{\"margin\":[5,5,5,5],\"name\":\"HSpacer04198\",\"sizing_mode\":\"stretch_width\"},\"id\":\"2082\",\"type\":\"Spacer\"},{\"attributes\":{\"text\":\"\",\"text_color\":{\"value\":\"black\"},\"text_font_size\":{\"value\":\"12pt\"}},\"id\":\"2090\",\"type\":\"Title\"},{\"attributes\":{},\"id\":\"2207\",\"type\":\"UnionRenderers\"},{\"attributes\":{},\"id\":\"2096\",\"type\":\"CategoricalScale\"},{\"attributes\":{\"data\":{\"TotalCoinSupply\":[\"5200000000\",\"840000000\",\"252460800\",\"1000000000\",\"100000000\"],\"TotalCoinsMined\":{\"__ndarray__\":\"8dd4J/5n2kGWsBp+eAbDQQAAAH40YKhBAAAAAGXNzUEAAAAAhNeXQQ==\",\"dtype\":\"float64\",\"shape\":[5]},\"class\":[3,3,3,3,3]},\"selected\":{\"id\":\"2175\"},\"selection_policy\":{\"id\":\"2207\"}},\"id\":\"2174\",\"type\":\"ColumnDataSource\"},{\"attributes\":{},\"id\":\"2103\",\"type\":\"CategoricalTicker\"},{\"attributes\":{},\"id\":\"2171\",\"type\":\"UnionRenderers\"},{\"attributes\":{\"axis\":{\"id\":\"2102\"},\"dimension\":1,\"grid_line_color\":null,\"ticker\":null},\"id\":\"2104\",\"type\":\"Grid\"},{\"attributes\":{\"data_source\":{\"id\":\"2174\"},\"glyph\":{\"id\":\"2177\"},\"hover_glyph\":null,\"muted_glyph\":{\"id\":\"2179\"},\"nonselection_glyph\":{\"id\":\"2178\"},\"selection_glyph\":null,\"view\":{\"id\":\"2181\"}},\"id\":\"2180\",\"type\":\"GlyphRenderer\"},{\"attributes\":{\"fill_alpha\":{\"value\":0.2},\"fill_color\":{\"value\":\"#1f77b3\"},\"line_alpha\":{\"value\":0.2},\"line_color\":{\"value\":\"#1f77b3\"},\"size\":{\"units\":\"screen\",\"value\":5.477225575051661},\"x\":{\"field\":\"TotalCoinsMined\"},\"y\":{\"field\":\"TotalCoinSupply\"}},\"id\":\"2127\",\"type\":\"Scatter\"},{\"attributes\":{},\"id\":\"2156\",\"type\":\"Selection\"},{\"attributes\":{\"source\":{\"id\":\"2122\"}},\"id\":\"2129\",\"type\":\"CDSView\"},{\"attributes\":{},\"id\":\"2118\",\"type\":\"BasicTickFormatter\"},{\"attributes\":{\"factors\":[\"42\",\"532000000\",\"314159265359\",\"22000000\",\"3600570502\",\"12500000\",\"350000000\",\"16768584\",\"0\",\"500000\",\"1000000\",\"40000000000\",\"4380000\",\"120000000\",\"100000000\",\"2419200000\",\"16180000\",\"3770000\",\"420000000\",\"98000000\",\"1000\",\"2300000000\",\"10000000\",\"1600000000\",\"5500000\",\"1000000000\",\"2158812800\",\"500000000\",\"68000000\",\"12000000\",\"20000000\",\"78000000\",\"5060000\",\"50000000\",\"26298000\",\"21000000\",\"26550000000\",\"10500000\",\"42000000\",\"221052632\",\"384000000\",\" 99000000000\",\"40000000\",\"2147483647\",\"75000000\",\"222725000\",\"525000000\",\"90000000\",\"139000000\",\"33500000\",\"2000000000\",\"44333333\",\"200000000\",\"657000000\",\"3000000\",\"3100000000\",\"20000000000\",\"74000000\",\"1500000000\",\"39999898\",\"2500124\",\"301000000\",\"7506000000\",\"30000000\",\"850000000\",\"3853326.77707314\",\"38540000 \",\"60000000\",\"33000000\",\"76500000\",\"28000000\",\"650659833\",\"5000000\",\"144000000\",\"32514916898\",\"13000000\",\"3315789\",\"15000000\",\"78835200\",\"9354000\",\"21933333\",\"55000000\",\"110000000\",\"14524851.4827\",\"34426423\",\"36900000\",\"110290030\",\"400000000\",\"21212121\",\"28600000\",\"75000000000\",\"105000000\",\"90000000000\",\"200084200\",\"50000000000\",\"18898187.6216583\",\"137500000\",\"9507271\",\"17405891.19707116\",\"61599965\",\"48252000\",\"4200000\",\"91388946\",\"45000000000\",\"27000000\",\"15733333\",\"24000000\",\"25000000000\",\"1200000000\",\"14788275.991\",\"9000000000\",\"30000000000\",\"210000000\",\"27716121\",\"150000000\",\"900000000\",\"4000000\",\"25000000\",\"1618033\",\"232000000\",\"800000000\",\"19340594\",\"124000000\",\"88000000\",\"80000000\",\"45000000\",\"5121951220\",\"26000000\",\"10200000000\",\"44000000\",\"84000000\",\"92000000000\",\"650000000 \",\"100262205\",\"18081806 \",\"82546564\",\"5151000\",\"16880000000\",\"52500000\",\"260000000\",\"366000000\",\"18000000000\",\"70000000000\",\"54000000\",\"19035999\",\"13370000\",\"74800000000\",\"19700000\",\"5000000000\",\"35000000000\",\"54256119\",\"10500000000\",\"190000000\",\"208000000\",\"160000000\",\"9000000\",\"16504333\",\"10008835635\",\"300000000\",\"60168145\",\"120000\",\"8634140\",\"250000000\",\"64000000\",\"384000000000\",\"169795588\",\"247000000\",\"48166000\",\"21000000 \",\"13140000\",\"18000000\",\"21000000000\",\"13500000000\",\"299792458\",\"32000000\",\"11235813\",\"336000000\",\"1420609614\",\"70000000\",\"72245700\",\"90600000000\",\"265420800\",\"1350000\",\"15000000000\",\"337000000\",\"51200000\",\"888000000\",\"47011968\",\"250000\",\"23000000\",\"184467440735\",\"10000000000\",\"105120000\",\"1680000000\",\"166386000\",\"2628000\",\"3371337\",\"1840000000\",\"619478\",\"65789100\",\"53760000\",\"210240000\",\"16906397\",\"16000000\",\"81962100\",\"21626280000 \",\"168351300\",\"616448\",\"9736000\",\"10638298\",\"21400000\",\"26205539\",\"228000000\",\"2714286\",\"9999999\",\"100000000000\",\"185000000\",\"3360000\",\"17000000\",\"100000000 \",\"2232901\",\"4000000000\",\"35520400\",\"2500000000\",\"72000000\",\"340282367\",\"19276800\",\" 75000000\",\"18900000\",\"200000000000\",\"1100000000\",\"88888888\",\"1800000000\",\"156306732.71\",\"280000000\",\"31800000\",\"85000000000\",\"550000000\",\"999481516\",\"4999999999\",\" 90000000000\",\"19800000\",\"20166000\",\"1000000000000\",\"16600000\",\"18406979840\",\"6500000000\",\"18400000\",\"26280000\",\"600000518\",\"184000000000\",\"168000000\",\"22075700\",\"22105263\",\"1750000000\",\"88188888\",\"184470000000\",\"2100000000\",\"7600000000\",\"8080000000\",\"105120001.44\",\"25228800\",\"262800000\",\"30886000\",\"2100000\",\"98100000000\",\"7000000000\",\"182000000\",\"24487944\",\"1400222610\",\"125000000\",\"86712634466\",\"159918400\",\"990000000000\",\"5200000000\",\"840000000\",\"252460800\"],\"tags\":[[[\"TotalCoinSupply\",\"TotalCoinSupply\",null]]]},\"id\":\"2084\",\"type\":\"FactorRange\"},{\"attributes\":{\"end\":1032670428767.6898,\"reset_end\":1032670428767.6898,\"reset_start\":-48599692876.008446,\"start\":-48599692876.008446,\"tags\":[[[\"TotalCoinsMined\",\"TotalCoinsMined\",null]]]},\"id\":\"2083\",\"type\":\"Range1d\"},{\"attributes\":{},\"id\":\"2105\",\"type\":\"SaveTool\"},{\"attributes\":{\"source\":{\"id\":\"2155\"}},\"id\":\"2162\",\"type\":\"CDSView\"},{\"attributes\":{\"children\":[{\"id\":\"2082\"},{\"id\":\"2089\"},{\"id\":\"2307\"}],\"margin\":[0,0,0,0],\"name\":\"Row04194\",\"tags\":[\"embedded\"]},\"id\":\"2081\",\"type\":\"Row\"},{\"attributes\":{\"fill_alpha\":{\"value\":0.1},\"fill_color\":{\"value\":\"#2ba02b\"},\"line_alpha\":{\"value\":0.1},\"line_color\":{\"value\":\"#2ba02b\"},\"size\":{\"units\":\"screen\",\"value\":5.477225575051661},\"x\":{\"field\":\"TotalCoinsMined\"},\"y\":{\"field\":\"TotalCoinSupply\"}},\"id\":\"2159\",\"type\":\"Scatter\"},{\"attributes\":{\"label\":{\"value\":\"0\"},\"renderers\":[{\"id\":\"2128\"}]},\"id\":\"2137\",\"type\":\"LegendItem\"},{\"attributes\":{\"margin\":[5,5,5,5],\"name\":\"HSpacer04199\",\"sizing_mode\":\"stretch_width\"},\"id\":\"2307\",\"type\":\"Spacer\"},{\"attributes\":{\"fill_alpha\":{\"value\":0.2},\"fill_color\":{\"value\":\"#ff7e0e\"},\"line_alpha\":{\"value\":0.2},\"line_color\":{\"value\":\"#ff7e0e\"},\"size\":{\"units\":\"screen\",\"value\":5.477225575051661},\"x\":{\"field\":\"TotalCoinsMined\"},\"y\":{\"field\":\"TotalCoinSupply\"}},\"id\":\"2143\",\"type\":\"Scatter\"},{\"attributes\":{\"source\":{\"id\":\"2174\"}},\"id\":\"2181\",\"type\":\"CDSView\"},{\"attributes\":{\"data_source\":{\"id\":\"2138\"},\"glyph\":{\"id\":\"2141\"},\"hover_glyph\":null,\"muted_glyph\":{\"id\":\"2143\"},\"nonselection_glyph\":{\"id\":\"2142\"},\"selection_glyph\":null,\"view\":{\"id\":\"2145\"}},\"id\":\"2144\",\"type\":\"GlyphRenderer\"},{\"attributes\":{},\"id\":\"2123\",\"type\":\"Selection\"},{\"attributes\":{\"fill_color\":{\"value\":\"#d62628\"},\"line_color\":{\"value\":\"#d62628\"},\"size\":{\"units\":\"screen\",\"value\":5.477225575051661},\"x\":{\"field\":\"TotalCoinsMined\"},\"y\":{\"field\":\"TotalCoinSupply\"}},\"id\":\"2177\",\"type\":\"Scatter\"},{\"attributes\":{},\"id\":\"2120\",\"type\":\"CategoricalTickFormatter\"},{\"attributes\":{},\"id\":\"2109\",\"type\":\"ResetTool\"},{\"attributes\":{\"fill_color\":{\"value\":\"#ff7e0e\"},\"line_color\":{\"value\":\"#ff7e0e\"},\"size\":{\"units\":\"screen\",\"value\":5.477225575051661},\"x\":{\"field\":\"TotalCoinsMined\"},\"y\":{\"field\":\"TotalCoinSupply\"}},\"id\":\"2141\",\"type\":\"Scatter\"},{\"attributes\":{\"align\":null,\"below\":[{\"id\":\"2098\"}],\"center\":[{\"id\":\"2101\"},{\"id\":\"2104\"}],\"left\":[{\"id\":\"2102\"}],\"margin\":null,\"min_border_bottom\":10,\"min_border_left\":10,\"min_border_right\":10,\"min_border_top\":10,\"plot_height\":300,\"plot_width\":700,\"renderers\":[{\"id\":\"2128\"},{\"id\":\"2144\"},{\"id\":\"2161\"},{\"id\":\"2180\"}],\"right\":[{\"id\":\"2136\"}],\"sizing_mode\":\"fixed\",\"title\":{\"id\":\"2090\"},\"toolbar\":{\"id\":\"2111\"},\"x_range\":{\"id\":\"2083\"},\"x_scale\":{\"id\":\"2094\"},\"y_range\":{\"id\":\"2084\"},\"y_scale\":{\"id\":\"2096\"}},\"id\":\"2089\",\"subtype\":\"Figure\",\"type\":\"Plot\"},{\"attributes\":{\"label\":{\"value\":\"3\"},\"renderers\":[{\"id\":\"2180\"}]},\"id\":\"2194\",\"type\":\"LegendItem\"},{\"attributes\":{\"data\":{\"TotalCoinSupply\":[\"21000000\",\"0\",\"84000000\",\"0\",\"210000000\",\"21000000\",\"21000000\",\"20000000\",\"64000000\",\"384000000000\",\"169795588\",\"250000000\",\"100000000\",\"247000000\",\"84000000\",\"48166000\",\"21000000 \",\"13140000\",\"18000000\",\"21000000000\",\"13500000000\",\"21000000 \",\"299792458\",\"32000000\",\"11235813\",\"336000000\",\"1420609614\",\"70000000\",\"72245700\",\"90600000000\",\"21000000\",\"265420800\",\"20000000\",\"1350000\",\"42000000\",\"200000000\",\"10000000\",\"15000000000\",\"21000000\",\"337000000\",\"21000000\",\"250000000\",\"51200000\",\"888000000\",\"47011968\",\"42000000\",\"80000000\",\"250000\",\"0\",\"23000000\",\"84000000\",\"265420800\",\"45000000\",\"184467440735\",\"10000000000\",\"105120000\",\"1680000000\",\"166386000\",\"2628000\",\"160000000\",\"1000000000\",\"1000000000\",\"0\",\"3371337\",\"10000000000\",\"1840000000\",\"619478\",\"21000000\",\"92000000000\",\"33000000\",\"65789100\",\"53760000\",\"21000000\",\"210240000\",\"250000000\",\"16906397\",\"0\",\"16000000\",\"21000000\",\"210000000\",\"81962100\",\"84000000\",\"21626280000 \",\"84000000\",\"30000000\",\"168351300\",\"24000000\",\"20000000\",\"25000000\",\"616448\",\"25000000\",\"200000000\",\"10000000\",\"9736000\",\"200000000\",\"10638298\",\"30000000\",\"21400000\",\"26205539\",\"21000000\",\"10000000000\",\"500000000\",\"228000000\",\"21000000\",\"2714286\",\"25000000\",\"9999999\",\"100000000000\",\"185000000\",\"3360000\",\"1000000000\",\"17000000\",\"100000000 \",\"21000000\",\"2232901\",\"4000000000\",\"48252000\",\"35520400\",\"2500000000\",\"72000000\",\"105000000\",\"0\",\"340282367\",\"30000000\",\"2000000000\",\"100000000\",\"19276800\",\" 75000000\",\"60000000\",\"18900000\",\"54000000\",\"21000000\",\"200000000000\",\"5000000000\",\"1100000000\",\"21000000\",\"10500000000\",\"0\",\"20000000\",\"84000000\",\"100000000\",\"100000000\",\"88888888\",\"21000000000\",\"1800000000\",\"27000000\",\"21000000\",\"156306732.71\",\"100000000\",\"350000000\",\"45000000\",\"280000000\",\"31800000\",\"85000000000\",\"12500000\",\"10000000000\",\"550000000\",\"999481516\",\"4999999999\",\" 90000000000\",\"19800000\",\"21000000\",\"500000000\",\"64000000\",\"23000000\",\"20166000\",\"23000000\",\"1000000000000\",\"16600000\",\"336000000\",\"10000000000\",\"100000000\",\"1100000000\",\"40000000\",\"18406979840\",\"500000000\",\"6500000000\",\"1000000000\",\"21000000\",\"25000000\",\"70000000\",\"300000000\",\"100000000\",\"18400000\",\"21000000\",\"26280000\",\"18000000\",\"10500000\",\"600000518\",\"150000000\",\"184000000000\",\"168000000\",\"1000000000\",\"22075700\",\"21000000\",\"21000000\",\"22105263\",\"1750000000\",\"88188888\",\"210000000\",\"184470000000\",\"2100000000\",\"25000000\",\"100000000\",\"7600000000\",\"84000000\",\"21000000\",\"8080000000\",\"105120001.44\",\"25228800\",\"21000000\",\"120000000\",\"262800000\",\"30886000\",\"100000000\",\"64000000\",\"2100000\",\"168000000\",\"98100000000\",\"4000000000\",\"7000000000\",\"1000000000\",\"42000000\",\"50000000000\",\"105000000\",\"5000000\",\"182000000\",\"2100000000\",\"24487944\",\"1400222610\",\"21000000\"],\"TotalCoinsMined\":{\"__ndarray__\":\"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\",\"dtype\":\"float64\",\"shape\":[231]},\"class\":[1,1,1,1,1,1,1,1,1,1,1,1,1,1,1,1,1,1,1,1,1,1,1,1,1,1,1,1,1,1,1,1,1,1,1,1,1,1,1,1,1,1,1,1,1,1,1,1,1,1,1,1,1,1,1,1,1,1,1,1,1,1,1,1,1,1,1,1,1,1,1,1,1,1,1,1,1,1,1,1,1,1,1,1,1,1,1,1,1,1,1,1,1,1,1,1,1,1,1,1,1,1,1,1,1,1,1,1,1,1,1,1,1,1,1,1,1,1,1,1,1,1,1,1,1,1,1,1,1,1,1,1,1,1,1,1,1,1,1,1,1,1,1,1,1,1,1,1,1,1,1,1,1,1,1,1,1,1,1,1,1,1,1,1,1,1,1,1,1,1,1,1,1,1,1,1,1,1,1,1,1,1,1,1,1,1,1,1,1,1,1,1,1,1,1,1,1,1,1,1,1,1,1,1,1,1,1,1,1,1,1,1,1,1,1,1,1,1,1,1,1,1,1,1,1,1,1,1,1,1,1]},\"selected\":{\"id\":\"2139\"},\"selection_policy\":{\"id\":\"2171\"}},\"id\":\"2138\",\"type\":\"ColumnDataSource\"},{\"attributes\":{\"data\":{\"TotalCoinSupply\":[\"125000000\",\"86712634466\",\"500000000\",\"100000000\",\"1000000000\",\"159918400\",\"0\",\"0\",\"990000000000\"],\"TotalCoinsMined\":{\"__ndarray__\":\"AAAAkCHMmUEAAKAzuNIpQmFvfsfpK7FBAAAAACvJMkEAAAAAZc3NQQAAALD1nJxB2T2JBSNqzkEUrtdyjLnQQcX0e579z2xC\",\"dtype\":\"float64\",\"shape\":[9]},\"class\":[2,2,2,2,2,2,2,2,2]},\"selected\":{\"id\":\"2156\"},\"selection_policy\":{\"id\":\"2192\"}},\"id\":\"2155\",\"type\":\"ColumnDataSource\"},{\"attributes\":{},\"id\":\"2139\",\"type\":\"Selection\"},{\"attributes\":{\"fill_color\":{\"value\":\"#2ba02b\"},\"line_color\":{\"value\":\"#2ba02b\"},\"size\":{\"units\":\"screen\",\"value\":5.477225575051661},\"x\":{\"field\":\"TotalCoinsMined\"},\"y\":{\"field\":\"TotalCoinSupply\"}},\"id\":\"2158\",\"type\":\"Scatter\"},{\"attributes\":{\"callback\":null,\"renderers\":[{\"id\":\"2128\"},{\"id\":\"2144\"},{\"id\":\"2161\"},{\"id\":\"2180\"}],\"tags\":[\"hv_created\"],\"tooltips\":[[\"class\",\"@{class}\"],[\"TotalCoinsMined\",\"@{TotalCoinsMined}\"],[\"TotalCoinSupply\",\"@{TotalCoinSupply}\"]]},\"id\":\"2085\",\"type\":\"HoverTool\"},{\"attributes\":{\"data\":{\"TotalCoinSupply\":[\"42\",\"532000000\",\"314159265359\",\"22000000\",\"3600570502\",\"22000000\",\"12500000\",\"350000000\",\"16768584\",\"0\",\"0\",\"500000\",\"1000000\",\"40000000000\",\"4380000\",\"0\",\"0\",\"120000000\",\"0\",\"22000000\",\"100000000\",\"0\",\"2419200000\",\"16180000\",\"0\",\"0\",\"3770000\",\"420000000\",\"98000000\",\"0\",\"0\",\"1000\",\"2300000000\",\"10000000\",\"1600000000\",\"100000000\",\"0\",\"5500000\",\"0\",\"1000000000\",\"2158812800\",\"500000000\",\"68000000\",\"0\",\"0\",\"12000000\",\"500000000\",\"0\",\"10000000\",\"20000000\",\"20000000\",\"0\",\"78000000\",\"5060000\",\"0\",\"100000000\",\"50000000\",\"1000000000\",\"26298000\",\"21000000\",\"22000000\",\"26550000000\",\"10500000\",\"0\",\"42000000\",\"221052632\",\"384000000\",\" 99000000000\",\"40000000\",\"2147483647\",\"20000000\",\"75000000\",\"222725000\",\"525000000\",\"90000000\",\"139000000\",\"33500000\",\"2000000000\",\"44333333\",\"100000000\",\"200000000\",\"657000000\",\"50000000\",\"90000000\",\"21000000\",\"3000000\",\"21000000\",\"0\",\"0\",\"3100000000\",\"20000000000\",\"74000000\",\"0\",\"1500000000\",\"39999898\",\"2500124\",\"100000000\",\"301000000\",\"7506000000\",\"30000000\",\"850000000\",\"3853326.77707314\",\"50000000\",\"38540000 \",\"42000000\",\"20000000\",\"60000000\",\"20000000\",\"33000000\",\"76500000\",\"28000000\",\"650659833\",\"5000000\",\"144000000\",\"32514916898\",\"13000000\",\"3315789\",\"15000000\",\"78835200\",\"500000000\",\"21000000\",\"9354000\",\"20000000\",\"21933333\",\"55000000\",\"110000000\",\"14524851.4827\",\"1000000000\",\"34426423\",\"100000000\",\"36900000\",\"110000000\",\"110290030\",\"100000000\",\"400000000\",\"500000000\",\"21212121\",\"28600000\",\"1000000000\",\"75000000000\",\"40000000\",\"2000000000\",\"30000000\",\"105000000\",\"90000000000\",\"200084200\",\"100000000\",\"50000000000\",\"10000000\",\"120000000\",\"100000000\",\"30000000\",\"50000000000\",\"18898187.6216583\",\"137500000\",\"100000000\",\"9507271\",\"17405891.19707116\",\"61599965\",\"48252000\",\"4200000\",\"91388946\",\"45000000000\",\"27000000\",\"400000000\",\"15733333\",\"24000000\",\"25000000000\",\"100000000\",\"1200000000\",\"60000000\",\"21000000\",\"200000000\",\"21000000\",\"14788275.991\",\"9000000000\",\"144000000\",\"30000000000\",\"210000000\",\"210000000\",\"27716121\",\"20000000\",\"50000000000\",\"150000000\",\"50000000\",\"120000000\",\"900000000\",\"4000000\",\"21000000\",\"25000000\",\"1618033\",\"30000000\",\"232000000\",\"800000000\",\"19340594\",\"25000000\",\"60000000\",\"124000000\",\"1000000000\",\"50000000\",\"3000000\",\"5000000\",\"500000000\",\"21000000\",\"88000000\",\"30000000\",\"200000000\",\"80000000\",\"45000000\",\"5121951220\",\"21000000\",\"26000000\",\"10200000000\",\"44000000\",\"100000000\",\"84000000\",\"90000000\",\"92000000000\",\"650000000 \",\"100262205\",\"18081806 \",\"82546564\",\"21000000\",\"5151000\",\"16880000000\",\"52500000\",\"100000000\",\"1000000000\",\"55000000\",\"50000000\",\"260000000\",\"210000000\",\"366000000\",\"100000000\",\"18000000000\",\"1000000000\",\"50000000\",\"70000000000\",\"0\",\"54000000\",\"105000000\",\"21000000\",\"19035999\",\"13370000\",\"74800000000\",\"19700000\",\"84000000\",\"500000000\",\"5000000000\",\"420000000\",\"30000000\",\"35000000000\",\"0\",\"200000000\",\"54256119\",\"21000000\",\"0\",\"500000000\",\"10500000000\",\"190000000\",\"1000000000\",\"15000000\",\"400000000\",\"208000000\",\"160000000\",\"9000000\",\"16504333\",\"105000000\",\"10008835635\",\"300000000\",\"60168145\",\"5000000000\",\"120000\",\"1000000000\",\"8634140\",\"1000000000\",\"2000000000\",\"250000000\",\"1000000\"],\"TotalCoinsMined\":{\"__ndarray__\":\"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\",\"dtype\":\"float64\",\"shape\":[279]},\"class\":[0,0,0,0,0,0,0,0,0,0,0,0,0,0,0,0,0,0,0,0,0,0,0,0,0,0,0,0,0,0,0,0,0,0,0,0,0,0,0,0,0,0,0,0,0,0,0,0,0,0,0,0,0,0,0,0,0,0,0,0,0,0,0,0,0,0,0,0,0,0,0,0,0,0,0,0,0,0,0,0,0,0,0,0,0,0,0,0,0,0,0,0,0,0,0,0,0,0,0,0,0,0,0,0,0,0,0,0,0,0,0,0,0,0,0,0,0,0,0,0,0,0,0,0,0,0,0,0,0,0,0,0,0,0,0,0,0,0,0,0,0,0,0,0,0,0,0,0,0,0,0,0,0,0,0,0,0,0,0,0,0,0,0,0,0,0,0,0,0,0,0,0,0,0,0,0,0,0,0,0,0,0,0,0,0,0,0,0,0,0,0,0,0,0,0,0,0,0,0,0,0,0,0,0,0,0,0,0,0,0,0,0,0,0,0,0,0,0,0,0,0,0,0,0,0,0,0,0,0,0,0,0,0,0,0,0,0,0,0,0,0,0,0,0,0,0,0,0,0,0,0,0,0,0,0,0,0,0,0,0,0,0,0,0,0,0,0,0,0,0,0,0,0,0,0,0,0,0,0]},\"selected\":{\"id\":\"2123\"},\"selection_policy\":{\"id\":\"2152\"}},\"id\":\"2122\",\"type\":\"ColumnDataSource\"},{\"attributes\":{\"fill_alpha\":{\"value\":0.1},\"fill_color\":{\"value\":\"#ff7e0e\"},\"line_alpha\":{\"value\":0.1},\"line_color\":{\"value\":\"#ff7e0e\"},\"size\":{\"units\":\"screen\",\"value\":5.477225575051661},\"x\":{\"field\":\"TotalCoinsMined\"},\"y\":{\"field\":\"TotalCoinSupply\"}},\"id\":\"2142\",\"type\":\"Scatter\"},{\"attributes\":{\"data_source\":{\"id\":\"2122\"},\"glyph\":{\"id\":\"2125\"},\"hover_glyph\":null,\"muted_glyph\":{\"id\":\"2127\"},\"nonselection_glyph\":{\"id\":\"2126\"},\"selection_glyph\":null,\"view\":{\"id\":\"2129\"}},\"id\":\"2128\",\"type\":\"GlyphRenderer\"},{\"attributes\":{\"label\":{\"value\":\"2\"},\"renderers\":[{\"id\":\"2161\"}]},\"id\":\"2173\",\"type\":\"LegendItem\"},{\"attributes\":{\"fill_alpha\":{\"value\":0.1},\"fill_color\":{\"value\":\"#1f77b3\"},\"line_alpha\":{\"value\":0.1},\"line_color\":{\"value\":\"#1f77b3\"},\"size\":{\"units\":\"screen\",\"value\":5.477225575051661},\"x\":{\"field\":\"TotalCoinsMined\"},\"y\":{\"field\":\"TotalCoinSupply\"}},\"id\":\"2126\",\"type\":\"Scatter\"},{\"attributes\":{},\"id\":\"2094\",\"type\":\"LinearScale\"},{\"attributes\":{\"axis\":{\"id\":\"2098\"},\"grid_line_color\":null,\"ticker\":null},\"id\":\"2101\",\"type\":\"Grid\"},{\"attributes\":{},\"id\":\"2175\",\"type\":\"Selection\"},{\"attributes\":{},\"id\":\"2107\",\"type\":\"WheelZoomTool\"},{\"attributes\":{\"source\":{\"id\":\"2138\"}},\"id\":\"2145\",\"type\":\"CDSView\"},{\"attributes\":{\"fill_alpha\":{\"value\":0.2},\"fill_color\":{\"value\":\"#d62628\"},\"line_alpha\":{\"value\":0.2},\"line_color\":{\"value\":\"#d62628\"},\"size\":{\"units\":\"screen\",\"value\":5.477225575051661},\"x\":{\"field\":\"TotalCoinsMined\"},\"y\":{\"field\":\"TotalCoinSupply\"}},\"id\":\"2179\",\"type\":\"Scatter\"},{\"attributes\":{},\"id\":\"2192\",\"type\":\"UnionRenderers\"},{\"attributes\":{\"axis_label\":\"TotalCoinsMined\",\"bounds\":\"auto\",\"formatter\":{\"id\":\"2118\"},\"major_label_orientation\":\"horizontal\",\"ticker\":{\"id\":\"2099\"}},\"id\":\"2098\",\"type\":\"LinearAxis\"},{\"attributes\":{\"axis_label\":\"TotalCoinSupply\",\"bounds\":\"auto\",\"formatter\":{\"id\":\"2120\"},\"major_label_orientation\":\"horizontal\",\"ticker\":{\"id\":\"2103\"}},\"id\":\"2102\",\"type\":\"CategoricalAxis\"},{\"attributes\":{},\"id\":\"2106\",\"type\":\"PanTool\"},{\"attributes\":{\"fill_color\":{\"value\":\"#1f77b3\"},\"line_color\":{\"value\":\"#1f77b3\"},\"size\":{\"units\":\"screen\",\"value\":5.477225575051661},\"x\":{\"field\":\"TotalCoinsMined\"},\"y\":{\"field\":\"TotalCoinSupply\"}},\"id\":\"2125\",\"type\":\"Scatter\"},{\"attributes\":{\"bottom_units\":\"screen\",\"fill_alpha\":0.5,\"fill_color\":\"lightgrey\",\"left_units\":\"screen\",\"level\":\"overlay\",\"line_alpha\":1.0,\"line_color\":\"black\",\"line_dash\":[4,4],\"line_width\":2,\"render_mode\":\"css\",\"right_units\":\"screen\",\"top_units\":\"screen\"},\"id\":\"2110\",\"type\":\"BoxAnnotation\"},{\"attributes\":{},\"id\":\"2099\",\"type\":\"BasicTicker\"},{\"attributes\":{\"label\":{\"value\":\"1\"},\"renderers\":[{\"id\":\"2144\"}]},\"id\":\"2154\",\"type\":\"LegendItem\"},{\"attributes\":{\"fill_alpha\":{\"value\":0.1},\"fill_color\":{\"value\":\"#d62628\"},\"line_alpha\":{\"value\":0.1},\"line_color\":{\"value\":\"#d62628\"},\"size\":{\"units\":\"screen\",\"value\":5.477225575051661},\"x\":{\"field\":\"TotalCoinsMined\"},\"y\":{\"field\":\"TotalCoinSupply\"}},\"id\":\"2178\",\"type\":\"Scatter\"},{\"attributes\":{},\"id\":\"2152\",\"type\":\"UnionRenderers\"},{\"attributes\":{\"click_policy\":\"mute\",\"items\":[{\"id\":\"2137\"},{\"id\":\"2154\"},{\"id\":\"2173\"},{\"id\":\"2194\"}],\"location\":[0,0],\"title\":\"class\"},\"id\":\"2136\",\"type\":\"Legend\"}],\"root_ids\":[\"2081\"]},\"title\":\"Bokeh Application\",\"version\":\"2.0.1\"}};\n",
       "  var render_items = [{\"docid\":\"0fecb8b1-09a7-4d22-85ef-376c0edac4cc\",\"root_ids\":[\"2081\"],\"roots\":{\"2081\":\"d4b91d6a-ee4f-48b9-bd52-c1f869008f6f\"}}];\n",
       "  root.Bokeh.embed.embed_items_notebook(docs_json, render_items);\n",
       "  }\n",
       "if (root.Bokeh !== undefined) {\n",
       "    embed_document(root);\n",
       "  } else {\n",
       "    var attempts = 0;\n",
       "    var timer = setInterval(function(root) {\n",
       "      if (root.Bokeh !== undefined) {\n",
       "        clearInterval(timer);\n",
       "        embed_document(root);\n",
       "      } else if (document.readyState == \"complete\") {\n",
       "        attempts++;\n",
       "        if (attempts > 100) {\n",
       "          clearInterval(timer);\n",
       "          console.log(\"Bokeh: ERROR: Unable to run BokehJS code because BokehJS library is missing\");\n",
       "        }\n",
       "      }\n",
       "    }, 10, root)\n",
       "  }\n",
       "})(window);</script>"
      ],
      "text/plain": [
       ":NdOverlay   [class]\n",
       "   :Scatter   [TotalCoinsMined]   (TotalCoinSupply)"
      ]
     },
     "execution_count": 77,
     "metadata": {
      "application/vnd.holoviews_exec.v0+json": {
       "id": "2081"
      }
     },
     "output_type": "execute_result"
    }
   ],
   "source": [
    "#Create a scatter plot using hvplot.scatter \n",
    "#having x=\"TotalCoinsMined\" and y=\"TotalCoinSupply\"\n",
    "\n",
    "# Add a new class column to the df_iris\n",
    "clustered_df.hvplot.scatter(x=\"TotalCoinsMined\", y=\"TotalCoinSupply\",by=\"class\")"
   ]
  },
  {
   "cell_type": "code",
   "execution_count": null,
   "metadata": {},
   "outputs": [],
   "source": []
  }
 ],
 "metadata": {
  "kernelspec": {
   "display_name": "PythonData",
   "language": "python",
   "name": "pythondata"
  },
  "language_info": {
   "codemirror_mode": {
    "name": "ipython",
    "version": 3
   },
   "file_extension": ".py",
   "mimetype": "text/x-python",
   "name": "python",
   "nbconvert_exporter": "python",
   "pygments_lexer": "ipython3",
   "version": "3.7.6"
  }
 },
 "nbformat": 4,
 "nbformat_minor": 4
}
